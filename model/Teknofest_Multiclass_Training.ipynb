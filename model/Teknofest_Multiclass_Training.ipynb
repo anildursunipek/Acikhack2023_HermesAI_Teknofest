{
  "nbformat": 4,
  "nbformat_minor": 0,
  "metadata": {
    "colab": {
      "provenance": []
    },
    "kernelspec": {
      "name": "python3",
      "display_name": "Python 3"
    },
    "language_info": {
      "name": "python"
    },
    "accelerator": "GPU",
    "gpuClass": "standard"
  },
  "cells": [
    {
      "cell_type": "code",
      "source": [
        "!pip install transformers evaluate"
      ],
      "metadata": {
        "id": "T_pmQCDxwiu-"
      },
      "execution_count": null,
      "outputs": []
    },
    {
      "cell_type": "code",
      "execution_count": null,
      "metadata": {
        "id": "elkek-1BwNpa"
      },
      "outputs": [],
      "source": [
        "import pandas as pd\n",
        "import os\n",
        "import numpy as np\n",
        "import torch\n",
        "import evaluate\n",
        "\n",
        "from transformers import AutoTokenizer, AutoModelForSequenceClassification\n",
        "from transformers import Trainer, TrainingArguments\n",
        "from torch.utils.data import Dataset\n",
        "\n",
        "############################ FILE PATHS ########################################\n",
        "DATA_PATH = \"/content/teknofest_preprocessed_data_5fold.csv\"\n",
        "TEST_FOLD = 4\n",
        "VALID_FOLD = 3\n",
        "\n",
        "############################## PARAMS ##########################################\n",
        "MAX_LENGTH = 32\n",
        "#MODEL_NAME = \"dbmdz/bert-base-turkish-uncased\" # since the text is lowercased.\n",
        "#MODEL_NAME = \"dbmdz/bert-base-turkish-128k-uncased\"\n",
        "#MODEL_NAME = \"dbmdz/convbert-base-turkish-mc4-uncased\"\n",
        "MODEL_NAME = \"emrecan/bert-base-turkish-cased-mean-nli-stsb-tr\"\n",
        "#MODEL_NAME = \"burakaytan/roberta-base-turkish-uncased\"\n",
        "#MODEL_NAME = \"dbmdz/electra-base-turkish-cased-discriminator\"\n",
        "TRAIN_BATCH_SIZE = 32\n",
        "VALID_BATCH_SIZE = 64\n",
        "NUM_TRAIN_EPOCHS = 5\n",
        "WEIGHT_DECAY = 0.01\n",
        "DEVICE = \"cuda\"\n",
        "SEED = 2023\n",
        "EVALUATION_STRATEGY = \"epoch\"\n",
        "SAVE_STRATEGY = \"epoch\"\n",
        "LEARNING_RATE = 1e-5\n",
        "OUTPUT_DIR = \"bert-base-turkish-cased-mean-nli-stsb-tr-5fold-32maxl-32tb-64vb-5ep-001wd-1e5lr-3validfold-4testfold-corrected-misslabels\"\n",
        "\n",
        "########################### UTILITY ############################################\n",
        "\n",
        "\n",
        "class ProfanityDataset(Dataset):\n",
        "    def __init__(self, encodings, labels):\n",
        "        self.encodings = encodings\n",
        "        self.labels = labels\n",
        "\n",
        "    def __getitem__(self, idx):\n",
        "        item = {k: torch.tensor(v[idx]) for k, v in self.encodings.items()}\n",
        "        item[\"labels\"] = torch.tensor([self.labels[idx]])\n",
        "        return item\n",
        "\n",
        "    def __len__(self):\n",
        "        return len(self.labels)\n",
        "\n",
        "def set_seed(seed=42):\n",
        "    '''Sets the seed of the entire notebook so results are the same every time we run.\n",
        "    This is for REPRODUCIBILITY.'''\n",
        "    np.random.seed(seed)\n",
        "    torch.manual_seed(seed)\n",
        "    torch.cuda.manual_seed(seed)\n",
        "    # When running on the CuDNN backend, two further options must be set\n",
        "    torch.backends.cudnn.deterministic = True\n",
        "    torch.backends.cudnn.benchmark = False\n",
        "    # Set a fixed value for the hash seed\n",
        "    os.environ['PYTHONHASHSEED'] = str(seed)\n",
        "\n",
        "\n",
        "def compute_metrics(eval_pred):\n",
        "    predictions, labels = eval_pred\n",
        "    predictions = np.argmax(predictions, axis=1)\n",
        "    return {\"accuracy\":accuracy.compute(predictions=predictions, references=labels),\n",
        "            \"f1_score\":f1.compute(predictions=predictions, references=labels, average=\"macro\")\n",
        "      }\n",
        "\n",
        "set_seed(SEED)\n",
        "\n",
        "accuracy = evaluate.load(\"accuracy\")\n",
        "f1 = evaluate.load(\"f1\")\n",
        "tokenizer = AutoTokenizer.from_pretrained(MODEL_NAME)\n"
      ]
    },
    {
      "cell_type": "code",
      "source": [
        "all_df = pd.read_csv(DATA_PATH)"
      ],
      "metadata": {
        "id": "33qpi6q7Q3mr"
      },
      "execution_count": null,
      "outputs": []
    },
    {
      "cell_type": "code",
      "source": [
        "train_df = all_df[~all_df.kfold.isin([TEST_FOLD, VALID_FOLD])]\n",
        "val_df = all_df[all_df.kfold.isin([VALID_FOLD])]\n",
        "test_df = all_df[all_df.kfold.isin([TEST_FOLD])]"
      ],
      "metadata": {
        "id": "a9B_bRYKQ7sQ"
      },
      "execution_count": null,
      "outputs": []
    },
    {
      "cell_type": "code",
      "source": [
        "train_df.shape, val_df.shape, test_df.shape"
      ],
      "metadata": {
        "colab": {
          "base_uri": "https://localhost:8080/"
        },
        "id": "b7cLJrirv8pe",
        "outputId": "0631c473-eaa7-4070-d3f5-859801d0c989"
      },
      "execution_count": null,
      "outputs": [
        {
          "output_type": "execute_result",
          "data": {
            "text/plain": [
              "((7477, 5), (2492, 5), (2492, 5))"
            ]
          },
          "metadata": {},
          "execution_count": 65
        }
      ]
    },
    {
      "cell_type": "code",
      "source": [
        "train_df.sample()"
      ],
      "metadata": {
        "colab": {
          "base_uri": "https://localhost:8080/",
          "height": 81
        },
        "id": "soDgmd96cwKf",
        "outputId": "88827ca9-61f6-4cab-a109-e01f82060c60"
      },
      "execution_count": null,
      "outputs": [
        {
          "output_type": "execute_result",
          "data": {
            "text/plain": [
              "                                        id  \\\n",
              "8285  2447b26b-4370-4928-b151-5df76ae1b738   \n",
              "\n",
              "                                     text  is_offensive     target  kfold  \n",
              "8285  siktir boktan işlere girmemek lazım             1  PROFANITY      2  "
            ],
            "text/html": [
              "\n",
              "  <div id=\"df-d062937d-558f-4e12-9b05-538d6daec4e1\">\n",
              "    <div class=\"colab-df-container\">\n",
              "      <div>\n",
              "<style scoped>\n",
              "    .dataframe tbody tr th:only-of-type {\n",
              "        vertical-align: middle;\n",
              "    }\n",
              "\n",
              "    .dataframe tbody tr th {\n",
              "        vertical-align: top;\n",
              "    }\n",
              "\n",
              "    .dataframe thead th {\n",
              "        text-align: right;\n",
              "    }\n",
              "</style>\n",
              "<table border=\"1\" class=\"dataframe\">\n",
              "  <thead>\n",
              "    <tr style=\"text-align: right;\">\n",
              "      <th></th>\n",
              "      <th>id</th>\n",
              "      <th>text</th>\n",
              "      <th>is_offensive</th>\n",
              "      <th>target</th>\n",
              "      <th>kfold</th>\n",
              "    </tr>\n",
              "  </thead>\n",
              "  <tbody>\n",
              "    <tr>\n",
              "      <th>8285</th>\n",
              "      <td>2447b26b-4370-4928-b151-5df76ae1b738</td>\n",
              "      <td>siktir boktan işlere girmemek lazım</td>\n",
              "      <td>1</td>\n",
              "      <td>PROFANITY</td>\n",
              "      <td>2</td>\n",
              "    </tr>\n",
              "  </tbody>\n",
              "</table>\n",
              "</div>\n",
              "      <button class=\"colab-df-convert\" onclick=\"convertToInteractive('df-d062937d-558f-4e12-9b05-538d6daec4e1')\"\n",
              "              title=\"Convert this dataframe to an interactive table.\"\n",
              "              style=\"display:none;\">\n",
              "        \n",
              "  <svg xmlns=\"http://www.w3.org/2000/svg\" height=\"24px\"viewBox=\"0 0 24 24\"\n",
              "       width=\"24px\">\n",
              "    <path d=\"M0 0h24v24H0V0z\" fill=\"none\"/>\n",
              "    <path d=\"M18.56 5.44l.94 2.06.94-2.06 2.06-.94-2.06-.94-.94-2.06-.94 2.06-2.06.94zm-11 1L8.5 8.5l.94-2.06 2.06-.94-2.06-.94L8.5 2.5l-.94 2.06-2.06.94zm10 10l.94 2.06.94-2.06 2.06-.94-2.06-.94-.94-2.06-.94 2.06-2.06.94z\"/><path d=\"M17.41 7.96l-1.37-1.37c-.4-.4-.92-.59-1.43-.59-.52 0-1.04.2-1.43.59L10.3 9.45l-7.72 7.72c-.78.78-.78 2.05 0 2.83L4 21.41c.39.39.9.59 1.41.59.51 0 1.02-.2 1.41-.59l7.78-7.78 2.81-2.81c.8-.78.8-2.07 0-2.86zM5.41 20L4 18.59l7.72-7.72 1.47 1.35L5.41 20z\"/>\n",
              "  </svg>\n",
              "      </button>\n",
              "      \n",
              "  <style>\n",
              "    .colab-df-container {\n",
              "      display:flex;\n",
              "      flex-wrap:wrap;\n",
              "      gap: 12px;\n",
              "    }\n",
              "\n",
              "    .colab-df-convert {\n",
              "      background-color: #E8F0FE;\n",
              "      border: none;\n",
              "      border-radius: 50%;\n",
              "      cursor: pointer;\n",
              "      display: none;\n",
              "      fill: #1967D2;\n",
              "      height: 32px;\n",
              "      padding: 0 0 0 0;\n",
              "      width: 32px;\n",
              "    }\n",
              "\n",
              "    .colab-df-convert:hover {\n",
              "      background-color: #E2EBFA;\n",
              "      box-shadow: 0px 1px 2px rgba(60, 64, 67, 0.3), 0px 1px 3px 1px rgba(60, 64, 67, 0.15);\n",
              "      fill: #174EA6;\n",
              "    }\n",
              "\n",
              "    [theme=dark] .colab-df-convert {\n",
              "      background-color: #3B4455;\n",
              "      fill: #D2E3FC;\n",
              "    }\n",
              "\n",
              "    [theme=dark] .colab-df-convert:hover {\n",
              "      background-color: #434B5C;\n",
              "      box-shadow: 0px 1px 3px 1px rgba(0, 0, 0, 0.15);\n",
              "      filter: drop-shadow(0px 1px 2px rgba(0, 0, 0, 0.3));\n",
              "      fill: #FFFFFF;\n",
              "    }\n",
              "  </style>\n",
              "\n",
              "      <script>\n",
              "        const buttonEl =\n",
              "          document.querySelector('#df-d062937d-558f-4e12-9b05-538d6daec4e1 button.colab-df-convert');\n",
              "        buttonEl.style.display =\n",
              "          google.colab.kernel.accessAllowed ? 'block' : 'none';\n",
              "\n",
              "        async function convertToInteractive(key) {\n",
              "          const element = document.querySelector('#df-d062937d-558f-4e12-9b05-538d6daec4e1');\n",
              "          const dataTable =\n",
              "            await google.colab.kernel.invokeFunction('convertToInteractive',\n",
              "                                                     [key], {});\n",
              "          if (!dataTable) return;\n",
              "\n",
              "          const docLinkHtml = 'Like what you see? Visit the ' +\n",
              "            '<a target=\"_blank\" href=https://colab.research.google.com/notebooks/data_table.ipynb>data table notebook</a>'\n",
              "            + ' to learn more about interactive tables.';\n",
              "          element.innerHTML = '';\n",
              "          dataTable['output_type'] = 'display_data';\n",
              "          await google.colab.output.renderOutput(dataTable, element);\n",
              "          const docLink = document.createElement('div');\n",
              "          docLink.innerHTML = docLinkHtml;\n",
              "          element.appendChild(docLink);\n",
              "        }\n",
              "      </script>\n",
              "    </div>\n",
              "  </div>\n",
              "  "
            ]
          },
          "metadata": {},
          "execution_count": 66
        }
      ]
    },
    {
      "cell_type": "code",
      "source": [
        "train_misslabeled = pd.read_excel(\"train_misslabeled_fixed.xlsx\")\n",
        "train_misslabeled.drop(columns=[\"label\",\"score\"], inplace=True)\n",
        "train_misslabeled.rename(columns={\"gold\":\"target\"}, inplace=True)\n",
        "train_misslabeled"
      ],
      "metadata": {
        "colab": {
          "base_uri": "https://localhost:8080/",
          "height": 423
        },
        "id": "l7rt0TMjbkau",
        "outputId": "ecbb3f06-4f07-45a7-82d4-8a0f09086ada"
      },
      "execution_count": null,
      "outputs": [
        {
          "output_type": "execute_result",
          "data": {
            "text/plain": [
              "                                                  text     target  \\\n",
              "0                              adamın son iki harfisin  PROFANITY   \n",
              "1               elinin hamuruyla işi becerebilir misin     SEXIST   \n",
              "2                  üzerindeki elbiseyi kızılay dağıttı     INSULT   \n",
              "3                           ermeni yapıları var burada      OTHER   \n",
              "4                 kadar kabullenmesen iş böyle yapılır      OTHER   \n",
              "..                                                 ...        ...   \n",
              "137  hayvan diyorum yarısı hayvandı adı eskiden anı...      OTHER   \n",
              "138  istanbulda kadına çocuğa hayvana şiddet sokağa...      OTHER   \n",
              "139                     yanlarında ermeni papaz vardır      OTHER   \n",
              "140  kadın dindar tatlı dilli artık onun güzelliğin...      OTHER   \n",
              "141  kimse aldırmasa yollardan geçmiş yahudiler var...      OTHER   \n",
              "\n",
              "    corrected_label  \n",
              "0           DELETED  \n",
              "1            SEXIST  \n",
              "2            INSULT  \n",
              "3             OTHER  \n",
              "4             OTHER  \n",
              "..              ...  \n",
              "137         DELETED  \n",
              "138           OTHER  \n",
              "139           OTHER  \n",
              "140           OTHER  \n",
              "141           OTHER  \n",
              "\n",
              "[142 rows x 3 columns]"
            ],
            "text/html": [
              "\n",
              "  <div id=\"df-f019b0e7-f100-4548-948b-824d72275270\">\n",
              "    <div class=\"colab-df-container\">\n",
              "      <div>\n",
              "<style scoped>\n",
              "    .dataframe tbody tr th:only-of-type {\n",
              "        vertical-align: middle;\n",
              "    }\n",
              "\n",
              "    .dataframe tbody tr th {\n",
              "        vertical-align: top;\n",
              "    }\n",
              "\n",
              "    .dataframe thead th {\n",
              "        text-align: right;\n",
              "    }\n",
              "</style>\n",
              "<table border=\"1\" class=\"dataframe\">\n",
              "  <thead>\n",
              "    <tr style=\"text-align: right;\">\n",
              "      <th></th>\n",
              "      <th>text</th>\n",
              "      <th>target</th>\n",
              "      <th>corrected_label</th>\n",
              "    </tr>\n",
              "  </thead>\n",
              "  <tbody>\n",
              "    <tr>\n",
              "      <th>0</th>\n",
              "      <td>adamın son iki harfisin</td>\n",
              "      <td>PROFANITY</td>\n",
              "      <td>DELETED</td>\n",
              "    </tr>\n",
              "    <tr>\n",
              "      <th>1</th>\n",
              "      <td>elinin hamuruyla işi becerebilir misin</td>\n",
              "      <td>SEXIST</td>\n",
              "      <td>SEXIST</td>\n",
              "    </tr>\n",
              "    <tr>\n",
              "      <th>2</th>\n",
              "      <td>üzerindeki elbiseyi kızılay dağıttı</td>\n",
              "      <td>INSULT</td>\n",
              "      <td>INSULT</td>\n",
              "    </tr>\n",
              "    <tr>\n",
              "      <th>3</th>\n",
              "      <td>ermeni yapıları var burada</td>\n",
              "      <td>OTHER</td>\n",
              "      <td>OTHER</td>\n",
              "    </tr>\n",
              "    <tr>\n",
              "      <th>4</th>\n",
              "      <td>kadar kabullenmesen iş böyle yapılır</td>\n",
              "      <td>OTHER</td>\n",
              "      <td>OTHER</td>\n",
              "    </tr>\n",
              "    <tr>\n",
              "      <th>...</th>\n",
              "      <td>...</td>\n",
              "      <td>...</td>\n",
              "      <td>...</td>\n",
              "    </tr>\n",
              "    <tr>\n",
              "      <th>137</th>\n",
              "      <td>hayvan diyorum yarısı hayvandı adı eskiden anı...</td>\n",
              "      <td>OTHER</td>\n",
              "      <td>DELETED</td>\n",
              "    </tr>\n",
              "    <tr>\n",
              "      <th>138</th>\n",
              "      <td>istanbulda kadına çocuğa hayvana şiddet sokağa...</td>\n",
              "      <td>OTHER</td>\n",
              "      <td>OTHER</td>\n",
              "    </tr>\n",
              "    <tr>\n",
              "      <th>139</th>\n",
              "      <td>yanlarında ermeni papaz vardır</td>\n",
              "      <td>OTHER</td>\n",
              "      <td>OTHER</td>\n",
              "    </tr>\n",
              "    <tr>\n",
              "      <th>140</th>\n",
              "      <td>kadın dindar tatlı dilli artık onun güzelliğin...</td>\n",
              "      <td>OTHER</td>\n",
              "      <td>OTHER</td>\n",
              "    </tr>\n",
              "    <tr>\n",
              "      <th>141</th>\n",
              "      <td>kimse aldırmasa yollardan geçmiş yahudiler var...</td>\n",
              "      <td>OTHER</td>\n",
              "      <td>OTHER</td>\n",
              "    </tr>\n",
              "  </tbody>\n",
              "</table>\n",
              "<p>142 rows × 3 columns</p>\n",
              "</div>\n",
              "      <button class=\"colab-df-convert\" onclick=\"convertToInteractive('df-f019b0e7-f100-4548-948b-824d72275270')\"\n",
              "              title=\"Convert this dataframe to an interactive table.\"\n",
              "              style=\"display:none;\">\n",
              "        \n",
              "  <svg xmlns=\"http://www.w3.org/2000/svg\" height=\"24px\"viewBox=\"0 0 24 24\"\n",
              "       width=\"24px\">\n",
              "    <path d=\"M0 0h24v24H0V0z\" fill=\"none\"/>\n",
              "    <path d=\"M18.56 5.44l.94 2.06.94-2.06 2.06-.94-2.06-.94-.94-2.06-.94 2.06-2.06.94zm-11 1L8.5 8.5l.94-2.06 2.06-.94-2.06-.94L8.5 2.5l-.94 2.06-2.06.94zm10 10l.94 2.06.94-2.06 2.06-.94-2.06-.94-.94-2.06-.94 2.06-2.06.94z\"/><path d=\"M17.41 7.96l-1.37-1.37c-.4-.4-.92-.59-1.43-.59-.52 0-1.04.2-1.43.59L10.3 9.45l-7.72 7.72c-.78.78-.78 2.05 0 2.83L4 21.41c.39.39.9.59 1.41.59.51 0 1.02-.2 1.41-.59l7.78-7.78 2.81-2.81c.8-.78.8-2.07 0-2.86zM5.41 20L4 18.59l7.72-7.72 1.47 1.35L5.41 20z\"/>\n",
              "  </svg>\n",
              "      </button>\n",
              "      \n",
              "  <style>\n",
              "    .colab-df-container {\n",
              "      display:flex;\n",
              "      flex-wrap:wrap;\n",
              "      gap: 12px;\n",
              "    }\n",
              "\n",
              "    .colab-df-convert {\n",
              "      background-color: #E8F0FE;\n",
              "      border: none;\n",
              "      border-radius: 50%;\n",
              "      cursor: pointer;\n",
              "      display: none;\n",
              "      fill: #1967D2;\n",
              "      height: 32px;\n",
              "      padding: 0 0 0 0;\n",
              "      width: 32px;\n",
              "    }\n",
              "\n",
              "    .colab-df-convert:hover {\n",
              "      background-color: #E2EBFA;\n",
              "      box-shadow: 0px 1px 2px rgba(60, 64, 67, 0.3), 0px 1px 3px 1px rgba(60, 64, 67, 0.15);\n",
              "      fill: #174EA6;\n",
              "    }\n",
              "\n",
              "    [theme=dark] .colab-df-convert {\n",
              "      background-color: #3B4455;\n",
              "      fill: #D2E3FC;\n",
              "    }\n",
              "\n",
              "    [theme=dark] .colab-df-convert:hover {\n",
              "      background-color: #434B5C;\n",
              "      box-shadow: 0px 1px 3px 1px rgba(0, 0, 0, 0.15);\n",
              "      filter: drop-shadow(0px 1px 2px rgba(0, 0, 0, 0.3));\n",
              "      fill: #FFFFFF;\n",
              "    }\n",
              "  </style>\n",
              "\n",
              "      <script>\n",
              "        const buttonEl =\n",
              "          document.querySelector('#df-f019b0e7-f100-4548-948b-824d72275270 button.colab-df-convert');\n",
              "        buttonEl.style.display =\n",
              "          google.colab.kernel.accessAllowed ? 'block' : 'none';\n",
              "\n",
              "        async function convertToInteractive(key) {\n",
              "          const element = document.querySelector('#df-f019b0e7-f100-4548-948b-824d72275270');\n",
              "          const dataTable =\n",
              "            await google.colab.kernel.invokeFunction('convertToInteractive',\n",
              "                                                     [key], {});\n",
              "          if (!dataTable) return;\n",
              "\n",
              "          const docLinkHtml = 'Like what you see? Visit the ' +\n",
              "            '<a target=\"_blank\" href=https://colab.research.google.com/notebooks/data_table.ipynb>data table notebook</a>'\n",
              "            + ' to learn more about interactive tables.';\n",
              "          element.innerHTML = '';\n",
              "          dataTable['output_type'] = 'display_data';\n",
              "          await google.colab.output.renderOutput(dataTable, element);\n",
              "          const docLink = document.createElement('div');\n",
              "          docLink.innerHTML = docLinkHtml;\n",
              "          element.appendChild(docLink);\n",
              "        }\n",
              "      </script>\n",
              "    </div>\n",
              "  </div>\n",
              "  "
            ]
          },
          "metadata": {},
          "execution_count": 67
        }
      ]
    },
    {
      "cell_type": "code",
      "source": [
        "train_df = train_df.merge(train_misslabeled, on=[\"text\",\"target\"],how=\"left\")"
      ],
      "metadata": {
        "id": "EgFpN8jdey9Q"
      },
      "execution_count": null,
      "outputs": []
    },
    {
      "cell_type": "code",
      "source": [
        "train_df.loc[~train_df['corrected_label'].isna(), 'target'] = train_df.loc[~train_df['corrected_label'].isna(), 'corrected_label']"
      ],
      "metadata": {
        "id": "UyHkgV6IgAc7"
      },
      "execution_count": null,
      "outputs": []
    },
    {
      "cell_type": "code",
      "source": [
        "train_df.target.value_counts()"
      ],
      "metadata": {
        "colab": {
          "base_uri": "https://localhost:8080/"
        },
        "id": "ULLQjY20grqZ",
        "outputId": "e5616797-4aaf-450e-8025-c45268b6fbb3"
      },
      "execution_count": null,
      "outputs": [
        {
          "output_type": "execute_result",
          "data": {
            "text/plain": [
              "OTHER        2147\n",
              "INSULT       1438\n",
              "PROFANITY    1419\n",
              "SEXIST       1245\n",
              "RACIST       1221\n",
              "DELETED         7\n",
              "Name: target, dtype: int64"
            ]
          },
          "metadata": {},
          "execution_count": 70
        }
      ]
    },
    {
      "cell_type": "code",
      "source": [
        "train_df = train_df[train_df.target != \"DELETED\"]"
      ],
      "metadata": {
        "id": "d_qmlz3SgzyS"
      },
      "execution_count": null,
      "outputs": []
    },
    {
      "cell_type": "code",
      "source": [
        "train_df.shape"
      ],
      "metadata": {
        "colab": {
          "base_uri": "https://localhost:8080/"
        },
        "id": "FfOESak1g7AT",
        "outputId": "31ffbb0d-205d-48a3-d4fd-d2d808a926f5"
      },
      "execution_count": null,
      "outputs": [
        {
          "output_type": "execute_result",
          "data": {
            "text/plain": [
              "(7470, 6)"
            ]
          },
          "metadata": {},
          "execution_count": 72
        }
      ]
    },
    {
      "cell_type": "code",
      "source": [
        "#external_data = pd.read_excel(\"/content/postprocessed_data.xlsx\", usecols=[\"translated_text\",\"new_target\"])\n",
        "#external_data = external_data[external_data.new_target != \"None\"]\n",
        "#external_data.rename(columns={\"translated_text\":\"text\",\"new_target\":\"target\"}, inplace=True)"
      ],
      "metadata": {
        "id": "CPFvN9-40mLY"
      },
      "execution_count": null,
      "outputs": []
    },
    {
      "cell_type": "code",
      "source": [
        "#external_data[\"text_token_length\"] = external_data['text'].apply(lambda x:len(tokenizer(x)['input_ids']))"
      ],
      "metadata": {
        "colab": {
          "base_uri": "https://localhost:8080/"
        },
        "id": "-w1kB44m2rfW",
        "outputId": "c02bbbc1-d194-4486-e34a-ff80560e6583"
      },
      "execution_count": null,
      "outputs": [
        {
          "output_type": "stream",
          "name": "stderr",
          "text": [
            "Token indices sequence length is longer than the specified maximum sequence length for this model (1512 > 512). Running this sequence through the model will result in indexing errors\n"
          ]
        }
      ]
    },
    {
      "cell_type": "code",
      "source": [
        "#external_data = external_data[external_data.text_token_length < 40]"
      ],
      "metadata": {
        "id": "o2_5hnb32-ET"
      },
      "execution_count": null,
      "outputs": []
    },
    {
      "cell_type": "code",
      "source": [
        "#train_df = pd.concat([train_df[[\"text\",\"target\"]], external_data]).sample(frac=1)"
      ],
      "metadata": {
        "id": "IJtTc_K51EVj"
      },
      "execution_count": null,
      "outputs": []
    },
    {
      "cell_type": "code",
      "source": [
        "label2id = {label:id for id, label in enumerate(train_df['target'].unique())}\n",
        "id2label = {id:label for label,id in label2id.items()}"
      ],
      "metadata": {
        "id": "IWYWaxGg1ClE"
      },
      "execution_count": null,
      "outputs": []
    },
    {
      "cell_type": "code",
      "source": [
        "label2id, id2label"
      ],
      "metadata": {
        "colab": {
          "base_uri": "https://localhost:8080/"
        },
        "id": "g2mJ9pUx2ZMQ",
        "outputId": "28cb3f42-8136-4740-b8b7-30c9482d7abd"
      },
      "execution_count": null,
      "outputs": [
        {
          "output_type": "execute_result",
          "data": {
            "text/plain": [
              "({'INSULT': 0, 'RACIST': 1, 'SEXIST': 2, 'PROFANITY': 3, 'OTHER': 4},\n",
              " {0: 'INSULT', 1: 'RACIST', 2: 'SEXIST', 3: 'PROFANITY', 4: 'OTHER'})"
            ]
          },
          "metadata": {},
          "execution_count": 74
        }
      ]
    },
    {
      "cell_type": "code",
      "source": [
        "model = AutoModelForSequenceClassification.from_pretrained(MODEL_NAME, \n",
        "                                                           num_labels = len(label2id), #TODO EDIT HERE\n",
        "                                                           label2id=label2id, \n",
        "                                                           id2label=id2label\n",
        "                                                           )"
      ],
      "metadata": {
        "colab": {
          "base_uri": "https://localhost:8080/"
        },
        "id": "XdYUYK-Swnmb",
        "outputId": "6026f316-5e7c-4978-d123-4cf821b6a7ec"
      },
      "execution_count": null,
      "outputs": [
        {
          "output_type": "stream",
          "name": "stderr",
          "text": [
            "Some weights of BertForSequenceClassification were not initialized from the model checkpoint at emrecan/bert-base-turkish-cased-mean-nli-stsb-tr and are newly initialized: ['classifier.weight', 'classifier.bias']\n",
            "You should probably TRAIN this model on a down-stream task to be able to use it for predictions and inference.\n"
          ]
        }
      ]
    },
    {
      "cell_type": "code",
      "source": [
        "train_df['token_length'] = train_df['text'].apply(lambda x:len(tokenizer(x)['input_ids']))\n",
        "train_df['token_length'].min(),train_df['token_length'].max(),train_df['token_length'].mean()"
      ],
      "metadata": {
        "id": "MkTUWVwExHMp",
        "colab": {
          "base_uri": "https://localhost:8080/"
        },
        "outputId": "0899e3ac-e165-4e95-a9bb-017da2d88ca5"
      },
      "execution_count": null,
      "outputs": [
        {
          "output_type": "execute_result",
          "data": {
            "text/plain": [
              "(3, 52, 10.046586345381526)"
            ]
          },
          "metadata": {},
          "execution_count": 76
        }
      ]
    },
    {
      "cell_type": "code",
      "source": [
        "train_df.target.value_counts()"
      ],
      "metadata": {
        "colab": {
          "base_uri": "https://localhost:8080/"
        },
        "id": "eM0HteYQ5okI",
        "outputId": "8d6b72e6-d15c-4982-cb7e-617e4bf8e2d5"
      },
      "execution_count": null,
      "outputs": [
        {
          "output_type": "execute_result",
          "data": {
            "text/plain": [
              "OTHER        2147\n",
              "INSULT       1438\n",
              "PROFANITY    1419\n",
              "SEXIST       1245\n",
              "RACIST       1221\n",
              "Name: target, dtype: int64"
            ]
          },
          "metadata": {},
          "execution_count": 77
        }
      ]
    },
    {
      "cell_type": "code",
      "source": [
        "val_df['token_length'] = val_df['text'].apply(lambda x:len(tokenizer(x)['input_ids']))\n",
        "val_df['token_length'].min(),val_df['token_length'].max(),val_df['token_length'].mean()"
      ],
      "metadata": {
        "colab": {
          "base_uri": "https://localhost:8080/"
        },
        "id": "9WOA1Qgzxk7e",
        "outputId": "2543e5d4-d5f8-4f07-84c3-87f5fef86f8b"
      },
      "execution_count": null,
      "outputs": [
        {
          "output_type": "stream",
          "name": "stderr",
          "text": [
            "<ipython-input-78-09633e61e373>:1: SettingWithCopyWarning: \n",
            "A value is trying to be set on a copy of a slice from a DataFrame.\n",
            "Try using .loc[row_indexer,col_indexer] = value instead\n",
            "\n",
            "See the caveats in the documentation: https://pandas.pydata.org/pandas-docs/stable/user_guide/indexing.html#returning-a-view-versus-a-copy\n",
            "  val_df['token_length'] = val_df['text'].apply(lambda x:len(tokenizer(x)['input_ids']))\n"
          ]
        },
        {
          "output_type": "execute_result",
          "data": {
            "text/plain": [
              "(3, 52, 10.123194221508829)"
            ]
          },
          "metadata": {},
          "execution_count": 78
        }
      ]
    },
    {
      "cell_type": "code",
      "source": [
        "test_df['token_length'] = test_df['text'].apply(lambda x:len(tokenizer(x)['input_ids']))\n",
        "test_df['token_length'].min(),test_df['token_length'].max(),test_df['token_length'].mean()"
      ],
      "metadata": {
        "colab": {
          "base_uri": "https://localhost:8080/"
        },
        "id": "IFHEckZ2w4zO",
        "outputId": "a4b2a41c-51f9-4381-cace-a40cfee90050"
      },
      "execution_count": null,
      "outputs": [
        {
          "output_type": "stream",
          "name": "stderr",
          "text": [
            "<ipython-input-79-6bf1192df5d3>:1: SettingWithCopyWarning: \n",
            "A value is trying to be set on a copy of a slice from a DataFrame.\n",
            "Try using .loc[row_indexer,col_indexer] = value instead\n",
            "\n",
            "See the caveats in the documentation: https://pandas.pydata.org/pandas-docs/stable/user_guide/indexing.html#returning-a-view-versus-a-copy\n",
            "  test_df['token_length'] = test_df['text'].apply(lambda x:len(tokenizer(x)['input_ids']))\n"
          ]
        },
        {
          "output_type": "execute_result",
          "data": {
            "text/plain": [
              "(4, 42, 10.01725521669342)"
            ]
          },
          "metadata": {},
          "execution_count": 79
        }
      ]
    },
    {
      "cell_type": "code",
      "source": [
        "# 32 tokendan büyük çok az data var ve bu dataların yüzde 95'i Other class'ına ait o yüzden max lengthi  32 yapabiliriz.\n",
        "train_df[train_df['token_length'] > 32].shape, val_df[val_df['token_length'] > 32].shape,test_df[test_df['token_length'] > 32].shape"
      ],
      "metadata": {
        "colab": {
          "base_uri": "https://localhost:8080/"
        },
        "id": "e7LKNeEOXsnL",
        "outputId": "9540232e-37fa-4715-9d15-b767f851817b"
      },
      "execution_count": null,
      "outputs": [
        {
          "output_type": "execute_result",
          "data": {
            "text/plain": [
              "((10, 7), (5, 6), (4, 6))"
            ]
          },
          "metadata": {},
          "execution_count": 80
        }
      ]
    },
    {
      "cell_type": "code",
      "source": [
        "bugün dışarı cıkıcaktım -> 3 kelime\n",
        "bugün dışar ı çıkacak tım -> 5 token"
      ],
      "metadata": {
        "id": "6sz5XzxfIt5l"
      },
      "execution_count": null,
      "outputs": []
    },
    {
      "cell_type": "code",
      "source": [
        "train_df.hist('token_length')"
      ],
      "metadata": {
        "colab": {
          "base_uri": "https://localhost:8080/",
          "height": 470
        },
        "id": "JxyYvkznXO3r",
        "outputId": "15b6ef64-d601-4592-ee11-38e0dabdd564"
      },
      "execution_count": null,
      "outputs": [
        {
          "output_type": "execute_result",
          "data": {
            "text/plain": [
              "array([[<Axes: title={'center': 'token_length'}>]], dtype=object)"
            ]
          },
          "metadata": {},
          "execution_count": 81
        },
        {
          "output_type": "display_data",
          "data": {
            "text/plain": [
              "<Figure size 640x480 with 1 Axes>"
            ],
            "image/png": "[encoded data removed]"
          },
          "metadata": {}
        }
      ]
    },
    {
      "cell_type": "code",
      "source": [
        "train_df['target'] = train_df['target'].map(label2id)\n",
        "val_df['target'] = val_df['target'].map(label2id)\n",
        "test_df['target'] = test_df['target'].map(label2id)"
      ],
      "metadata": {
        "id": "cCMAQ13m1RvX",
        "colab": {
          "base_uri": "https://localhost:8080/"
        },
        "outputId": "37995962-0e59-4071-a54b-7524c13084da"
      },
      "execution_count": null,
      "outputs": [
        {
          "output_type": "stream",
          "name": "stderr",
          "text": [
            "<ipython-input-82-db807c48cac0>:2: SettingWithCopyWarning: \n",
            "A value is trying to be set on a copy of a slice from a DataFrame.\n",
            "Try using .loc[row_indexer,col_indexer] = value instead\n",
            "\n",
            "See the caveats in the documentation: https://pandas.pydata.org/pandas-docs/stable/user_guide/indexing.html#returning-a-view-versus-a-copy\n",
            "  val_df['target'] = val_df['target'].map(label2id)\n",
            "<ipython-input-82-db807c48cac0>:3: SettingWithCopyWarning: \n",
            "A value is trying to be set on a copy of a slice from a DataFrame.\n",
            "Try using .loc[row_indexer,col_indexer] = value instead\n",
            "\n",
            "See the caveats in the documentation: https://pandas.pydata.org/pandas-docs/stable/user_guide/indexing.html#returning-a-view-versus-a-copy\n",
            "  test_df['target'] = test_df['target'].map(label2id)\n"
          ]
        }
      ]
    },
    {
      "cell_type": "code",
      "source": [
        "train_encodings = tokenizer(train_df[\"text\"].values.tolist(), \n",
        "                            truncation=True, \n",
        "                            padding=True, \n",
        "                            max_length= MAX_LENGTH\n",
        "                            )\n",
        "valid_encodings = tokenizer(val_df[\"text\"].values.tolist(), \n",
        "                            truncation=True, \n",
        "                            padding=True, \n",
        "                            max_length= MAX_LENGTH)\n",
        "\n",
        "train_labels = train_df[\"target\"].values.tolist()\n",
        "valid_labels = val_df[\"target\"].values.tolist()\n",
        "\n",
        "# convert our tokenized data into a torch Dataset\n",
        "train_dataset = ProfanityDataset(train_encodings, train_labels)\n",
        "valid_dataset = ProfanityDataset(valid_encodings, valid_labels)"
      ],
      "metadata": {
        "id": "EEZ_58JU5eHy"
      },
      "execution_count": null,
      "outputs": []
    },
    {
      "cell_type": "code",
      "source": [
        "training_args = TrainingArguments(\n",
        "    output_dir=OUTPUT_DIR,\n",
        "    evaluation_strategy = EVALUATION_STRATEGY,\n",
        "    save_strategy = SAVE_STRATEGY,\n",
        "    learning_rate=LEARNING_RATE,\n",
        "    per_device_train_batch_size=TRAIN_BATCH_SIZE,\n",
        "    per_device_eval_batch_size=VALID_BATCH_SIZE,\n",
        "    num_train_epochs=NUM_TRAIN_EPOCHS,\n",
        "    weight_decay=WEIGHT_DECAY,\n",
        "    load_best_model_at_end=True,\n",
        ")\n",
        "\n",
        "trainer = Trainer(\n",
        "    model=model,\n",
        "    args=training_args,\n",
        "    train_dataset=train_dataset,\n",
        "    eval_dataset=valid_dataset,\n",
        "    tokenizer=tokenizer,\n",
        "    compute_metrics = compute_metrics\n",
        ")"
      ],
      "metadata": {
        "id": "QGyDdIR53gX0"
      },
      "execution_count": null,
      "outputs": []
    },
    {
      "cell_type": "code",
      "source": [
        "trainer.train()"
      ],
      "metadata": {
        "colab": {
          "base_uri": "https://localhost:8080/",
          "height": 526
        },
        "id": "eoq-GQkj4c2t",
        "outputId": "94d4ef6c-0351-4042-a188-5dc286f80975"
      },
      "execution_count": null,
      "outputs": [
        {
          "output_type": "stream",
          "name": "stderr",
          "text": [
            "/usr/local/lib/python3.9/dist-packages/transformers/optimization.py:391: FutureWarning: This implementation of AdamW is deprecated and will be removed in a future version. Use the PyTorch implementation torch.optim.AdamW instead, or set `no_deprecation_warning=True` to disable this warning\n",
            "  warnings.warn(\n",
            "You're using a BertTokenizerFast tokenizer. Please note that with a fast tokenizer, using the `__call__` method is faster than using a method to encode the text followed by a call to the `pad` method to get a padded encoding.\n"
          ]
        },
        {
          "output_type": "display_data",
          "data": {
            "text/plain": [
              "<IPython.core.display.HTML object>"
            ],
            "text/html": [
              "\n",
              "    <div>\n",
              "      \n",
              "      <progress value='1170' max='1170' style='width:300px; height:20px; vertical-align: middle;'></progress>\n",
              "      [1170/1170 04:27, Epoch 5/5]\n",
              "    </div>\n",
              "    <table border=\"1\" class=\"dataframe\">\n",
              "  <thead>\n",
              " <tr style=\"text-align: left;\">\n",
              "      <th>Epoch</th>\n",
              "      <th>Training Loss</th>\n",
              "      <th>Validation Loss</th>\n",
              "      <th>Accuracy</th>\n",
              "      <th>F1 Score</th>\n",
              "    </tr>\n",
              "  </thead>\n",
              "  <tbody>\n",
              "    <tr>\n",
              "      <td>1</td>\n",
              "      <td>No log</td>\n",
              "      <td>0.265118</td>\n",
              "      <td>{'accuracy': 0.9141252006420546}</td>\n",
              "      <td>{'f1': 0.9157756119089097}</td>\n",
              "    </tr>\n",
              "    <tr>\n",
              "      <td>2</td>\n",
              "      <td>No log</td>\n",
              "      <td>0.234463</td>\n",
              "      <td>{'accuracy': 0.9273675762439807}</td>\n",
              "      <td>{'f1': 0.9280518888983413}</td>\n",
              "    </tr>\n",
              "    <tr>\n",
              "      <td>3</td>\n",
              "      <td>0.393300</td>\n",
              "      <td>0.233147</td>\n",
              "      <td>{'accuracy': 0.9297752808988764}</td>\n",
              "      <td>{'f1': 0.9299961054571}</td>\n",
              "    </tr>\n",
              "    <tr>\n",
              "      <td>4</td>\n",
              "      <td>0.393300</td>\n",
              "      <td>0.243414</td>\n",
              "      <td>{'accuracy': 0.9337881219903692}</td>\n",
              "      <td>{'f1': 0.934396005609073}</td>\n",
              "    </tr>\n",
              "    <tr>\n",
              "      <td>5</td>\n",
              "      <td>0.122200</td>\n",
              "      <td>0.248097</td>\n",
              "      <td>{'accuracy': 0.9333868378812199}</td>\n",
              "      <td>{'f1': 0.9339960898385625}</td>\n",
              "    </tr>\n",
              "  </tbody>\n",
              "</table><p>"
            ]
          },
          "metadata": {}
        },
        {
          "output_type": "stream",
          "name": "stderr",
          "text": [
            "Trainer is attempting to log a value of \"{'accuracy': 0.9141252006420546}\" of type <class 'dict'> for key \"eval/accuracy\" as a scalar. This invocation of Tensorboard's writer.add_scalar() is incorrect so we dropped this attribute.\n",
            "Trainer is attempting to log a value of \"{'f1': 0.9157756119089097}\" of type <class 'dict'> for key \"eval/f1_score\" as a scalar. This invocation of Tensorboard's writer.add_scalar() is incorrect so we dropped this attribute.\n",
            "Trainer is attempting to log a value of \"{'accuracy': 0.9273675762439807}\" of type <class 'dict'> for key \"eval/accuracy\" as a scalar. This invocation of Tensorboard's writer.add_scalar() is incorrect so we dropped this attribute.\n",
            "Trainer is attempting to log a value of \"{'f1': 0.9280518888983413}\" of type <class 'dict'> for key \"eval/f1_score\" as a scalar. This invocation of Tensorboard's writer.add_scalar() is incorrect so we dropped this attribute.\n",
            "Trainer is attempting to log a value of \"{'accuracy': 0.9297752808988764}\" of type <class 'dict'> for key \"eval/accuracy\" as a scalar. This invocation of Tensorboard's writer.add_scalar() is incorrect so we dropped this attribute.\n",
            "Trainer is attempting to log a value of \"{'f1': 0.9299961054571}\" of type <class 'dict'> for key \"eval/f1_score\" as a scalar. This invocation of Tensorboard's writer.add_scalar() is incorrect so we dropped this attribute.\n",
            "Trainer is attempting to log a value of \"{'accuracy': 0.9337881219903692}\" of type <class 'dict'> for key \"eval/accuracy\" as a scalar. This invocation of Tensorboard's writer.add_scalar() is incorrect so we dropped this attribute.\n",
            "Trainer is attempting to log a value of \"{'f1': 0.934396005609073}\" of type <class 'dict'> for key \"eval/f1_score\" as a scalar. This invocation of Tensorboard's writer.add_scalar() is incorrect so we dropped this attribute.\n",
            "Trainer is attempting to log a value of \"{'accuracy': 0.9333868378812199}\" of type <class 'dict'> for key \"eval/accuracy\" as a scalar. This invocation of Tensorboard's writer.add_scalar() is incorrect so we dropped this attribute.\n",
            "Trainer is attempting to log a value of \"{'f1': 0.9339960898385625}\" of type <class 'dict'> for key \"eval/f1_score\" as a scalar. This invocation of Tensorboard's writer.add_scalar() is incorrect so we dropped this attribute.\n"
          ]
        },
        {
          "output_type": "execute_result",
          "data": {
            "text/plain": [
              "TrainOutput(global_step=1170, training_loss=0.23225722109150682, metrics={'train_runtime': 268.6745, 'train_samples_per_second': 139.016, 'train_steps_per_second': 4.355, 'total_flos': 614216413814400.0, 'train_loss': 0.23225722109150682, 'epoch': 5.0})"
            ]
          },
          "metadata": {},
          "execution_count": 85
        }
      ]
    },
    {
      "cell_type": "markdown",
      "source": [
        "# Test Predictions"
      ],
      "metadata": {
        "id": "aWRgNQnS0bob"
      }
    },
    {
      "cell_type": "code",
      "source": [
        "from transformers import pipeline\n",
        "\n",
        "classifier = pipeline(\"text-classification\", model=\"/content/bert-base-turkish-cased-mean-nli-stsb-tr-5fold-32maxl-32tb-64vb-5ep-001wd-1e5lr-3validfold-4testfold-corrected-misslabels/checkpoint-1170\")"
      ],
      "metadata": {
        "id": "PH8-fzCDI98E"
      },
      "execution_count": null,
      "outputs": []
    },
    {
      "cell_type": "code",
      "source": [
        "from tqdm import tqdm\n",
        "\n",
        "predictions = []\n",
        "for text in tqdm(test_df['text']):\n",
        "  response = classifier(text)\n",
        "  predictions.append([response[0]['label'],response[0]['score']])"
      ],
      "metadata": {
        "colab": {
          "base_uri": "https://localhost:8080/"
        },
        "id": "LoCzJW6TM4aN",
        "outputId": "bee917f5-5a93-428f-dcad-a53e8436a9f2"
      },
      "execution_count": null,
      "outputs": [
        {
          "output_type": "stream",
          "name": "stderr",
          "text": [
            "100%|██████████| 2492/2492 [05:02<00:00,  8.25it/s]\n"
          ]
        }
      ]
    },
    {
      "cell_type": "code",
      "source": [
        "predictions_df = pd.DataFrame(predictions, columns=[\"label\",\"score\"])\n",
        "predictions_df['text'] = test_df['text'].tolist()\n",
        "predictions_df['gold'] = test_df['target'].tolist()\n",
        "predictions_df['gold'] = predictions_df['gold'].map(id2label)\n",
        "\n",
        "predictions_df = predictions_df[[\"text\",\"gold\",\"label\",\"score\"]]"
      ],
      "metadata": {
        "id": "CkwyQrJ-JPCY"
      },
      "execution_count": null,
      "outputs": []
    },
    {
      "cell_type": "code",
      "source": [
        "predictions_df"
      ],
      "metadata": {
        "colab": {
          "base_uri": "https://localhost:8080/",
          "height": 423
        },
        "id": "9BAtyb9v8y9G",
        "outputId": "295ce423-bf6d-4099-c24a-07ea200b9232"
      },
      "execution_count": null,
      "outputs": [
        {
          "output_type": "execute_result",
          "data": {
            "text/plain": [
              "                                                   text    gold   label  \\\n",
              "0     kadın yönetici sayısı oldukça olduğu şirket iy...  SEXIST  SEXIST   \n",
              "1       suriyeliler yozlaşıp toplumda huzuru bozuyorlar  RACIST  RACIST   \n",
              "2                                   kadar terbiyesizsin  INSULT  INSULT   \n",
              "3                               özsaygısı düşük birisin  INSULT  INSULT   \n",
              "4                             köpek havlayıp duruyorsun  INSULT  INSULT   \n",
              "...                                                 ...     ...     ...   \n",
              "2487                       ermenilerin böyle sorunu var   OTHER  RACIST   \n",
              "2488  nedenle kendi çıkarımız avrupalılar türkiyeyi ...   OTHER   OTHER   \n",
              "2489           hiçbir tane mi ceren gözlü kürt kızı yok   OTHER  RACIST   \n",
              "2490  hayalleri gerçek etmek birisinin delilik yapma...   OTHER   OTHER   \n",
              "2491  deliklerden birini bulsan diğerini bulamıyorsu...   OTHER   OTHER   \n",
              "\n",
              "         score  \n",
              "0     0.989058  \n",
              "1     0.995732  \n",
              "2     0.995117  \n",
              "3     0.994172  \n",
              "4     0.993793  \n",
              "...        ...  \n",
              "2487  0.989785  \n",
              "2488  0.972791  \n",
              "2489  0.994580  \n",
              "2490  0.930539  \n",
              "2491  0.905527  \n",
              "\n",
              "[2492 rows x 4 columns]"
            ],
            "text/html": [
              "\n",
              "  <div id=\"df-9e6dec9c-5bda-41b8-a8fb-8be4d81b2ef8\">\n",
              "    <div class=\"colab-df-container\">\n",
              "      <div>\n",
              "<style scoped>\n",
              "    .dataframe tbody tr th:only-of-type {\n",
              "        vertical-align: middle;\n",
              "    }\n",
              "\n",
              "    .dataframe tbody tr th {\n",
              "        vertical-align: top;\n",
              "    }\n",
              "\n",
              "    .dataframe thead th {\n",
              "        text-align: right;\n",
              "    }\n",
              "</style>\n",
              "<table border=\"1\" class=\"dataframe\">\n",
              "  <thead>\n",
              "    <tr style=\"text-align: right;\">\n",
              "      <th></th>\n",
              "      <th>text</th>\n",
              "      <th>gold</th>\n",
              "      <th>label</th>\n",
              "      <th>score</th>\n",
              "    </tr>\n",
              "  </thead>\n",
              "  <tbody>\n",
              "    <tr>\n",
              "      <th>0</th>\n",
              "      <td>kadın yönetici sayısı oldukça olduğu şirket iy...</td>\n",
              "      <td>SEXIST</td>\n",
              "      <td>SEXIST</td>\n",
              "      <td>0.989058</td>\n",
              "    </tr>\n",
              "    <tr>\n",
              "      <th>1</th>\n",
              "      <td>suriyeliler yozlaşıp toplumda huzuru bozuyorlar</td>\n",
              "      <td>RACIST</td>\n",
              "      <td>RACIST</td>\n",
              "      <td>0.995732</td>\n",
              "    </tr>\n",
              "    <tr>\n",
              "      <th>2</th>\n",
              "      <td>kadar terbiyesizsin</td>\n",
              "      <td>INSULT</td>\n",
              "      <td>INSULT</td>\n",
              "      <td>0.995117</td>\n",
              "    </tr>\n",
              "    <tr>\n",
              "      <th>3</th>\n",
              "      <td>özsaygısı düşük birisin</td>\n",
              "      <td>INSULT</td>\n",
              "      <td>INSULT</td>\n",
              "      <td>0.994172</td>\n",
              "    </tr>\n",
              "    <tr>\n",
              "      <th>4</th>\n",
              "      <td>köpek havlayıp duruyorsun</td>\n",
              "      <td>INSULT</td>\n",
              "      <td>INSULT</td>\n",
              "      <td>0.993793</td>\n",
              "    </tr>\n",
              "    <tr>\n",
              "      <th>...</th>\n",
              "      <td>...</td>\n",
              "      <td>...</td>\n",
              "      <td>...</td>\n",
              "      <td>...</td>\n",
              "    </tr>\n",
              "    <tr>\n",
              "      <th>2487</th>\n",
              "      <td>ermenilerin böyle sorunu var</td>\n",
              "      <td>OTHER</td>\n",
              "      <td>RACIST</td>\n",
              "      <td>0.989785</td>\n",
              "    </tr>\n",
              "    <tr>\n",
              "      <th>2488</th>\n",
              "      <td>nedenle kendi çıkarımız avrupalılar türkiyeyi ...</td>\n",
              "      <td>OTHER</td>\n",
              "      <td>OTHER</td>\n",
              "      <td>0.972791</td>\n",
              "    </tr>\n",
              "    <tr>\n",
              "      <th>2489</th>\n",
              "      <td>hiçbir tane mi ceren gözlü kürt kızı yok</td>\n",
              "      <td>OTHER</td>\n",
              "      <td>RACIST</td>\n",
              "      <td>0.994580</td>\n",
              "    </tr>\n",
              "    <tr>\n",
              "      <th>2490</th>\n",
              "      <td>hayalleri gerçek etmek birisinin delilik yapma...</td>\n",
              "      <td>OTHER</td>\n",
              "      <td>OTHER</td>\n",
              "      <td>0.930539</td>\n",
              "    </tr>\n",
              "    <tr>\n",
              "      <th>2491</th>\n",
              "      <td>deliklerden birini bulsan diğerini bulamıyorsu...</td>\n",
              "      <td>OTHER</td>\n",
              "      <td>OTHER</td>\n",
              "      <td>0.905527</td>\n",
              "    </tr>\n",
              "  </tbody>\n",
              "</table>\n",
              "<p>2492 rows × 4 columns</p>\n",
              "</div>\n",
              "      <button class=\"colab-df-convert\" onclick=\"convertToInteractive('df-9e6dec9c-5bda-41b8-a8fb-8be4d81b2ef8')\"\n",
              "              title=\"Convert this dataframe to an interactive table.\"\n",
              "              style=\"display:none;\">\n",
              "        \n",
              "  <svg xmlns=\"http://www.w3.org/2000/svg\" height=\"24px\"viewBox=\"0 0 24 24\"\n",
              "       width=\"24px\">\n",
              "    <path d=\"M0 0h24v24H0V0z\" fill=\"none\"/>\n",
              "    <path d=\"M18.56 5.44l.94 2.06.94-2.06 2.06-.94-2.06-.94-.94-2.06-.94 2.06-2.06.94zm-11 1L8.5 8.5l.94-2.06 2.06-.94-2.06-.94L8.5 2.5l-.94 2.06-2.06.94zm10 10l.94 2.06.94-2.06 2.06-.94-2.06-.94-.94-2.06-.94 2.06-2.06.94z\"/><path d=\"M17.41 7.96l-1.37-1.37c-.4-.4-.92-.59-1.43-.59-.52 0-1.04.2-1.43.59L10.3 9.45l-7.72 7.72c-.78.78-.78 2.05 0 2.83L4 21.41c.39.39.9.59 1.41.59.51 0 1.02-.2 1.41-.59l7.78-7.78 2.81-2.81c.8-.78.8-2.07 0-2.86zM5.41 20L4 18.59l7.72-7.72 1.47 1.35L5.41 20z\"/>\n",
              "  </svg>\n",
              "      </button>\n",
              "      \n",
              "  <style>\n",
              "    .colab-df-container {\n",
              "      display:flex;\n",
              "      flex-wrap:wrap;\n",
              "      gap: 12px;\n",
              "    }\n",
              "\n",
              "    .colab-df-convert {\n",
              "      background-color: #E8F0FE;\n",
              "      border: none;\n",
              "      border-radius: 50%;\n",
              "      cursor: pointer;\n",
              "      display: none;\n",
              "      fill: #1967D2;\n",
              "      height: 32px;\n",
              "      padding: 0 0 0 0;\n",
              "      width: 32px;\n",
              "    }\n",
              "\n",
              "    .colab-df-convert:hover {\n",
              "      background-color: #E2EBFA;\n",
              "      box-shadow: 0px 1px 2px rgba(60, 64, 67, 0.3), 0px 1px 3px 1px rgba(60, 64, 67, 0.15);\n",
              "      fill: #174EA6;\n",
              "    }\n",
              "\n",
              "    [theme=dark] .colab-df-convert {\n",
              "      background-color: #3B4455;\n",
              "      fill: #D2E3FC;\n",
              "    }\n",
              "\n",
              "    [theme=dark] .colab-df-convert:hover {\n",
              "      background-color: #434B5C;\n",
              "      box-shadow: 0px 1px 3px 1px rgba(0, 0, 0, 0.15);\n",
              "      filter: drop-shadow(0px 1px 2px rgba(0, 0, 0, 0.3));\n",
              "      fill: #FFFFFF;\n",
              "    }\n",
              "  </style>\n",
              "\n",
              "      <script>\n",
              "        const buttonEl =\n",
              "          document.querySelector('#df-9e6dec9c-5bda-41b8-a8fb-8be4d81b2ef8 button.colab-df-convert');\n",
              "        buttonEl.style.display =\n",
              "          google.colab.kernel.accessAllowed ? 'block' : 'none';\n",
              "\n",
              "        async function convertToInteractive(key) {\n",
              "          const element = document.querySelector('#df-9e6dec9c-5bda-41b8-a8fb-8be4d81b2ef8');\n",
              "          const dataTable =\n",
              "            await google.colab.kernel.invokeFunction('convertToInteractive',\n",
              "                                                     [key], {});\n",
              "          if (!dataTable) return;\n",
              "\n",
              "          const docLinkHtml = 'Like what you see? Visit the ' +\n",
              "            '<a target=\"_blank\" href=https://colab.research.google.com/notebooks/data_table.ipynb>data table notebook</a>'\n",
              "            + ' to learn more about interactive tables.';\n",
              "          element.innerHTML = '';\n",
              "          dataTable['output_type'] = 'display_data';\n",
              "          await google.colab.output.renderOutput(dataTable, element);\n",
              "          const docLink = document.createElement('div');\n",
              "          docLink.innerHTML = docLinkHtml;\n",
              "          element.appendChild(docLink);\n",
              "        }\n",
              "      </script>\n",
              "    </div>\n",
              "  </div>\n",
              "  "
            ]
          },
          "metadata": {},
          "execution_count": 89
        }
      ]
    },
    {
      "cell_type": "code",
      "source": [
        "from sklearn.metrics import f1_score, classification_report, accuracy_score\n",
        "\n",
        "gold = predictions_df['gold'].tolist()\n",
        "preds = predictions_df['label'].tolist()\n",
        "\n",
        "print(\"Accuracy score: \", accuracy_score(gold,preds))\n",
        "print(\"f1_score score: \", f1_score(gold,preds, average=\"macro\"))"
      ],
      "metadata": {
        "colab": {
          "base_uri": "https://localhost:8080/"
        },
        "id": "8azAWAktNppu",
        "outputId": "5bac3a83-adc2-4ae8-bd41-d7529296b8a5"
      },
      "execution_count": null,
      "outputs": [
        {
          "output_type": "stream",
          "name": "stdout",
          "text": [
            "Accuracy score:  0.930577849117175\n",
            "f1_score score:  0.9318060172396267\n"
          ]
        }
      ]
    },
    {
      "cell_type": "code",
      "source": [
        "print(classification_report(gold, preds, target_names = label2id.keys()))"
      ],
      "metadata": {
        "colab": {
          "base_uri": "https://localhost:8080/"
        },
        "id": "V73b0NKYOMc_",
        "outputId": "94f95ac8-084d-4087-f7c0-a9d490badb6b"
      },
      "execution_count": null,
      "outputs": [
        {
          "output_type": "stream",
          "name": "stdout",
          "text": [
            "              precision    recall  f1-score   support\n",
            "\n",
            "      INSULT       0.87      0.87      0.87       478\n",
            "      RACIST       0.95      0.91      0.93       716\n",
            "      SEXIST       0.96      0.93      0.94       475\n",
            "   PROFANITY       0.93      0.97      0.95       407\n",
            "       OTHER       0.94      0.98      0.96       416\n",
            "\n",
            "    accuracy                           0.93      2492\n",
            "   macro avg       0.93      0.93      0.93      2492\n",
            "weighted avg       0.93      0.93      0.93      2492\n",
            "\n"
          ]
        }
      ]
    },
    {
      "cell_type": "code",
      "source": [
        "from sklearn.metrics import confusion_matrix, ConfusionMatrixDisplay\n",
        "\n",
        "cm = confusion_matrix(gold, preds, labels = list(label2id.keys()))\n",
        "\n",
        "disp = ConfusionMatrixDisplay(confusion_matrix=cm,\n",
        "                              display_labels=list(label2id.keys()))\n",
        "disp.plot()"
      ],
      "metadata": {
        "colab": {
          "base_uri": "https://localhost:8080/",
          "height": 467
        },
        "id": "LSA_NjEpOVaE",
        "outputId": "1fe15758-35e5-4947-e1c3-ed33de1f457c"
      },
      "execution_count": null,
      "outputs": [
        {
          "output_type": "execute_result",
          "data": {
            "text/plain": [
              "<sklearn.metrics._plot.confusion_matrix.ConfusionMatrixDisplay at 0x7efd9e8630a0>"
            ]
          },
          "metadata": {},
          "execution_count": 92
        },
        {
          "output_type": "display_data",
          "data": {
            "text/plain": [
              "<Figure size 640x480 with 2 Axes>"
            ],
            "image/png": "[encoded data removed]"
          },
          "metadata": {}
        }
      ]
    },
    {
      "cell_type": "code",
      "source": [
        "predictions_df[(predictions_df.gold !=predictions_df.label)]"
      ],
      "metadata": {
        "colab": {
          "base_uri": "https://localhost:8080/",
          "height": 423
        },
        "id": "RKWucVz_o-C_",
        "outputId": "dae4abae-3406-42ce-ee09-ddb9146c684e"
      },
      "execution_count": null,
      "outputs": [
        {
          "output_type": "execute_result",
          "data": {
            "text/plain": [
              "                                                   text    gold   label  \\\n",
              "6     olun hayatınıza birden bire giren mallara prim...  INSULT   OTHER   \n",
              "20                           ırkçılık almanyada gelişti  RACIST   OTHER   \n",
              "24            bulgar göçmenleri buraya alışverişe gelir   OTHER  RACIST   \n",
              "55                        koca karı ilacını denemelisin   OTHER  SEXIST   \n",
              "64                         varos hareketlerinden vazgec  INSULT   OTHER   \n",
              "...                                                 ...     ...     ...   \n",
              "2482     eş aileden gelen maddi kazanım mal vs olabilir   OTHER  SEXIST   \n",
              "2484             kadınlar durmadan masaları dolaşıyordu   OTHER  SEXIST   \n",
              "2486     taraf profesyonel hırsız diğer çete beceriksiz   OTHER  INSULT   \n",
              "2487                       ermenilerin böyle sorunu var   OTHER  RACIST   \n",
              "2489           hiçbir tane mi ceren gözlü kürt kızı yok   OTHER  RACIST   \n",
              "\n",
              "         score  \n",
              "6     0.842794  \n",
              "20    0.787027  \n",
              "24    0.751093  \n",
              "55    0.996928  \n",
              "64    0.616574  \n",
              "...        ...  \n",
              "2482  0.699688  \n",
              "2484  0.990241  \n",
              "2486  0.607597  \n",
              "2487  0.989785  \n",
              "2489  0.994580  \n",
              "\n",
              "[173 rows x 4 columns]"
            ],
            "text/html": [
              "\n",
              "  <div id=\"df-1e2508a2-5e89-4ca3-af78-1150292ecd99\">\n",
              "    <div class=\"colab-df-container\">\n",
              "      <div>\n",
              "<style scoped>\n",
              "    .dataframe tbody tr th:only-of-type {\n",
              "        vertical-align: middle;\n",
              "    }\n",
              "\n",
              "    .dataframe tbody tr th {\n",
              "        vertical-align: top;\n",
              "    }\n",
              "\n",
              "    .dataframe thead th {\n",
              "        text-align: right;\n",
              "    }\n",
              "</style>\n",
              "<table border=\"1\" class=\"dataframe\">\n",
              "  <thead>\n",
              "    <tr style=\"text-align: right;\">\n",
              "      <th></th>\n",
              "      <th>text</th>\n",
              "      <th>gold</th>\n",
              "      <th>label</th>\n",
              "      <th>score</th>\n",
              "    </tr>\n",
              "  </thead>\n",
              "  <tbody>\n",
              "    <tr>\n",
              "      <th>6</th>\n",
              "      <td>olun hayatınıza birden bire giren mallara prim...</td>\n",
              "      <td>INSULT</td>\n",
              "      <td>OTHER</td>\n",
              "      <td>0.842794</td>\n",
              "    </tr>\n",
              "    <tr>\n",
              "      <th>20</th>\n",
              "      <td>ırkçılık almanyada gelişti</td>\n",
              "      <td>RACIST</td>\n",
              "      <td>OTHER</td>\n",
              "      <td>0.787027</td>\n",
              "    </tr>\n",
              "    <tr>\n",
              "      <th>24</th>\n",
              "      <td>bulgar göçmenleri buraya alışverişe gelir</td>\n",
              "      <td>OTHER</td>\n",
              "      <td>RACIST</td>\n",
              "      <td>0.751093</td>\n",
              "    </tr>\n",
              "    <tr>\n",
              "      <th>55</th>\n",
              "      <td>koca karı ilacını denemelisin</td>\n",
              "      <td>OTHER</td>\n",
              "      <td>SEXIST</td>\n",
              "      <td>0.996928</td>\n",
              "    </tr>\n",
              "    <tr>\n",
              "      <th>64</th>\n",
              "      <td>varos hareketlerinden vazgec</td>\n",
              "      <td>INSULT</td>\n",
              "      <td>OTHER</td>\n",
              "      <td>0.616574</td>\n",
              "    </tr>\n",
              "    <tr>\n",
              "      <th>...</th>\n",
              "      <td>...</td>\n",
              "      <td>...</td>\n",
              "      <td>...</td>\n",
              "      <td>...</td>\n",
              "    </tr>\n",
              "    <tr>\n",
              "      <th>2482</th>\n",
              "      <td>eş aileden gelen maddi kazanım mal vs olabilir</td>\n",
              "      <td>OTHER</td>\n",
              "      <td>SEXIST</td>\n",
              "      <td>0.699688</td>\n",
              "    </tr>\n",
              "    <tr>\n",
              "      <th>2484</th>\n",
              "      <td>kadınlar durmadan masaları dolaşıyordu</td>\n",
              "      <td>OTHER</td>\n",
              "      <td>SEXIST</td>\n",
              "      <td>0.990241</td>\n",
              "    </tr>\n",
              "    <tr>\n",
              "      <th>2486</th>\n",
              "      <td>taraf profesyonel hırsız diğer çete beceriksiz</td>\n",
              "      <td>OTHER</td>\n",
              "      <td>INSULT</td>\n",
              "      <td>0.607597</td>\n",
              "    </tr>\n",
              "    <tr>\n",
              "      <th>2487</th>\n",
              "      <td>ermenilerin böyle sorunu var</td>\n",
              "      <td>OTHER</td>\n",
              "      <td>RACIST</td>\n",
              "      <td>0.989785</td>\n",
              "    </tr>\n",
              "    <tr>\n",
              "      <th>2489</th>\n",
              "      <td>hiçbir tane mi ceren gözlü kürt kızı yok</td>\n",
              "      <td>OTHER</td>\n",
              "      <td>RACIST</td>\n",
              "      <td>0.994580</td>\n",
              "    </tr>\n",
              "  </tbody>\n",
              "</table>\n",
              "<p>173 rows × 4 columns</p>\n",
              "</div>\n",
              "      <button class=\"colab-df-convert\" onclick=\"convertToInteractive('df-1e2508a2-5e89-4ca3-af78-1150292ecd99')\"\n",
              "              title=\"Convert this dataframe to an interactive table.\"\n",
              "              style=\"display:none;\">\n",
              "        \n",
              "  <svg xmlns=\"http://www.w3.org/2000/svg\" height=\"24px\"viewBox=\"0 0 24 24\"\n",
              "       width=\"24px\">\n",
              "    <path d=\"M0 0h24v24H0V0z\" fill=\"none\"/>\n",
              "    <path d=\"M18.56 5.44l.94 2.06.94-2.06 2.06-.94-2.06-.94-.94-2.06-.94 2.06-2.06.94zm-11 1L8.5 8.5l.94-2.06 2.06-.94-2.06-.94L8.5 2.5l-.94 2.06-2.06.94zm10 10l.94 2.06.94-2.06 2.06-.94-2.06-.94-.94-2.06-.94 2.06-2.06.94z\"/><path d=\"M17.41 7.96l-1.37-1.37c-.4-.4-.92-.59-1.43-.59-.52 0-1.04.2-1.43.59L10.3 9.45l-7.72 7.72c-.78.78-.78 2.05 0 2.83L4 21.41c.39.39.9.59 1.41.59.51 0 1.02-.2 1.41-.59l7.78-7.78 2.81-2.81c.8-.78.8-2.07 0-2.86zM5.41 20L4 18.59l7.72-7.72 1.47 1.35L5.41 20z\"/>\n",
              "  </svg>\n",
              "      </button>\n",
              "      \n",
              "  <style>\n",
              "    .colab-df-container {\n",
              "      display:flex;\n",
              "      flex-wrap:wrap;\n",
              "      gap: 12px;\n",
              "    }\n",
              "\n",
              "    .colab-df-convert {\n",
              "      background-color: #E8F0FE;\n",
              "      border: none;\n",
              "      border-radius: 50%;\n",
              "      cursor: pointer;\n",
              "      display: none;\n",
              "      fill: #1967D2;\n",
              "      height: 32px;\n",
              "      padding: 0 0 0 0;\n",
              "      width: 32px;\n",
              "    }\n",
              "\n",
              "    .colab-df-convert:hover {\n",
              "      background-color: #E2EBFA;\n",
              "      box-shadow: 0px 1px 2px rgba(60, 64, 67, 0.3), 0px 1px 3px 1px rgba(60, 64, 67, 0.15);\n",
              "      fill: #174EA6;\n",
              "    }\n",
              "\n",
              "    [theme=dark] .colab-df-convert {\n",
              "      background-color: #3B4455;\n",
              "      fill: #D2E3FC;\n",
              "    }\n",
              "\n",
              "    [theme=dark] .colab-df-convert:hover {\n",
              "      background-color: #434B5C;\n",
              "      box-shadow: 0px 1px 3px 1px rgba(0, 0, 0, 0.15);\n",
              "      filter: drop-shadow(0px 1px 2px rgba(0, 0, 0, 0.3));\n",
              "      fill: #FFFFFF;\n",
              "    }\n",
              "  </style>\n",
              "\n",
              "      <script>\n",
              "        const buttonEl =\n",
              "          document.querySelector('#df-1e2508a2-5e89-4ca3-af78-1150292ecd99 button.colab-df-convert');\n",
              "        buttonEl.style.display =\n",
              "          google.colab.kernel.accessAllowed ? 'block' : 'none';\n",
              "\n",
              "        async function convertToInteractive(key) {\n",
              "          const element = document.querySelector('#df-1e2508a2-5e89-4ca3-af78-1150292ecd99');\n",
              "          const dataTable =\n",
              "            await google.colab.kernel.invokeFunction('convertToInteractive',\n",
              "                                                     [key], {});\n",
              "          if (!dataTable) return;\n",
              "\n",
              "          const docLinkHtml = 'Like what you see? Visit the ' +\n",
              "            '<a target=\"_blank\" href=https://colab.research.google.com/notebooks/data_table.ipynb>data table notebook</a>'\n",
              "            + ' to learn more about interactive tables.';\n",
              "          element.innerHTML = '';\n",
              "          dataTable['output_type'] = 'display_data';\n",
              "          await google.colab.output.renderOutput(dataTable, element);\n",
              "          const docLink = document.createElement('div');\n",
              "          docLink.innerHTML = docLinkHtml;\n",
              "          element.appendChild(docLink);\n",
              "        }\n",
              "      </script>\n",
              "    </div>\n",
              "  </div>\n",
              "  "
            ]
          },
          "metadata": {},
          "execution_count": 93
        }
      ]
    },
    {
      "cell_type": "code",
      "source": [
        "predictions_df[(predictions_df.gold !=predictions_df.label)].to_excel(\"test_misspredictions_v2.xlsx\", index=False)"
      ],
      "metadata": {
        "id": "FToQy3m4PfP_"
      },
      "execution_count": null,
      "outputs": []
    },
    {
      "cell_type": "code",
      "source": [
        "pd.read_csv(\"mispredicted_text.csv\")"
      ],
      "metadata": {
        "colab": {
          "base_uri": "https://localhost:8080/",
          "height": 175
        },
        "id": "yxOQWzVpo5vp",
        "outputId": "bc1121c6-efac-42c1-fbab-55e1a19117d5"
      },
      "execution_count": null,
      "outputs": [
        {
          "output_type": "execute_result",
          "data": {
            "text/plain": [
              "                                                text\n",
              "0  sana bi istavrozunu şaşırtırım kırk yıl kendin...\n",
              "1  siz kadınlar böyle karaktersiz. adamlarda bulu...\n",
              "2  sevişti bir bakir bir bakire; erkeğe milli ded...\n",
              "3                    i̇ngiliz boku yiyen aç pezevenk"
            ],
            "text/html": [
              "\n",
              "  <div id=\"df-648e7a42-fd9a-44fe-88f4-2f3e8c7a128e\">\n",
              "    <div class=\"colab-df-container\">\n",
              "      <div>\n",
              "<style scoped>\n",
              "    .dataframe tbody tr th:only-of-type {\n",
              "        vertical-align: middle;\n",
              "    }\n",
              "\n",
              "    .dataframe tbody tr th {\n",
              "        vertical-align: top;\n",
              "    }\n",
              "\n",
              "    .dataframe thead th {\n",
              "        text-align: right;\n",
              "    }\n",
              "</style>\n",
              "<table border=\"1\" class=\"dataframe\">\n",
              "  <thead>\n",
              "    <tr style=\"text-align: right;\">\n",
              "      <th></th>\n",
              "      <th>text</th>\n",
              "    </tr>\n",
              "  </thead>\n",
              "  <tbody>\n",
              "    <tr>\n",
              "      <th>0</th>\n",
              "      <td>sana bi istavrozunu şaşırtırım kırk yıl kendin...</td>\n",
              "    </tr>\n",
              "    <tr>\n",
              "      <th>1</th>\n",
              "      <td>siz kadınlar böyle karaktersiz. adamlarda bulu...</td>\n",
              "    </tr>\n",
              "    <tr>\n",
              "      <th>2</th>\n",
              "      <td>sevişti bir bakir bir bakire; erkeğe milli ded...</td>\n",
              "    </tr>\n",
              "    <tr>\n",
              "      <th>3</th>\n",
              "      <td>i̇ngiliz boku yiyen aç pezevenk</td>\n",
              "    </tr>\n",
              "  </tbody>\n",
              "</table>\n",
              "</div>\n",
              "      <button class=\"colab-df-convert\" onclick=\"convertToInteractive('df-648e7a42-fd9a-44fe-88f4-2f3e8c7a128e')\"\n",
              "              title=\"Convert this dataframe to an interactive table.\"\n",
              "              style=\"display:none;\">\n",
              "        \n",
              "  <svg xmlns=\"http://www.w3.org/2000/svg\" height=\"24px\"viewBox=\"0 0 24 24\"\n",
              "       width=\"24px\">\n",
              "    <path d=\"M0 0h24v24H0V0z\" fill=\"none\"/>\n",
              "    <path d=\"M18.56 5.44l.94 2.06.94-2.06 2.06-.94-2.06-.94-.94-2.06-.94 2.06-2.06.94zm-11 1L8.5 8.5l.94-2.06 2.06-.94-2.06-.94L8.5 2.5l-.94 2.06-2.06.94zm10 10l.94 2.06.94-2.06 2.06-.94-2.06-.94-.94-2.06-.94 2.06-2.06.94z\"/><path d=\"M17.41 7.96l-1.37-1.37c-.4-.4-.92-.59-1.43-.59-.52 0-1.04.2-1.43.59L10.3 9.45l-7.72 7.72c-.78.78-.78 2.05 0 2.83L4 21.41c.39.39.9.59 1.41.59.51 0 1.02-.2 1.41-.59l7.78-7.78 2.81-2.81c.8-.78.8-2.07 0-2.86zM5.41 20L4 18.59l7.72-7.72 1.47 1.35L5.41 20z\"/>\n",
              "  </svg>\n",
              "      </button>\n",
              "      \n",
              "  <style>\n",
              "    .colab-df-container {\n",
              "      display:flex;\n",
              "      flex-wrap:wrap;\n",
              "      gap: 12px;\n",
              "    }\n",
              "\n",
              "    .colab-df-convert {\n",
              "      background-color: #E8F0FE;\n",
              "      border: none;\n",
              "      border-radius: 50%;\n",
              "      cursor: pointer;\n",
              "      display: none;\n",
              "      fill: #1967D2;\n",
              "      height: 32px;\n",
              "      padding: 0 0 0 0;\n",
              "      width: 32px;\n",
              "    }\n",
              "\n",
              "    .colab-df-convert:hover {\n",
              "      background-color: #E2EBFA;\n",
              "      box-shadow: 0px 1px 2px rgba(60, 64, 67, 0.3), 0px 1px 3px 1px rgba(60, 64, 67, 0.15);\n",
              "      fill: #174EA6;\n",
              "    }\n",
              "\n",
              "    [theme=dark] .colab-df-convert {\n",
              "      background-color: #3B4455;\n",
              "      fill: #D2E3FC;\n",
              "    }\n",
              "\n",
              "    [theme=dark] .colab-df-convert:hover {\n",
              "      background-color: #434B5C;\n",
              "      box-shadow: 0px 1px 3px 1px rgba(0, 0, 0, 0.15);\n",
              "      filter: drop-shadow(0px 1px 2px rgba(0, 0, 0, 0.3));\n",
              "      fill: #FFFFFF;\n",
              "    }\n",
              "  </style>\n",
              "\n",
              "      <script>\n",
              "        const buttonEl =\n",
              "          document.querySelector('#df-648e7a42-fd9a-44fe-88f4-2f3e8c7a128e button.colab-df-convert');\n",
              "        buttonEl.style.display =\n",
              "          google.colab.kernel.accessAllowed ? 'block' : 'none';\n",
              "\n",
              "        async function convertToInteractive(key) {\n",
              "          const element = document.querySelector('#df-648e7a42-fd9a-44fe-88f4-2f3e8c7a128e');\n",
              "          const dataTable =\n",
              "            await google.colab.kernel.invokeFunction('convertToInteractive',\n",
              "                                                     [key], {});\n",
              "          if (!dataTable) return;\n",
              "\n",
              "          const docLinkHtml = 'Like what you see? Visit the ' +\n",
              "            '<a target=\"_blank\" href=https://colab.research.google.com/notebooks/data_table.ipynb>data table notebook</a>'\n",
              "            + ' to learn more about interactive tables.';\n",
              "          element.innerHTML = '';\n",
              "          dataTable['output_type'] = 'display_data';\n",
              "          await google.colab.output.renderOutput(dataTable, element);\n",
              "          const docLink = document.createElement('div');\n",
              "          docLink.innerHTML = docLinkHtml;\n",
              "          element.appendChild(docLink);\n",
              "        }\n",
              "      </script>\n",
              "    </div>\n",
              "  </div>\n",
              "  "
            ]
          },
          "metadata": {},
          "execution_count": 61
        }
      ]
    },
    {
      "cell_type": "code",
      "source": [
        "an= 0\n",
        "for an, (idx, row) in enumerate(predictions_df[(predictions_df.gold !=predictions_df.label)].iterrows()):\n",
        "  an+=1\n",
        "  print(\"Gold: \",row['gold'])\n",
        "  print(\"Predicted: \", row['label'])\n",
        "  print(\"Score: \", row['score'])\n",
        "  print(\"Text: \", row['text'])\n",
        "\n",
        "  print(\"*\"*100)\n",
        "  print(\"\\n\")"
      ],
      "metadata": {
        "id": "SCC3VB6dP-ci"
      },
      "execution_count": null,
      "outputs": []
    },
    {
      "cell_type": "code",
      "source": [
        "len(predictions_df)"
      ],
      "metadata": {
        "colab": {
          "base_uri": "https://localhost:8080/"
        },
        "id": "yPsqTgnVmO6_",
        "outputId": "bbc138d7-7dd4-43cf-d9a5-38264e65b4d5"
      },
      "execution_count": null,
      "outputs": [
        {
          "output_type": "execute_result",
          "data": {
            "text/plain": [
              "2492"
            ]
          },
          "metadata": {},
          "execution_count": 44
        }
      ]
    },
    {
      "cell_type": "code",
      "source": [
        "an/len(predictions_df)"
      ],
      "metadata": {
        "colab": {
          "base_uri": "https://localhost:8080/"
        },
        "id": "Y2nKjLgPmK2b",
        "outputId": "7494cb96-fbb4-4298-ab81-cbec43ddba81"
      },
      "execution_count": null,
      "outputs": [
        {
          "output_type": "execute_result",
          "data": {
            "text/plain": [
              "0.06982343499197431"
            ]
          },
          "metadata": {},
          "execution_count": 54
        }
      ]
    },
    {
      "cell_type": "markdown",
      "source": [
        "Gold:  OTHER\n",
        "Predicted:  SEXIST\n",
        "Score:  0.8652151823043823\n",
        "Text:  geldim ana oldu\n",
        "****************************************************************************************************\n",
        "\n",
        "Gold:  RACIST\n",
        "Predicted:  INSULT\n",
        "Score:  0.9915888905525208\n",
        "Text:  sana bi istavrozunu şaşırtırım kırk yıl kendine gelemezsin\n",
        "****************************************************************************************************\n",
        "\n",
        "Gold:  RACIST\n",
        "Predicted:  OTHER\n",
        "Score:  0.5220296382904053\n",
        "Text:  atletizim şampiyonasında siyahiler altın madalya kazanmaya devam ediyor\n",
        "****************************************************************************************************\n",
        "\n",
        "Gold:  INSULT\n",
        "Predicted:  SEXIST\n",
        "Score:  0.9952901601791382\n",
        "Text:  siz kadınlar böyle karaktersiz. adamlarda buluyorsunuz anlamıyorum doğrusu\n",
        "****************************************************************************************************\n",
        "\n",
        "Gold:  RACIST\n",
        "Predicted:  OTHER\n",
        "Score:  0.9514945149421692\n",
        "Text:  safkan= değilim-\n",
        "****************************************************************************************************\n",
        "\n",
        "Gold:  PROFANITY\n",
        "Predicted:  SEXIST\n",
        "Score:  0.5165250301361084\n",
        "Text:  fahişe eşittir seks emekçisidir\n",
        "****************************************************************************************************\n",
        "Gold:  INSULT\n",
        "Predicted:  OTHER\n",
        "Score:  0.9668828845024109\n",
        "Text:  yapamayacağını biliyordum\n",
        "****************************************************************************************************\n",
        "Gold:  OTHER\n",
        "Predicted:  RACIST\n",
        "Score:  0.9836679100990295\n",
        "Text:  kızılelma senden sorulur kuzgunlar hangi leşe giderse gitsin türk hakanın devleti başa gelecek önderi olduğun hareket asla engellenemeyecek\n",
        "****************************************************************************************************\n",
        "Gold:  OTHER\n",
        "Predicted:  SEXIST\n",
        "Score:  0.9700849652290344\n",
        "Text:  birinci emelleri oğullarına yahut kardeşlerine çirkin bir kız almaktır\n",
        "****************************************************************************************************\n",
        "Gold:  PROFANITY\n",
        "Predicted:  SEXIST\n",
        "Score:  0.9711324572563171\n",
        "Text:  sevişti bir bakir bir bakire; erkeğe milli dediler kıza fahişe\n",
        "****************************************************************************************************\n",
        "Gold:  PROFANITY\n",
        "Predicted:  INSULT\n",
        "Score:  0.992343008518219\n",
        "Text:  başlarım babanın şarap çanağından\n",
        "****************************************************************************************************\n",
        "\n",
        "\n",
        "Gold:  INSULT\n",
        "Predicted:  OTHER\n",
        "Score:  0.9898399114608765\n",
        "Text:  ağlamak işin kolayına kaçmaktır\n",
        "****************************************************************************************************\n",
        "Gold:  PROFANITY\n",
        "Predicted:  RACIST\n",
        "Score:  0.991144597530365\n",
        "Text:  i̇ngiliz boku yiyen aç pezevenk\n",
        "****************************************************************************************************"
      ],
      "metadata": {
        "id": "V9pl0AI_cylC"
      }
    },
    {
      "cell_type": "code",
      "source": [
        "!ls"
      ],
      "metadata": {
        "id": "ycE-OGZ2Tk5x",
        "colab": {
          "base_uri": "https://localhost:8080/"
        },
        "outputId": "a7060886-79d4-430e-9448-e5287a776527"
      },
      "execution_count": null,
      "outputs": [
        {
          "output_type": "stream",
          "name": "stdout",
          "text": [
            "sample_data\n",
            "teknofest_model_maxlen32_removedpunct_removed_other\n",
            "teknofest_preprocessed_test_df.csv\n",
            "teknofest_preprocessed_train_df.csv\n",
            "teknofest_preprocessed_val_df.csv\n"
          ]
        }
      ]
    },
    {
      "cell_type": "code",
      "source": [
        "!rm teknofest_model_maxlen32_removedpunct_removed_other/checkpoint-1115/optimizer.pt"
      ],
      "metadata": {
        "id": "SLh2vmvd2Fc1"
      },
      "execution_count": null,
      "outputs": []
    },
    {
      "cell_type": "code",
      "source": [
        "!tar -czvf teknofest_model_maxlen32_removedpunct_removed_other.tar.gz teknofest_model_maxlen32_removedpunct_removed_other/checkpoint-1115/*"
      ],
      "metadata": {
        "colab": {
          "base_uri": "https://localhost:8080/"
        },
        "id": "WWiLYU8S2K58",
        "outputId": "6b0a156c-b39f-4c2f-cb15-016cd5c876be"
      },
      "execution_count": null,
      "outputs": [
        {
          "output_type": "stream",
          "name": "stdout",
          "text": [
            "teknofest_model_maxlen32_removedpunct_removed_other/checkpoint-1115/config.json\n",
            "teknofest_model_maxlen32_removedpunct_removed_other/checkpoint-1115/pytorch_model.bin\n",
            "teknofest_model_maxlen32_removedpunct_removed_other/checkpoint-1115/rng_state.pth\n",
            "teknofest_model_maxlen32_removedpunct_removed_other/checkpoint-1115/scheduler.pt\n",
            "teknofest_model_maxlen32_removedpunct_removed_other/checkpoint-1115/special_tokens_map.json\n",
            "teknofest_model_maxlen32_removedpunct_removed_other/checkpoint-1115/tokenizer_config.json\n",
            "teknofest_model_maxlen32_removedpunct_removed_other/checkpoint-1115/tokenizer.json\n",
            "teknofest_model_maxlen32_removedpunct_removed_other/checkpoint-1115/trainer_state.json\n",
            "teknofest_model_maxlen32_removedpunct_removed_other/checkpoint-1115/training_args.bin\n",
            "teknofest_model_maxlen32_removedpunct_removed_other/checkpoint-1115/vocab.txt\n"
          ]
        }
      ]
    },
    {
      "cell_type": "code",
      "source": [
        "from google.colab import drive\n",
        "\n",
        "drive.mount('/content/gdrive/', force_remount=True)"
      ],
      "metadata": {
        "colab": {
          "base_uri": "https://localhost:8080/"
        },
        "id": "OHHFQx8v2fSF",
        "outputId": "e5b45cf6-8a5e-4ca3-ba95-13f64364efd7"
      },
      "execution_count": null,
      "outputs": [
        {
          "output_type": "stream",
          "name": "stdout",
          "text": [
            "Mounted at /content/gdrive/\n"
          ]
        }
      ]
    },
    {
      "cell_type": "code",
      "source": [
        "!mkdir /content/gdrive/MyDrive/teknofest-multiclass-model"
      ],
      "metadata": {
        "id": "r9MS5vTe3ozA"
      },
      "execution_count": null,
      "outputs": []
    },
    {
      "cell_type": "code",
      "source": [
        "!mv teknofest_model_maxlen32_removedpunct_removed_other.tar.gz /content/gdrive/MyDrive/teknofest-multiclass-model/"
      ],
      "metadata": {
        "id": "of1e3XbG3_5Y"
      },
      "execution_count": null,
      "outputs": []
    },
    {
      "cell_type": "code",
      "source": [
        "!cp -r /content/bert-base-turkish-cased-mean-nli-stsb-tr-5fold-32maxl-32tb-64vb-5ep-001wd-1e5lr-3validfold-4testfold-corrected-misslabels/checkpoint-1170/* /content/gdrive/MyDrive/teknofest-multiclass-model/bert-base-turkish-cased-mean-nli-stsb-tr-5fold-32maxl-32tb-64vb-5ep-001wd-1e5lr-3validfold-4testfold-corrected-misslabels/"
      ],
      "metadata": {
        "id": "CYxUleGy4Er7"
      },
      "execution_count": null,
      "outputs": []
    },
    {
      "cell_type": "code",
      "source": [
        "[res['label'] for res in classifier(test_df[\"text\"].tolist()[:5])]"
      ],
      "metadata": {
        "colab": {
          "base_uri": "https://localhost:8080/"
        },
        "id": "VkXTj8mEiiae",
        "outputId": "e80d65cf-a978-4ab7-aca7-28f40f3d1795"
      },
      "execution_count": null,
      "outputs": [
        {
          "output_type": "execute_result",
          "data": {
            "text/plain": [
              "['SEXIST', 'RACIST', 'INSULT', 'INSULT', 'INSULT']"
            ]
          },
          "metadata": {},
          "execution_count": 35
        }
      ]
    },
    {
      "cell_type": "code",
      "source": [
        "# Train Predictions"
      ],
      "metadata": {
        "id": "LjAReRg7jyW0"
      },
      "execution_count": null,
      "outputs": []
    },
    {
      "cell_type": "code",
      "source": [
        "from tqdm import tqdm\n",
        "\n",
        "tr_predictions = []\n",
        "for idx, text in enumerate(tqdm(train_df['text'])):\n",
        "\n",
        "  response = classifier(text)\n",
        "  tr_predictions.append([response[0]['label'],response[0]['score']])"
      ],
      "metadata": {
        "colab": {
          "base_uri": "https://localhost:8080/"
        },
        "id": "8fPZBp1c1vka",
        "outputId": "d725cd55-76d7-494a-fed8-76448d279319"
      },
      "execution_count": null,
      "outputs": [
        {
          "output_type": "stream",
          "name": "stderr",
          "text": [
            "100%|██████████| 7477/7477 [15:19<00:00,  8.13it/s]\n"
          ]
        }
      ]
    },
    {
      "cell_type": "code",
      "source": [
        "predictions_df_train = pd.DataFrame(tr_predictions, columns=[\"label\",\"score\"])\n",
        "predictions_df_train['text'] = train_df['text'].tolist()\n",
        "predictions_df_train['gold'] = train_df['target'].tolist()\n",
        "predictions_df_train['gold'] = predictions_df_train['gold'].map(id2label)\n",
        "\n",
        "predictions_df_train = predictions_df_train[[\"text\",\"gold\",\"label\",\"score\"]]"
      ],
      "metadata": {
        "id": "k5fruHPB8cQe"
      },
      "execution_count": null,
      "outputs": []
    },
    {
      "cell_type": "code",
      "source": [
        "gold_tr= predictions_df_train['gold'].tolist()\n",
        "preds_tr = predictions_df_train['label'].tolist()\n",
        "\n",
        "print(\"Accuracy score: \", accuracy_score(gold_tr,preds_tr))\n",
        "print(\"f1_score score: \", f1_score(gold_tr,preds_tr, average=\"macro\"))"
      ],
      "metadata": {
        "colab": {
          "base_uri": "https://localhost:8080/"
        },
        "id": "Mgxpnw1G8ceD",
        "outputId": "c59501c2-03ad-4264-82e4-e12c527d790e"
      },
      "execution_count": null,
      "outputs": [
        {
          "output_type": "stream",
          "name": "stdout",
          "text": [
            "Accuracy score:  0.9810084258392403\n",
            "f1_score score:  0.9808138570987758\n"
          ]
        }
      ]
    },
    {
      "cell_type": "code",
      "source": [
        "predictions_df_train[(predictions_df_train.gold !=predictions_df_train.label)].to_excel(\"train_misslabeled.xlsx\", index=False)"
      ],
      "metadata": {
        "id": "WmPJDi2r8cgu"
      },
      "execution_count": null,
      "outputs": []
    },
    {
      "cell_type": "code",
      "source": [
        "# Valid Predictions"
      ],
      "metadata": {
        "id": "1X6wND9G1vsp"
      },
      "execution_count": null,
      "outputs": []
    },
    {
      "cell_type": "code",
      "source": [
        "from tqdm import tqdm\n",
        "\n",
        "val_predictions = []\n",
        "for text in tqdm(val_df['text']):\n",
        "  response = classifier(text)\n",
        "  val_predictions.append([response[0]['label'],response[0]['score']])"
      ],
      "metadata": {
        "colab": {
          "base_uri": "https://localhost:8080/"
        },
        "id": "wxYzwL9GnQJT",
        "outputId": "ab39f398-956f-493a-e73d-79f5d562a7eb"
      },
      "execution_count": null,
      "outputs": [
        {
          "output_type": "stream",
          "name": "stderr",
          "text": [
            "100%|██████████| 2492/2492 [04:49<00:00,  8.62it/s]\n"
          ]
        }
      ]
    },
    {
      "cell_type": "code",
      "source": [
        "predictions_df_valid = pd.DataFrame(val_predictions, columns=[\"label\",\"score\"])\n",
        "predictions_df_valid['text'] = val_df['text'].tolist()\n",
        "predictions_df_valid['gold'] = val_df['target'].tolist()\n",
        "predictions_df_valid['gold'] = predictions_df_valid['gold'].map(id2label)\n",
        "\n",
        "predictions_df_valid = predictions_df_valid[[\"text\",\"gold\",\"label\",\"score\"]]"
      ],
      "metadata": {
        "id": "POj3oHzToDuG"
      },
      "execution_count": null,
      "outputs": []
    },
    {
      "cell_type": "code",
      "source": [
        "predictions_df_valid"
      ],
      "metadata": {
        "colab": {
          "base_uri": "https://localhost:8080/",
          "height": 424
        },
        "id": "kfH92Oe9rPSm",
        "outputId": "76771490-7730-4c11-a60f-861469d1837d"
      },
      "execution_count": null,
      "outputs": [
        {
          "output_type": "execute_result",
          "data": {
            "text/plain": [
              "                                                   text       gold      label  \\\n",
              "0                                     işe yaramaz herif     INSULT     INSULT   \n",
              "1                            ananın amına ceviz sokayım  PROFANITY  PROFANITY   \n",
              "2        kasaba muhtaç olacağıma sikimi keser onu yerim  PROFANITY  PROFANITY   \n",
              "3                            ancak bana geri dönmediler      OTHER      OTHER   \n",
              "4     özellikle büyük şehirlere aynı gün içinde deği...      OTHER      OTHER   \n",
              "...                                                 ...        ...        ...   \n",
              "2487  kısa mevzu derinliğinden sonra tilki gel abici...      OTHER     INSULT   \n",
              "2488  suriyeli kızın ölmeden önce bıraktığı not herk...      OTHER     RACIST   \n",
              "2489               yaşlı adam tepine tepine çıkışıyordu      OTHER      OTHER   \n",
              "2490  komşum kendi köpeklerini bile mayanın gözü önü...      OTHER     RACIST   \n",
              "2491  macaristandan almanyaya fon tepkisi macaristan...      OTHER      OTHER   \n",
              "\n",
              "         score  \n",
              "0     0.992028  \n",
              "1     0.995899  \n",
              "2     0.995432  \n",
              "3     0.997616  \n",
              "4     0.996871  \n",
              "...        ...  \n",
              "2487  0.923799  \n",
              "2488  0.560572  \n",
              "2489  0.973257  \n",
              "2490  0.597353  \n",
              "2491  0.841371  \n",
              "\n",
              "[2492 rows x 4 columns]"
            ],
            "text/html": [
              "\n",
              "  <div id=\"df-ab902c89-46a3-4870-a31e-9a0cbc3a2fc2\">\n",
              "    <div class=\"colab-df-container\">\n",
              "      <div>\n",
              "<style scoped>\n",
              "    .dataframe tbody tr th:only-of-type {\n",
              "        vertical-align: middle;\n",
              "    }\n",
              "\n",
              "    .dataframe tbody tr th {\n",
              "        vertical-align: top;\n",
              "    }\n",
              "\n",
              "    .dataframe thead th {\n",
              "        text-align: right;\n",
              "    }\n",
              "</style>\n",
              "<table border=\"1\" class=\"dataframe\">\n",
              "  <thead>\n",
              "    <tr style=\"text-align: right;\">\n",
              "      <th></th>\n",
              "      <th>text</th>\n",
              "      <th>gold</th>\n",
              "      <th>label</th>\n",
              "      <th>score</th>\n",
              "    </tr>\n",
              "  </thead>\n",
              "  <tbody>\n",
              "    <tr>\n",
              "      <th>0</th>\n",
              "      <td>işe yaramaz herif</td>\n",
              "      <td>INSULT</td>\n",
              "      <td>INSULT</td>\n",
              "      <td>0.992028</td>\n",
              "    </tr>\n",
              "    <tr>\n",
              "      <th>1</th>\n",
              "      <td>ananın amına ceviz sokayım</td>\n",
              "      <td>PROFANITY</td>\n",
              "      <td>PROFANITY</td>\n",
              "      <td>0.995899</td>\n",
              "    </tr>\n",
              "    <tr>\n",
              "      <th>2</th>\n",
              "      <td>kasaba muhtaç olacağıma sikimi keser onu yerim</td>\n",
              "      <td>PROFANITY</td>\n",
              "      <td>PROFANITY</td>\n",
              "      <td>0.995432</td>\n",
              "    </tr>\n",
              "    <tr>\n",
              "      <th>3</th>\n",
              "      <td>ancak bana geri dönmediler</td>\n",
              "      <td>OTHER</td>\n",
              "      <td>OTHER</td>\n",
              "      <td>0.997616</td>\n",
              "    </tr>\n",
              "    <tr>\n",
              "      <th>4</th>\n",
              "      <td>özellikle büyük şehirlere aynı gün içinde deği...</td>\n",
              "      <td>OTHER</td>\n",
              "      <td>OTHER</td>\n",
              "      <td>0.996871</td>\n",
              "    </tr>\n",
              "    <tr>\n",
              "      <th>...</th>\n",
              "      <td>...</td>\n",
              "      <td>...</td>\n",
              "      <td>...</td>\n",
              "      <td>...</td>\n",
              "    </tr>\n",
              "    <tr>\n",
              "      <th>2487</th>\n",
              "      <td>kısa mevzu derinliğinden sonra tilki gel abici...</td>\n",
              "      <td>OTHER</td>\n",
              "      <td>INSULT</td>\n",
              "      <td>0.923799</td>\n",
              "    </tr>\n",
              "    <tr>\n",
              "      <th>2488</th>\n",
              "      <td>suriyeli kızın ölmeden önce bıraktığı not herk...</td>\n",
              "      <td>OTHER</td>\n",
              "      <td>RACIST</td>\n",
              "      <td>0.560572</td>\n",
              "    </tr>\n",
              "    <tr>\n",
              "      <th>2489</th>\n",
              "      <td>yaşlı adam tepine tepine çıkışıyordu</td>\n",
              "      <td>OTHER</td>\n",
              "      <td>OTHER</td>\n",
              "      <td>0.973257</td>\n",
              "    </tr>\n",
              "    <tr>\n",
              "      <th>2490</th>\n",
              "      <td>komşum kendi köpeklerini bile mayanın gözü önü...</td>\n",
              "      <td>OTHER</td>\n",
              "      <td>RACIST</td>\n",
              "      <td>0.597353</td>\n",
              "    </tr>\n",
              "    <tr>\n",
              "      <th>2491</th>\n",
              "      <td>macaristandan almanyaya fon tepkisi macaristan...</td>\n",
              "      <td>OTHER</td>\n",
              "      <td>OTHER</td>\n",
              "      <td>0.841371</td>\n",
              "    </tr>\n",
              "  </tbody>\n",
              "</table>\n",
              "<p>2492 rows × 4 columns</p>\n",
              "</div>\n",
              "      <button class=\"colab-df-convert\" onclick=\"convertToInteractive('df-ab902c89-46a3-4870-a31e-9a0cbc3a2fc2')\"\n",
              "              title=\"Convert this dataframe to an interactive table.\"\n",
              "              style=\"display:none;\">\n",
              "        \n",
              "  <svg xmlns=\"http://www.w3.org/2000/svg\" height=\"24px\"viewBox=\"0 0 24 24\"\n",
              "       width=\"24px\">\n",
              "    <path d=\"M0 0h24v24H0V0z\" fill=\"none\"/>\n",
              "    <path d=\"M18.56 5.44l.94 2.06.94-2.06 2.06-.94-2.06-.94-.94-2.06-.94 2.06-2.06.94zm-11 1L8.5 8.5l.94-2.06 2.06-.94-2.06-.94L8.5 2.5l-.94 2.06-2.06.94zm10 10l.94 2.06.94-2.06 2.06-.94-2.06-.94-.94-2.06-.94 2.06-2.06.94z\"/><path d=\"M17.41 7.96l-1.37-1.37c-.4-.4-.92-.59-1.43-.59-.52 0-1.04.2-1.43.59L10.3 9.45l-7.72 7.72c-.78.78-.78 2.05 0 2.83L4 21.41c.39.39.9.59 1.41.59.51 0 1.02-.2 1.41-.59l7.78-7.78 2.81-2.81c.8-.78.8-2.07 0-2.86zM5.41 20L4 18.59l7.72-7.72 1.47 1.35L5.41 20z\"/>\n",
              "  </svg>\n",
              "      </button>\n",
              "      \n",
              "  <style>\n",
              "    .colab-df-container {\n",
              "      display:flex;\n",
              "      flex-wrap:wrap;\n",
              "      gap: 12px;\n",
              "    }\n",
              "\n",
              "    .colab-df-convert {\n",
              "      background-color: #E8F0FE;\n",
              "      border: none;\n",
              "      border-radius: 50%;\n",
              "      cursor: pointer;\n",
              "      display: none;\n",
              "      fill: #1967D2;\n",
              "      height: 32px;\n",
              "      padding: 0 0 0 0;\n",
              "      width: 32px;\n",
              "    }\n",
              "\n",
              "    .colab-df-convert:hover {\n",
              "      background-color: #E2EBFA;\n",
              "      box-shadow: 0px 1px 2px rgba(60, 64, 67, 0.3), 0px 1px 3px 1px rgba(60, 64, 67, 0.15);\n",
              "      fill: #174EA6;\n",
              "    }\n",
              "\n",
              "    [theme=dark] .colab-df-convert {\n",
              "      background-color: #3B4455;\n",
              "      fill: #D2E3FC;\n",
              "    }\n",
              "\n",
              "    [theme=dark] .colab-df-convert:hover {\n",
              "      background-color: #434B5C;\n",
              "      box-shadow: 0px 1px 3px 1px rgba(0, 0, 0, 0.15);\n",
              "      filter: drop-shadow(0px 1px 2px rgba(0, 0, 0, 0.3));\n",
              "      fill: #FFFFFF;\n",
              "    }\n",
              "  </style>\n",
              "\n",
              "      <script>\n",
              "        const buttonEl =\n",
              "          document.querySelector('#df-ab902c89-46a3-4870-a31e-9a0cbc3a2fc2 button.colab-df-convert');\n",
              "        buttonEl.style.display =\n",
              "          google.colab.kernel.accessAllowed ? 'block' : 'none';\n",
              "\n",
              "        async function convertToInteractive(key) {\n",
              "          const element = document.querySelector('#df-ab902c89-46a3-4870-a31e-9a0cbc3a2fc2');\n",
              "          const dataTable =\n",
              "            await google.colab.kernel.invokeFunction('convertToInteractive',\n",
              "                                                     [key], {});\n",
              "          if (!dataTable) return;\n",
              "\n",
              "          const docLinkHtml = 'Like what you see? Visit the ' +\n",
              "            '<a target=\"_blank\" href=https://colab.research.google.com/notebooks/data_table.ipynb>data table notebook</a>'\n",
              "            + ' to learn more about interactive tables.';\n",
              "          element.innerHTML = '';\n",
              "          dataTable['output_type'] = 'display_data';\n",
              "          await google.colab.output.renderOutput(dataTable, element);\n",
              "          const docLink = document.createElement('div');\n",
              "          docLink.innerHTML = docLinkHtml;\n",
              "          element.appendChild(docLink);\n",
              "        }\n",
              "      </script>\n",
              "    </div>\n",
              "  </div>\n",
              "  "
            ]
          },
          "metadata": {},
          "execution_count": 65
        }
      ]
    },
    {
      "cell_type": "code",
      "source": [
        "gold_valid = predictions_df['gold'].tolist()\n",
        "preds_valid = predictions_df['label'].tolist()\n",
        "\n",
        "print(\"Accuracy score: \", accuracy_score(gold_valid,preds_valid))\n",
        "print(\"f1_score score: \", f1_score(gold_valid,preds_valid, average=\"macro\"))"
      ],
      "metadata": {
        "colab": {
          "base_uri": "https://localhost:8080/"
        },
        "id": "_oXr9K8orPau",
        "outputId": "0f233de1-7e80-44f2-9bb5-5e74643af7c3"
      },
      "execution_count": null,
      "outputs": [
        {
          "output_type": "stream",
          "name": "stdout",
          "text": [
            "Accuracy score:  0.9301765650080257\n",
            "f1_score score:  0.9311650378112992\n"
          ]
        }
      ]
    }
  ]
}