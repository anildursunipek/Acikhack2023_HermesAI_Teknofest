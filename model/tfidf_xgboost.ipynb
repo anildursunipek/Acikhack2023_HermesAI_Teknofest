{
  "nbformat": 4,
  "nbformat_minor": 0,
  "metadata": {
    "colab": {
      "provenance": []
    },
    "kernelspec": {
      "name": "python3",
      "display_name": "Python 3"
    },
    "language_info": {
      "name": "python"
    }
  },
  "cells": [
    {
      "cell_type": "code",
      "source": [
        "import numpy as np\n",
        "import pandas as pd\n",
        "\n",
        "from sklearn.feature_extraction.text import TfidfVectorizer\n",
        "from sklearn.linear_model import LogisticRegression\n",
        "from sklearn.model_selection import cross_val_score\n",
        "from scipy.sparse import hstack\n",
        "import xgboost as xgb\n",
        "from xgboost.sklearn import XGBClassifier\n",
        "import gc"
      ],
      "metadata": {
        "id": "rIfM-GkmzrEQ"
      },
      "execution_count": null,
      "outputs": []
    },
    {
      "cell_type": "code",
      "source": [
        "############################ FILE PATHS ########################################\n",
        "DATA_PATH = \"/content/teknofest_preprocessed_data_10fold.csv\"\n",
        "\n",
        "TEST_FOLD = 9\n",
        "VALID_FOLD = 8"
      ],
      "metadata": {
        "id": "O0qVoyuizspz"
      },
      "execution_count": null,
      "outputs": []
    },
    {
      "cell_type": "code",
      "source": [
        "all_df = pd.read_csv(DATA_PATH)\n",
        "\n",
        "train_df = all_df[~all_df.kfold_10.isin([TEST_FOLD, VALID_FOLD])]\n",
        "val_df = all_df[all_df.kfold_10.isin([VALID_FOLD])]\n",
        "test_df = all_df[all_df.kfold_10.isin([TEST_FOLD])]"
      ],
      "metadata": {
        "id": "-c99FDytz3Dh"
      },
      "execution_count": null,
      "outputs": []
    },
    {
      "cell_type": "code",
      "source": [
        "train_df['is_offensive'] = train_df['is_offensive'].astype(int)\n",
        "val_df['is_offensive'] = val_df['is_offensive'].astype(int)\n",
        "test_df['is_offensive'] = test_df['is_offensive'].astype(int)"
      ],
      "metadata": {
        "id": "_PE4wmd0CwRZ"
      },
      "execution_count": null,
      "outputs": []
    },
    {
      "cell_type": "code",
      "source": [
        "train_text = train_df['text']\n",
        "val_text = val_df['text']\n",
        "test_text = test_df['text']\n",
        "\n",
        "all_text = pd.concat([train_text, val_text,test_text])"
      ],
      "metadata": {
        "id": "HYUDXajLz8Hj"
      },
      "execution_count": null,
      "outputs": []
    },
    {
      "cell_type": "code",
      "source": [
        "print(\"TFIDF\")\n",
        "word_vectorizer = TfidfVectorizer(\n",
        "    sublinear_tf=True,\n",
        "    strip_accents='unicode',\n",
        "    analyzer='word',\n",
        "    token_pattern=r'\\w{1,}',\n",
        "    ngram_range=(1, 1),\n",
        "    norm='l2',\n",
        "    min_df=0,\n",
        "    smooth_idf=False,\n",
        "    max_features=15000)\n",
        "\n",
        "word_vectorizer.fit(all_text)\n",
        "train_word_features = word_vectorizer.transform(train_text)\n",
        "valid_word_features = word_vectorizer.transform(val_text)"
      ],
      "metadata": {
        "colab": {
          "base_uri": "https://localhost:8080/"
        },
        "id": "VrGbYa5X0pgJ",
        "outputId": "cc8a95d9-8586-424f-96bc-c5205a8789d9"
      },
      "execution_count": null,
      "outputs": [
        {
          "output_type": "stream",
          "name": "stdout",
          "text": [
            "TFIDF\n"
          ]
        }
      ]
    },
    {
      "cell_type": "code",
      "source": [
        "char_vectorizer = TfidfVectorizer(\n",
        "    sublinear_tf=True,\n",
        "    strip_accents='unicode',\n",
        "    analyzer='char',\n",
        "    ngram_range=(2, 6),\n",
        "    norm='l2',\n",
        "    min_df=0,\n",
        "    smooth_idf=False,\n",
        "    max_features=50000)\n",
        "\n",
        "char_vectorizer.fit(all_text)\n",
        "\n",
        "train_char_features = char_vectorizer.transform(train_text)\n",
        "valid_char_features = char_vectorizer.transform(val_text)"
      ],
      "metadata": {
        "id": "6YoL9onO0tFe"
      },
      "execution_count": null,
      "outputs": []
    },
    {
      "cell_type": "code",
      "source": [
        "train_features = hstack([train_char_features, train_word_features])\n",
        "del train_char_features,train_word_features\n",
        "\n",
        "val_features = hstack([valid_char_features, valid_word_features])\n",
        "del valid_char_features,valid_word_features"
      ],
      "metadata": {
        "id": "ka6UYQkK00Yu"
      },
      "execution_count": null,
      "outputs": []
    },
    {
      "cell_type": "code",
      "source": [
        "print(train_features.shape)\n",
        "print(val_features.shape)"
      ],
      "metadata": {
        "colab": {
          "base_uri": "https://localhost:8080/"
        },
        "id": "s077sn8u1ABP",
        "outputId": "2c5e9e59-bd3e-4724-db5e-dc267ec63569"
      },
      "execution_count": null,
      "outputs": [
        {
          "output_type": "stream",
          "name": "stdout",
          "text": [
            "(9969, 65000)\n",
            "(1246, 65000)\n"
          ]
        }
      ]
    },
    {
      "cell_type": "code",
      "source": [
        "label2id = {label:id for id, label in enumerate(train_df['target'].unique())}\n",
        "id2label = {id:label for label,id in label2id.items()}\n",
        "\n",
        "train_df['target'] = train_df['target'].map(label2id)\n",
        "val_df['target'] = val_df['target'].map(label2id)\n",
        "test_df['target'] = test_df['target'].map(label2id)"
      ],
      "metadata": {
        "id": "7T1wQ5tR66T0"
      },
      "execution_count": null,
      "outputs": []
    },
    {
      "cell_type": "code",
      "source": [
        "val_features, len(val_df['is_offensive'].tolist())"
      ],
      "metadata": {
        "colab": {
          "base_uri": "https://localhost:8080/"
        },
        "id": "AAAFJycF_hx7",
        "outputId": "0dd4d238-b60e-4a5c-beae-fb32d24a9a29"
      },
      "execution_count": null,
      "outputs": [
        {
          "output_type": "execute_result",
          "data": {
            "text/plain": [
              "(<1246x65000 sparse matrix of type '<class 'numpy.float64'>'\n",
              " \twith 194998 stored elements in Compressed Sparse Row format>,\n",
              " 1246)"
            ]
          },
          "metadata": {},
          "execution_count": 17
        }
      ]
    },
    {
      "cell_type": "code",
      "source": [
        "train_features, len(train_df['is_offensive'].tolist())"
      ],
      "metadata": {
        "colab": {
          "base_uri": "https://localhost:8080/"
        },
        "id": "gUu3b_0nDZNJ",
        "outputId": "6411f21a-9a1e-4ea1-a46d-8d1d97234841"
      },
      "execution_count": null,
      "outputs": [
        {
          "output_type": "execute_result",
          "data": {
            "text/plain": [
              "(<9969x65000 sparse matrix of type '<class 'numpy.float64'>'\n",
              " \twith 1544081 stored elements in Compressed Sparse Row format>,\n",
              " 9969)"
            ]
          },
          "metadata": {},
          "execution_count": 18
        }
      ]
    },
    {
      "cell_type": "code",
      "source": [
        "import xgboost as xgb\n",
        "\n",
        "target_name = \"is_offensive\"\n",
        "\n",
        "xgb_params = {\n",
        "    'eta': 0.3, \n",
        "    'max_depth': 5, \n",
        "    'subsample': 0.8, \n",
        "    'colsample_bytree': 0.8, \n",
        "    'objective':'binary:logistic',\n",
        "    'num_class':2,\n",
        "    'seed': 23\n",
        "          }\n",
        "\n",
        "# Eğitim sırasında F1 skoru hesaplamak ve eğitimi durdurmak için early stopping kullanın\n",
        "eval_set = [(train_features, train_df[target_name].tolist()), (val_features, val_df[target_name].tolist())]\n",
        "\n",
        "model = xgb.XGBClassifier()\n",
        "\n",
        "model.fit(train_features, \n",
        "          train_df[target_name].tolist(), \n",
        "          early_stopping_rounds=10,\n",
        "          eval_set=eval_set)"
      ],
      "metadata": {
        "colab": {
          "base_uri": "https://localhost:8080/",
          "height": 1000
        },
        "id": "-QQ7EVdl1DwA",
        "outputId": "1514b1cf-4de9-4a19-c628-93d32034fd8a"
      },
      "execution_count": null,
      "outputs": [
        {
          "output_type": "stream",
          "name": "stdout",
          "text": [
            "[0]\tvalidation_0-logloss:0.59388\tvalidation_1-logloss:0.60385\n",
            "[1]\tvalidation_0-logloss:0.53360\tvalidation_1-logloss:0.54806\n",
            "[2]\tvalidation_0-logloss:0.48919\tvalidation_1-logloss:0.51042\n",
            "[3]\tvalidation_0-logloss:0.45438\tvalidation_1-logloss:0.47979\n",
            "[4]\tvalidation_0-logloss:0.43046\tvalidation_1-logloss:0.45853\n",
            "[5]\tvalidation_0-logloss:0.40601\tvalidation_1-logloss:0.43888\n",
            "[6]\tvalidation_0-logloss:0.39079\tvalidation_1-logloss:0.42668\n",
            "[7]\tvalidation_0-logloss:0.37460\tvalidation_1-logloss:0.41657\n",
            "[8]\tvalidation_0-logloss:0.36510\tvalidation_1-logloss:0.40836\n",
            "[9]\tvalidation_0-logloss:0.35238\tvalidation_1-logloss:0.39877\n",
            "[10]\tvalidation_0-logloss:0.34307\tvalidation_1-logloss:0.39154\n",
            "[11]\tvalidation_0-logloss:0.33564\tvalidation_1-logloss:0.38514\n",
            "[12]\tvalidation_0-logloss:0.32733\tvalidation_1-logloss:0.37969\n",
            "[13]\tvalidation_0-logloss:0.31935\tvalidation_1-logloss:0.37282\n",
            "[14]\tvalidation_0-logloss:0.31421\tvalidation_1-logloss:0.36739\n",
            "[15]\tvalidation_0-logloss:0.30603\tvalidation_1-logloss:0.36245\n",
            "[16]\tvalidation_0-logloss:0.29956\tvalidation_1-logloss:0.35803\n",
            "[17]\tvalidation_0-logloss:0.29328\tvalidation_1-logloss:0.35381\n",
            "[18]\tvalidation_0-logloss:0.28867\tvalidation_1-logloss:0.35020\n",
            "[19]\tvalidation_0-logloss:0.28171\tvalidation_1-logloss:0.34762\n",
            "[20]\tvalidation_0-logloss:0.27733\tvalidation_1-logloss:0.34337\n",
            "[21]\tvalidation_0-logloss:0.27168\tvalidation_1-logloss:0.34041\n",
            "[22]\tvalidation_0-logloss:0.26682\tvalidation_1-logloss:0.33745\n",
            "[23]\tvalidation_0-logloss:0.26360\tvalidation_1-logloss:0.33586\n",
            "[24]\tvalidation_0-logloss:0.25889\tvalidation_1-logloss:0.33367\n",
            "[25]\tvalidation_0-logloss:0.25494\tvalidation_1-logloss:0.33219\n",
            "[26]\tvalidation_0-logloss:0.25036\tvalidation_1-logloss:0.33009\n",
            "[27]\tvalidation_0-logloss:0.24614\tvalidation_1-logloss:0.32894\n",
            "[28]\tvalidation_0-logloss:0.24331\tvalidation_1-logloss:0.32658\n",
            "[29]\tvalidation_0-logloss:0.24023\tvalidation_1-logloss:0.32392\n",
            "[30]\tvalidation_0-logloss:0.23653\tvalidation_1-logloss:0.32100\n",
            "[31]\tvalidation_0-logloss:0.23410\tvalidation_1-logloss:0.31908\n",
            "[32]\tvalidation_0-logloss:0.23112\tvalidation_1-logloss:0.31816\n",
            "[33]\tvalidation_0-logloss:0.22840\tvalidation_1-logloss:0.31649\n",
            "[34]\tvalidation_0-logloss:0.22613\tvalidation_1-logloss:0.31556\n",
            "[35]\tvalidation_0-logloss:0.22377\tvalidation_1-logloss:0.31438\n",
            "[36]\tvalidation_0-logloss:0.22021\tvalidation_1-logloss:0.31184\n",
            "[37]\tvalidation_0-logloss:0.21736\tvalidation_1-logloss:0.30912\n",
            "[38]\tvalidation_0-logloss:0.21371\tvalidation_1-logloss:0.30701\n",
            "[39]\tvalidation_0-logloss:0.21189\tvalidation_1-logloss:0.30574\n",
            "[40]\tvalidation_0-logloss:0.20989\tvalidation_1-logloss:0.30490\n",
            "[41]\tvalidation_0-logloss:0.20513\tvalidation_1-logloss:0.30403\n",
            "[42]\tvalidation_0-logloss:0.20283\tvalidation_1-logloss:0.30269\n",
            "[43]\tvalidation_0-logloss:0.19973\tvalidation_1-logloss:0.30144\n",
            "[44]\tvalidation_0-logloss:0.19797\tvalidation_1-logloss:0.29997\n",
            "[45]\tvalidation_0-logloss:0.19645\tvalidation_1-logloss:0.29881\n",
            "[46]\tvalidation_0-logloss:0.19454\tvalidation_1-logloss:0.29763\n",
            "[47]\tvalidation_0-logloss:0.19268\tvalidation_1-logloss:0.29717\n",
            "[48]\tvalidation_0-logloss:0.18916\tvalidation_1-logloss:0.29549\n",
            "[49]\tvalidation_0-logloss:0.18776\tvalidation_1-logloss:0.29532\n",
            "[50]\tvalidation_0-logloss:0.18528\tvalidation_1-logloss:0.29358\n",
            "[51]\tvalidation_0-logloss:0.18347\tvalidation_1-logloss:0.29345\n",
            "[52]\tvalidation_0-logloss:0.18066\tvalidation_1-logloss:0.29185\n",
            "[53]\tvalidation_0-logloss:0.17885\tvalidation_1-logloss:0.29105\n",
            "[54]\tvalidation_0-logloss:0.17726\tvalidation_1-logloss:0.28908\n",
            "[55]\tvalidation_0-logloss:0.17497\tvalidation_1-logloss:0.28742\n",
            "[56]\tvalidation_0-logloss:0.17388\tvalidation_1-logloss:0.28695\n",
            "[57]\tvalidation_0-logloss:0.17232\tvalidation_1-logloss:0.28613\n",
            "[58]\tvalidation_0-logloss:0.17085\tvalidation_1-logloss:0.28592\n",
            "[59]\tvalidation_0-logloss:0.16916\tvalidation_1-logloss:0.28562\n",
            "[60]\tvalidation_0-logloss:0.16752\tvalidation_1-logloss:0.28580\n",
            "[61]\tvalidation_0-logloss:0.16615\tvalidation_1-logloss:0.28464\n",
            "[62]\tvalidation_0-logloss:0.16434\tvalidation_1-logloss:0.28366\n",
            "[63]\tvalidation_0-logloss:0.16302\tvalidation_1-logloss:0.28326\n",
            "[64]\tvalidation_0-logloss:0.16119\tvalidation_1-logloss:0.28179\n",
            "[65]\tvalidation_0-logloss:0.15986\tvalidation_1-logloss:0.28115\n",
            "[66]\tvalidation_0-logloss:0.15873\tvalidation_1-logloss:0.28135\n",
            "[67]\tvalidation_0-logloss:0.15746\tvalidation_1-logloss:0.28086\n",
            "[68]\tvalidation_0-logloss:0.15578\tvalidation_1-logloss:0.28022\n",
            "[69]\tvalidation_0-logloss:0.15458\tvalidation_1-logloss:0.28050\n",
            "[70]\tvalidation_0-logloss:0.15309\tvalidation_1-logloss:0.27951\n",
            "[71]\tvalidation_0-logloss:0.15212\tvalidation_1-logloss:0.27875\n",
            "[72]\tvalidation_0-logloss:0.15034\tvalidation_1-logloss:0.27817\n",
            "[73]\tvalidation_0-logloss:0.14881\tvalidation_1-logloss:0.27711\n",
            "[74]\tvalidation_0-logloss:0.14657\tvalidation_1-logloss:0.27615\n",
            "[75]\tvalidation_0-logloss:0.14530\tvalidation_1-logloss:0.27504\n",
            "[76]\tvalidation_0-logloss:0.14448\tvalidation_1-logloss:0.27476\n",
            "[77]\tvalidation_0-logloss:0.14363\tvalidation_1-logloss:0.27401\n",
            "[78]\tvalidation_0-logloss:0.14285\tvalidation_1-logloss:0.27342\n",
            "[79]\tvalidation_0-logloss:0.14174\tvalidation_1-logloss:0.27292\n",
            "[80]\tvalidation_0-logloss:0.14044\tvalidation_1-logloss:0.27216\n",
            "[81]\tvalidation_0-logloss:0.13952\tvalidation_1-logloss:0.27092\n",
            "[82]\tvalidation_0-logloss:0.13789\tvalidation_1-logloss:0.27055\n",
            "[83]\tvalidation_0-logloss:0.13705\tvalidation_1-logloss:0.27085\n",
            "[84]\tvalidation_0-logloss:0.13628\tvalidation_1-logloss:0.27023\n",
            "[85]\tvalidation_0-logloss:0.13551\tvalidation_1-logloss:0.27013\n",
            "[86]\tvalidation_0-logloss:0.13409\tvalidation_1-logloss:0.26978\n",
            "[87]\tvalidation_0-logloss:0.13303\tvalidation_1-logloss:0.26913\n",
            "[88]\tvalidation_0-logloss:0.13205\tvalidation_1-logloss:0.26895\n",
            "[89]\tvalidation_0-logloss:0.13070\tvalidation_1-logloss:0.26832\n",
            "[90]\tvalidation_0-logloss:0.12988\tvalidation_1-logloss:0.26732\n",
            "[91]\tvalidation_0-logloss:0.12902\tvalidation_1-logloss:0.26701\n",
            "[92]\tvalidation_0-logloss:0.12793\tvalidation_1-logloss:0.26581\n",
            "[93]\tvalidation_0-logloss:0.12700\tvalidation_1-logloss:0.26509\n",
            "[94]\tvalidation_0-logloss:0.12604\tvalidation_1-logloss:0.26493\n",
            "[95]\tvalidation_0-logloss:0.12505\tvalidation_1-logloss:0.26469\n",
            "[96]\tvalidation_0-logloss:0.12420\tvalidation_1-logloss:0.26394\n",
            "[97]\tvalidation_0-logloss:0.12327\tvalidation_1-logloss:0.26399\n",
            "[98]\tvalidation_0-logloss:0.12244\tvalidation_1-logloss:0.26371\n",
            "[99]\tvalidation_0-logloss:0.12047\tvalidation_1-logloss:0.26382\n"
          ]
        },
        {
          "output_type": "execute_result",
          "data": {
            "text/plain": [
              "XGBClassifier(base_score=None, booster=None, callbacks=None,\n",
              "              colsample_bylevel=None, colsample_bynode=None,\n",
              "              colsample_bytree=None, early_stopping_rounds=None,\n",
              "              enable_categorical=False, eval_metric=None, feature_types=None,\n",
              "              gamma=None, gpu_id=None, grow_policy=None, importance_type=None,\n",
              "              interaction_constraints=None, learning_rate=None, max_bin=None,\n",
              "              max_cat_threshold=None, max_cat_to_onehot=None,\n",
              "              max_delta_step=None, max_depth=None, max_leaves=None,\n",
              "              min_child_weight=None, missing=nan, monotone_constraints=None,\n",
              "              n_estimators=100, n_jobs=None, num_parallel_tree=None,\n",
              "              predictor=None, random_state=None, ...)"
            ],
            "text/html": [
              "<style>#sk-container-id-2 {color: black;background-color: white;}#sk-container-id-2 pre{padding: 0;}#sk-container-id-2 div.sk-toggleable {background-color: white;}#sk-container-id-2 label.sk-toggleable__label {cursor: pointer;display: block;width: 100%;margin-bottom: 0;padding: 0.3em;box-sizing: border-box;text-align: center;}#sk-container-id-2 label.sk-toggleable__label-arrow:before {content: \"▸\";float: left;margin-right: 0.25em;color: #696969;}#sk-container-id-2 label.sk-toggleable__label-arrow:hover:before {color: black;}#sk-container-id-2 div.sk-estimator:hover label.sk-toggleable__label-arrow:before {color: black;}#sk-container-id-2 div.sk-toggleable__content {max-height: 0;max-width: 0;overflow: hidden;text-align: left;background-color: #f0f8ff;}#sk-container-id-2 div.sk-toggleable__content pre {margin: 0.2em;color: black;border-radius: 0.25em;background-color: #f0f8ff;}#sk-container-id-2 input.sk-toggleable__control:checked~div.sk-toggleable__content {max-height: 200px;max-width: 100%;overflow: auto;}#sk-container-id-2 input.sk-toggleable__control:checked~label.sk-toggleable__label-arrow:before {content: \"▾\";}#sk-container-id-2 div.sk-estimator input.sk-toggleable__control:checked~label.sk-toggleable__label {background-color: #d4ebff;}#sk-container-id-2 div.sk-label input.sk-toggleable__control:checked~label.sk-toggleable__label {background-color: #d4ebff;}#sk-container-id-2 input.sk-hidden--visually {border: 0;clip: rect(1px 1px 1px 1px);clip: rect(1px, 1px, 1px, 1px);height: 1px;margin: -1px;overflow: hidden;padding: 0;position: absolute;width: 1px;}#sk-container-id-2 div.sk-estimator {font-family: monospace;background-color: #f0f8ff;border: 1px dotted black;border-radius: 0.25em;box-sizing: border-box;margin-bottom: 0.5em;}#sk-container-id-2 div.sk-estimator:hover {background-color: #d4ebff;}#sk-container-id-2 div.sk-parallel-item::after {content: \"\";width: 100%;border-bottom: 1px solid gray;flex-grow: 1;}#sk-container-id-2 div.sk-label:hover label.sk-toggleable__label {background-color: #d4ebff;}#sk-container-id-2 div.sk-serial::before {content: \"\";position: absolute;border-left: 1px solid gray;box-sizing: border-box;top: 0;bottom: 0;left: 50%;z-index: 0;}#sk-container-id-2 div.sk-serial {display: flex;flex-direction: column;align-items: center;background-color: white;padding-right: 0.2em;padding-left: 0.2em;position: relative;}#sk-container-id-2 div.sk-item {position: relative;z-index: 1;}#sk-container-id-2 div.sk-parallel {display: flex;align-items: stretch;justify-content: center;background-color: white;position: relative;}#sk-container-id-2 div.sk-item::before, #sk-container-id-2 div.sk-parallel-item::before {content: \"\";position: absolute;border-left: 1px solid gray;box-sizing: border-box;top: 0;bottom: 0;left: 50%;z-index: -1;}#sk-container-id-2 div.sk-parallel-item {display: flex;flex-direction: column;z-index: 1;position: relative;background-color: white;}#sk-container-id-2 div.sk-parallel-item:first-child::after {align-self: flex-end;width: 50%;}#sk-container-id-2 div.sk-parallel-item:last-child::after {align-self: flex-start;width: 50%;}#sk-container-id-2 div.sk-parallel-item:only-child::after {width: 0;}#sk-container-id-2 div.sk-dashed-wrapped {border: 1px dashed gray;margin: 0 0.4em 0.5em 0.4em;box-sizing: border-box;padding-bottom: 0.4em;background-color: white;}#sk-container-id-2 div.sk-label label {font-family: monospace;font-weight: bold;display: inline-block;line-height: 1.2em;}#sk-container-id-2 div.sk-label-container {text-align: center;}#sk-container-id-2 div.sk-container {/* jupyter's `normalize.less` sets `[hidden] { display: none; }` but bootstrap.min.css set `[hidden] { display: none !important; }` so we also need the `!important` here to be able to override the default hidden behavior on the sphinx rendered scikit-learn.org. See: https://github.com/scikit-learn/scikit-learn/issues/21755 */display: inline-block !important;position: relative;}#sk-container-id-2 div.sk-text-repr-fallback {display: none;}</style><div id=\"sk-container-id-2\" class=\"sk-top-container\"><div class=\"sk-text-repr-fallback\"><pre>XGBClassifier(base_score=None, booster=None, callbacks=None,\n",
              "              colsample_bylevel=None, colsample_bynode=None,\n",
              "              colsample_bytree=None, early_stopping_rounds=None,\n",
              "              enable_categorical=False, eval_metric=None, feature_types=None,\n",
              "              gamma=None, gpu_id=None, grow_policy=None, importance_type=None,\n",
              "              interaction_constraints=None, learning_rate=None, max_bin=None,\n",
              "              max_cat_threshold=None, max_cat_to_onehot=None,\n",
              "              max_delta_step=None, max_depth=None, max_leaves=None,\n",
              "              min_child_weight=None, missing=nan, monotone_constraints=None,\n",
              "              n_estimators=100, n_jobs=None, num_parallel_tree=None,\n",
              "              predictor=None, random_state=None, ...)</pre><b>In a Jupyter environment, please rerun this cell to show the HTML representation or trust the notebook. <br />On GitHub, the HTML representation is unable to render, please try loading this page with nbviewer.org.</b></div><div class=\"sk-container\" hidden><div class=\"sk-item\"><div class=\"sk-estimator sk-toggleable\"><input class=\"sk-toggleable__control sk-hidden--visually\" id=\"sk-estimator-id-2\" type=\"checkbox\" checked><label for=\"sk-estimator-id-2\" class=\"sk-toggleable__label sk-toggleable__label-arrow\">XGBClassifier</label><div class=\"sk-toggleable__content\"><pre>XGBClassifier(base_score=None, booster=None, callbacks=None,\n",
              "              colsample_bylevel=None, colsample_bynode=None,\n",
              "              colsample_bytree=None, early_stopping_rounds=None,\n",
              "              enable_categorical=False, eval_metric=None, feature_types=None,\n",
              "              gamma=None, gpu_id=None, grow_policy=None, importance_type=None,\n",
              "              interaction_constraints=None, learning_rate=None, max_bin=None,\n",
              "              max_cat_threshold=None, max_cat_to_onehot=None,\n",
              "              max_delta_step=None, max_depth=None, max_leaves=None,\n",
              "              min_child_weight=None, missing=nan, monotone_constraints=None,\n",
              "              n_estimators=100, n_jobs=None, num_parallel_tree=None,\n",
              "              predictor=None, random_state=None, ...)</pre></div></div></div></div></div>"
            ]
          },
          "metadata": {},
          "execution_count": 49
        }
      ]
    },
    {
      "cell_type": "code",
      "source": [
        "test_word_features = word_vectorizer.transform(test_text)\n",
        "test_char_features = char_vectorizer.transform(test_text)\n",
        "\n",
        "test_features = hstack([test_char_features, test_word_features])"
      ],
      "metadata": {
        "id": "T3qaEkeL-Pmf"
      },
      "execution_count": null,
      "outputs": []
    },
    {
      "cell_type": "code",
      "source": [
        "predictions = model.predict(test_features)"
      ],
      "metadata": {
        "id": "XSA4Yf0P8iHd"
      },
      "execution_count": null,
      "outputs": []
    },
    {
      "cell_type": "code",
      "source": [
        "predictions"
      ],
      "metadata": {
        "colab": {
          "base_uri": "https://localhost:8080/"
        },
        "id": "5eNuYW3cFujT",
        "outputId": "c6e5b88e-e7b2-4733-db09-9ffa4f8df2b5"
      },
      "execution_count": null,
      "outputs": [
        {
          "output_type": "execute_result",
          "data": {
            "text/plain": [
              "array([0, 1, 1, ..., 1, 1, 1])"
            ]
          },
          "metadata": {},
          "execution_count": 52
        }
      ]
    },
    {
      "cell_type": "code",
      "source": [
        "gold = test_df[target_name]"
      ],
      "metadata": {
        "id": "ngXQIfU6-dth"
      },
      "execution_count": null,
      "outputs": []
    },
    {
      "cell_type": "code",
      "source": [
        "from sklearn.metrics import f1_score\n",
        "f1 = f1_score(gold, predictions, average='macro')\n",
        "f1"
      ],
      "metadata": {
        "colab": {
          "base_uri": "https://localhost:8080/"
        },
        "id": "pdlFKbrL-sPq",
        "outputId": "033f9755-e834-410d-f2af-95553db88a24"
      },
      "execution_count": null,
      "outputs": [
        {
          "output_type": "execute_result",
          "data": {
            "text/plain": [
              "0.8337014139837071"
            ]
          },
          "metadata": {},
          "execution_count": 55
        }
      ]
    },
    {
      "cell_type": "code",
      "source": [
        "from sklearn.metrics import f1_score, classification_report\n",
        "print(classification_report(gold, predictions))"
      ],
      "metadata": {
        "colab": {
          "base_uri": "https://localhost:8080/"
        },
        "id": "RTNUiDjb-2S6",
        "outputId": "f6565b42-9b42-4ff1-a51a-b77aa602acba"
      },
      "execution_count": null,
      "outputs": [
        {
          "output_type": "stream",
          "name": "stdout",
          "text": [
            "              precision    recall  f1-score   support\n",
            "\n",
            "           0       0.82      0.70      0.75       349\n",
            "           1       0.89      0.94      0.91       897\n",
            "\n",
            "    accuracy                           0.87      1246\n",
            "   macro avg       0.85      0.82      0.83      1246\n",
            "weighted avg       0.87      0.87      0.87      1246\n",
            "\n"
          ]
        }
      ]
    },
    {
      "cell_type": "code",
      "source": [],
      "metadata": {
        "id": "3r8StCTK_BSd"
      },
      "execution_count": null,
      "outputs": []
    }
  ]
}