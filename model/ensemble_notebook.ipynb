{
  "nbformat": 4,
  "nbformat_minor": 0,
  "metadata": {
    "colab": {
      "provenance": []
    },
    "kernelspec": {
      "name": "python3",
      "display_name": "Python 3"
    },
    "language_info": {
      "name": "python"
    }
  },
  "cells": [
    {
      "cell_type": "code",
      "execution_count": null,
      "metadata": {
        "id": "oHKYrq8_ZZiq"
      },
      "outputs": [],
      "source": [
        "!pip install transformers"
      ]
    },
    {
      "cell_type": "code",
      "source": [
        "import pandas as pd"
      ],
      "metadata": {
        "id": "-7nW7AsuJCKn"
      },
      "execution_count": 10,
      "outputs": []
    },
    {
      "cell_type": "code",
      "source": [
        "test_df = pd.read_csv(\"/content/teknofest_preprocessed_data_5fold.csv\")\n",
        "test_df = test_df[test_df.kfold == 4]\n",
        "test_df"
      ],
      "metadata": {
        "colab": {
          "base_uri": "https://localhost:8080/",
          "height": 423
        },
        "id": "yqjDx4bwI-Z0",
        "outputId": "65cc9def-1c60-4fb4-9866-53792eb7881b"
      },
      "execution_count": 13,
      "outputs": [
        {
          "output_type": "execute_result",
          "data": {
            "text/plain": [
              "                                         id  \\\n",
              "7      b9122be9-5a9a-491e-8ecc-998ac05c6ef0   \n",
              "10     03d5a6fe-ea99-444b-975a-63b4ccb10f29   \n",
              "16     30d96f50-dee8-4fcf-86ea-f241af78bdc7   \n",
              "17     96824039-d49c-4c42-84e1-56c2bb118d10   \n",
              "22     c99b56c2-f683-48ac-90d4-f540f64c9328   \n",
              "...                                     ...   \n",
              "12440  9b0ab0f1-1ee0-4a03-8de8-83372f41d6b2   \n",
              "12445  b8c41fd2-8b07-4443-a51c-054059f1c559   \n",
              "12448  67dab3e4-26f9-408d-97ff-51600d638851   \n",
              "12459  513a7e6d-4207-4a16-9b47-972f26e23cfe   \n",
              "12460  247834c9-ad37-4576-a094-69d70c69b124   \n",
              "\n",
              "                                                    text  is_offensive  \\\n",
              "7      kadın yönetici sayısı oldukça olduğu şirket iy...             1   \n",
              "10       suriyeliler yozlaşıp toplumda huzuru bozuyorlar             1   \n",
              "16                                   kadar terbiyesizsin             1   \n",
              "17                               özsaygısı düşük birisin             1   \n",
              "22                             köpek havlayıp duruyorsun             1   \n",
              "...                                                  ...           ...   \n",
              "12440                       ermenilerin böyle sorunu var             0   \n",
              "12445  nedenle kendi çıkarımız avrupalılar türkiyeyi ...             0   \n",
              "12448           hiçbir tane mi ceren gözlü kürt kızı yok             0   \n",
              "12459  hayalleri gerçek etmek birisinin delilik yapma...             0   \n",
              "12460  deliklerden birini bulsan diğerini bulamıyorsu...             0   \n",
              "\n",
              "       target  kfold  \n",
              "7      SEXIST      4  \n",
              "10     RACIST      4  \n",
              "16     INSULT      4  \n",
              "17     INSULT      4  \n",
              "22     INSULT      4  \n",
              "...       ...    ...  \n",
              "12440   OTHER      4  \n",
              "12445   OTHER      4  \n",
              "12448   OTHER      4  \n",
              "12459   OTHER      4  \n",
              "12460   OTHER      4  \n",
              "\n",
              "[2492 rows x 5 columns]"
            ],
            "text/html": [
              "\n",
              "  <div id=\"df-3c55cd0d-78bb-4d70-b246-81203d2be208\">\n",
              "    <div class=\"colab-df-container\">\n",
              "      <div>\n",
              "<style scoped>\n",
              "    .dataframe tbody tr th:only-of-type {\n",
              "        vertical-align: middle;\n",
              "    }\n",
              "\n",
              "    .dataframe tbody tr th {\n",
              "        vertical-align: top;\n",
              "    }\n",
              "\n",
              "    .dataframe thead th {\n",
              "        text-align: right;\n",
              "    }\n",
              "</style>\n",
              "<table border=\"1\" class=\"dataframe\">\n",
              "  <thead>\n",
              "    <tr style=\"text-align: right;\">\n",
              "      <th></th>\n",
              "      <th>id</th>\n",
              "      <th>text</th>\n",
              "      <th>is_offensive</th>\n",
              "      <th>target</th>\n",
              "      <th>kfold</th>\n",
              "    </tr>\n",
              "  </thead>\n",
              "  <tbody>\n",
              "    <tr>\n",
              "      <th>7</th>\n",
              "      <td>b9122be9-5a9a-491e-8ecc-998ac05c6ef0</td>\n",
              "      <td>kadın yönetici sayısı oldukça olduğu şirket iy...</td>\n",
              "      <td>1</td>\n",
              "      <td>SEXIST</td>\n",
              "      <td>4</td>\n",
              "    </tr>\n",
              "    <tr>\n",
              "      <th>10</th>\n",
              "      <td>03d5a6fe-ea99-444b-975a-63b4ccb10f29</td>\n",
              "      <td>suriyeliler yozlaşıp toplumda huzuru bozuyorlar</td>\n",
              "      <td>1</td>\n",
              "      <td>RACIST</td>\n",
              "      <td>4</td>\n",
              "    </tr>\n",
              "    <tr>\n",
              "      <th>16</th>\n",
              "      <td>30d96f50-dee8-4fcf-86ea-f241af78bdc7</td>\n",
              "      <td>kadar terbiyesizsin</td>\n",
              "      <td>1</td>\n",
              "      <td>INSULT</td>\n",
              "      <td>4</td>\n",
              "    </tr>\n",
              "    <tr>\n",
              "      <th>17</th>\n",
              "      <td>96824039-d49c-4c42-84e1-56c2bb118d10</td>\n",
              "      <td>özsaygısı düşük birisin</td>\n",
              "      <td>1</td>\n",
              "      <td>INSULT</td>\n",
              "      <td>4</td>\n",
              "    </tr>\n",
              "    <tr>\n",
              "      <th>22</th>\n",
              "      <td>c99b56c2-f683-48ac-90d4-f540f64c9328</td>\n",
              "      <td>köpek havlayıp duruyorsun</td>\n",
              "      <td>1</td>\n",
              "      <td>INSULT</td>\n",
              "      <td>4</td>\n",
              "    </tr>\n",
              "    <tr>\n",
              "      <th>...</th>\n",
              "      <td>...</td>\n",
              "      <td>...</td>\n",
              "      <td>...</td>\n",
              "      <td>...</td>\n",
              "      <td>...</td>\n",
              "    </tr>\n",
              "    <tr>\n",
              "      <th>12440</th>\n",
              "      <td>9b0ab0f1-1ee0-4a03-8de8-83372f41d6b2</td>\n",
              "      <td>ermenilerin böyle sorunu var</td>\n",
              "      <td>0</td>\n",
              "      <td>OTHER</td>\n",
              "      <td>4</td>\n",
              "    </tr>\n",
              "    <tr>\n",
              "      <th>12445</th>\n",
              "      <td>b8c41fd2-8b07-4443-a51c-054059f1c559</td>\n",
              "      <td>nedenle kendi çıkarımız avrupalılar türkiyeyi ...</td>\n",
              "      <td>0</td>\n",
              "      <td>OTHER</td>\n",
              "      <td>4</td>\n",
              "    </tr>\n",
              "    <tr>\n",
              "      <th>12448</th>\n",
              "      <td>67dab3e4-26f9-408d-97ff-51600d638851</td>\n",
              "      <td>hiçbir tane mi ceren gözlü kürt kızı yok</td>\n",
              "      <td>0</td>\n",
              "      <td>OTHER</td>\n",
              "      <td>4</td>\n",
              "    </tr>\n",
              "    <tr>\n",
              "      <th>12459</th>\n",
              "      <td>513a7e6d-4207-4a16-9b47-972f26e23cfe</td>\n",
              "      <td>hayalleri gerçek etmek birisinin delilik yapma...</td>\n",
              "      <td>0</td>\n",
              "      <td>OTHER</td>\n",
              "      <td>4</td>\n",
              "    </tr>\n",
              "    <tr>\n",
              "      <th>12460</th>\n",
              "      <td>247834c9-ad37-4576-a094-69d70c69b124</td>\n",
              "      <td>deliklerden birini bulsan diğerini bulamıyorsu...</td>\n",
              "      <td>0</td>\n",
              "      <td>OTHER</td>\n",
              "      <td>4</td>\n",
              "    </tr>\n",
              "  </tbody>\n",
              "</table>\n",
              "<p>2492 rows × 5 columns</p>\n",
              "</div>\n",
              "      <button class=\"colab-df-convert\" onclick=\"convertToInteractive('df-3c55cd0d-78bb-4d70-b246-81203d2be208')\"\n",
              "              title=\"Convert this dataframe to an interactive table.\"\n",
              "              style=\"display:none;\">\n",
              "        \n",
              "  <svg xmlns=\"http://www.w3.org/2000/svg\" height=\"24px\"viewBox=\"0 0 24 24\"\n",
              "       width=\"24px\">\n",
              "    <path d=\"M0 0h24v24H0V0z\" fill=\"none\"/>\n",
              "    <path d=\"M18.56 5.44l.94 2.06.94-2.06 2.06-.94-2.06-.94-.94-2.06-.94 2.06-2.06.94zm-11 1L8.5 8.5l.94-2.06 2.06-.94-2.06-.94L8.5 2.5l-.94 2.06-2.06.94zm10 10l.94 2.06.94-2.06 2.06-.94-2.06-.94-.94-2.06-.94 2.06-2.06.94z\"/><path d=\"M17.41 7.96l-1.37-1.37c-.4-.4-.92-.59-1.43-.59-.52 0-1.04.2-1.43.59L10.3 9.45l-7.72 7.72c-.78.78-.78 2.05 0 2.83L4 21.41c.39.39.9.59 1.41.59.51 0 1.02-.2 1.41-.59l7.78-7.78 2.81-2.81c.8-.78.8-2.07 0-2.86zM5.41 20L4 18.59l7.72-7.72 1.47 1.35L5.41 20z\"/>\n",
              "  </svg>\n",
              "      </button>\n",
              "      \n",
              "  <style>\n",
              "    .colab-df-container {\n",
              "      display:flex;\n",
              "      flex-wrap:wrap;\n",
              "      gap: 12px;\n",
              "    }\n",
              "\n",
              "    .colab-df-convert {\n",
              "      background-color: #E8F0FE;\n",
              "      border: none;\n",
              "      border-radius: 50%;\n",
              "      cursor: pointer;\n",
              "      display: none;\n",
              "      fill: #1967D2;\n",
              "      height: 32px;\n",
              "      padding: 0 0 0 0;\n",
              "      width: 32px;\n",
              "    }\n",
              "\n",
              "    .colab-df-convert:hover {\n",
              "      background-color: #E2EBFA;\n",
              "      box-shadow: 0px 1px 2px rgba(60, 64, 67, 0.3), 0px 1px 3px 1px rgba(60, 64, 67, 0.15);\n",
              "      fill: #174EA6;\n",
              "    }\n",
              "\n",
              "    [theme=dark] .colab-df-convert {\n",
              "      background-color: #3B4455;\n",
              "      fill: #D2E3FC;\n",
              "    }\n",
              "\n",
              "    [theme=dark] .colab-df-convert:hover {\n",
              "      background-color: #434B5C;\n",
              "      box-shadow: 0px 1px 3px 1px rgba(0, 0, 0, 0.15);\n",
              "      filter: drop-shadow(0px 1px 2px rgba(0, 0, 0, 0.3));\n",
              "      fill: #FFFFFF;\n",
              "    }\n",
              "  </style>\n",
              "\n",
              "      <script>\n",
              "        const buttonEl =\n",
              "          document.querySelector('#df-3c55cd0d-78bb-4d70-b246-81203d2be208 button.colab-df-convert');\n",
              "        buttonEl.style.display =\n",
              "          google.colab.kernel.accessAllowed ? 'block' : 'none';\n",
              "\n",
              "        async function convertToInteractive(key) {\n",
              "          const element = document.querySelector('#df-3c55cd0d-78bb-4d70-b246-81203d2be208');\n",
              "          const dataTable =\n",
              "            await google.colab.kernel.invokeFunction('convertToInteractive',\n",
              "                                                     [key], {});\n",
              "          if (!dataTable) return;\n",
              "\n",
              "          const docLinkHtml = 'Like what you see? Visit the ' +\n",
              "            '<a target=\"_blank\" href=https://colab.research.google.com/notebooks/data_table.ipynb>data table notebook</a>'\n",
              "            + ' to learn more about interactive tables.';\n",
              "          element.innerHTML = '';\n",
              "          dataTable['output_type'] = 'display_data';\n",
              "          await google.colab.output.renderOutput(dataTable, element);\n",
              "          const docLink = document.createElement('div');\n",
              "          docLink.innerHTML = docLinkHtml;\n",
              "          element.appendChild(docLink);\n",
              "        }\n",
              "      </script>\n",
              "    </div>\n",
              "  </div>\n",
              "  "
            ]
          },
          "metadata": {},
          "execution_count": 13
        }
      ]
    },
    {
      "cell_type": "code",
      "source": [
        "model1 = \"/content/gdrive/MyDrive/teknofest-multiclass-model/bert-base-turkish-cased-mean-nli-stsb-tr-5fold-32maxl-32tb-64vb-5ep-001wd-1e5lr-3validfold-4testfold-corrected-misslabels\"\n",
        "model2 = \"/content/gdrive/MyDrive/teknofest-multiclass-model/bert-base-turkish-uncased-5fold-32maxl-32tb-64vb-5ep-001wd-1e5lr-3validfold-4testfold\"\n",
        "model3 = \"/content/gdrive/MyDrive/teknofest-multiclass-model/electra-base-turkish-cased-discriminator-5fold-32maxl-32tb-64vb-5ep-001wd-1e5lr-3validfold-4testfold\""
      ],
      "metadata": {
        "id": "tVy5RrZ3GGxS"
      },
      "execution_count": 3,
      "outputs": []
    },
    {
      "cell_type": "code",
      "source": [
        "from transformers import pipeline\n",
        "\n",
        "classifier1 = pipeline(\"text-classification\", model=model1)\n",
        "classifier2 = pipeline(\"text-classification\", model=model2)\n",
        "classifier3 = pipeline(\"text-classification\", model=model3)"
      ],
      "metadata": {
        "id": "cn8Tso7iiSa0"
      },
      "execution_count": 4,
      "outputs": []
    },
    {
      "cell_type": "code",
      "source": [
        "[{'label': 'SEXIST', 'score': 0.9890580773353577}],[{'label': 'SEXIST', 'score': 0.9890580773353577}],"
      ],
      "metadata": {
        "id": "i-gDh7T2Me7R"
      },
      "execution_count": null,
      "outputs": []
    },
    {
      "cell_type": "code",
      "source": [
        "def prediction_postprocesser(prediction:list) -> str:\n",
        "  return prediction[0][\"label\"]"
      ],
      "metadata": {
        "id": "B4lL2quuMZGN"
      },
      "execution_count": 23,
      "outputs": []
    },
    {
      "cell_type": "code",
      "source": [
        "from collections import Counter\n",
        "def ensemble_prediction(text:str) -> str:\n",
        "  predictions = []\n",
        "\n",
        "  resp1, resp2, resp3 = classifier1(text),classifier2(text),classifier3(text)\n",
        "\n",
        "  predictions.extend(resp1)\n",
        "  predictions.extend(resp2)\n",
        "  predictions.extend(resp3)\n",
        "\n",
        "  predicted_labels = [d['label'] for d in predictions]\n",
        "\n",
        "  counter_list = Counter(predicted_labels)\n",
        "\n",
        "  final_predicted_label, count = counter_list.most_common(1)[0]\n",
        "\n",
        "  if count == 1:\n",
        "    final_predicted_label = max(predictions, key=lambda x: x['score'])['label']\n",
        "\n",
        "  return final_predicted_label"
      ],
      "metadata": {
        "id": "wnrqfnSHMPUQ"
      },
      "execution_count": 35,
      "outputs": []
    },
    {
      "cell_type": "code",
      "source": [
        "def ensemble_prediction_v2(text:str) -> str:\n",
        "    predictions = []\n",
        "\n",
        "    resp1, resp2, resp3 = classifier1(text),classifier2(text),classifier3(text)\n",
        "\n",
        "    predictions.extend(resp1)\n",
        "    predictions.extend(resp2)\n",
        "    predictions.extend(resp3)\n",
        "\n",
        "    # Her bir label için bir sözlük oluştur\n",
        "    label_skorları = defaultdict(lambda: {'skorlar': [], 'sayı': 0})\n",
        "\n",
        "    # Sözlüklerin skorlarını topla ve sayısını say\n",
        "    for d in predictions:\n",
        "        label = d['label']\n",
        "        skor = d['score']\n",
        "        label_skorları[label]['skorlar'].append(skor)\n",
        "        label_skorları[label]['sayı'] += 1\n",
        "\n",
        "    # Label'ların skorlarının ortalamasını al\n",
        "    ortalama_skorlar = {}\n",
        "    for label, veriler in label_skorları.items():\n",
        "        skorlar = veriler['skorlar']\n",
        "        sayı = veriler['sayı']\n",
        "        ortalama_skorlar[label] = sum(skorlar) / sayı\n",
        "\n",
        "    # En yüksek ortalama skora sahip label'i seç\n",
        "    en_yuksek_ortalama_skor_label = max(ortalama_skorlar, key=lambda x: (ortalama_skorlar[x], max([d['score'] for d in predictions if d['label'] == x])))\n",
        "  \n",
        "    return en_yuksek_ortalama_skor_label\n"
      ],
      "metadata": {
        "id": "1Hj0BzmZWnXb"
      },
      "execution_count": 60,
      "outputs": []
    },
    {
      "cell_type": "code",
      "source": [
        "from tqdm import tqdm\n",
        "\n",
        "ensemble_predictions = []\n",
        "\n",
        "for text in tqdm(test_df['text'].tolist()):\n",
        "    pred = ensemble_prediction(text)\n",
        "    ensemble_predictions.append(pred)"
      ],
      "metadata": {
        "colab": {
          "base_uri": "https://localhost:8080/"
        },
        "id": "L8qRjI8SPDdv",
        "outputId": "ba29c6ee-16e0-42cb-a086-e40242d36c3c"
      },
      "execution_count": 45,
      "outputs": [
        {
          "output_type": "stream",
          "name": "stderr",
          "text": [
            "100%|██████████| 2492/2492 [13:56<00:00,  2.98it/s]\n"
          ]
        }
      ]
    },
    {
      "cell_type": "code",
      "source": [
        "from sklearn.metrics import f1_score, classification_report, accuracy_score\n",
        "\n",
        "gold = test_df['target'].tolist()\n",
        "\n",
        "print(\"Accuracy score: \", accuracy_score(gold,ensemble_predictions))\n",
        "print(\"f1_score score: \", f1_score(gold,ensemble_predictions, average=\"macro\"))"
      ],
      "metadata": {
        "colab": {
          "base_uri": "https://localhost:8080/"
        },
        "id": "8boW6nMSThX9",
        "outputId": "2e89a779-3f20-424e-e479-0d99bb5b52a3"
      },
      "execution_count": 49,
      "outputs": [
        {
          "output_type": "stream",
          "name": "stdout",
          "text": [
            "Accuracy score:  0.9382022471910112\n",
            "f1_score score:  0.9391720761449192\n"
          ]
        }
      ]
    },
    {
      "cell_type": "code",
      "source": [
        "test_df[\"ensemble_predictions\"] = ensemble_predictions"
      ],
      "metadata": {
        "id": "L21YMmYdTzdN"
      },
      "execution_count": 50,
      "outputs": []
    },
    {
      "cell_type": "code",
      "source": [
        "test_df[(test_df.target !=test_df.ensemble_predictions)].to_excel(\"ensemble_misslabels_v1.xlsx\", index=False)"
      ],
      "metadata": {
        "id": "vYDcrRNGT5mh"
      },
      "execution_count": 53,
      "outputs": []
    },
    {
      "cell_type": "code",
      "source": [
        "from tqdm import tqdm\n",
        "\n",
        "ensemble_predictions_v2 = []\n",
        "\n",
        "for text in tqdm(test_df['text'].tolist()):\n",
        "    pred = ensemble_prediction_v2(text)\n",
        "    ensemble_predictions_v2.append(pred)"
      ],
      "metadata": {
        "colab": {
          "base_uri": "https://localhost:8080/"
        },
        "id": "BiWExHOFXIL4",
        "outputId": "1f3d09f8-16e3-4ab5-d8ee-e41602c18070"
      },
      "execution_count": 62,
      "outputs": [
        {
          "output_type": "stream",
          "name": "stderr",
          "text": [
            "100%|██████████| 2492/2492 [14:10<00:00,  2.93it/s]\n"
          ]
        }
      ]
    },
    {
      "cell_type": "code",
      "source": [
        "from sklearn.metrics import f1_score, classification_report, accuracy_score\n",
        "\n",
        "gold = test_df['target'].tolist()\n",
        "\n",
        "print(\"Accuracy score: \", accuracy_score(gold,ensemble_predictions_v2))\n",
        "print(\"f1_score score: \", f1_score(gold,ensemble_predictions_v2, average=\"macro\"))"
      ],
      "metadata": {
        "colab": {
          "base_uri": "https://localhost:8080/"
        },
        "id": "prH88PFWZ3tG",
        "outputId": "ccf72ff4-54e0-43e4-9339-ad477ef38a8b"
      },
      "execution_count": 63,
      "outputs": [
        {
          "output_type": "stream",
          "name": "stdout",
          "text": [
            "Accuracy score:  0.9382022471910112\n",
            "f1_score score:  0.9387918059089746\n"
          ]
        }
      ]
    },
    {
      "cell_type": "code",
      "source": [
        "test_df[\"ensemble_predictions_v2\"] = ensemble_predictions_v2"
      ],
      "metadata": {
        "id": "e3Kg6Qbjazdd"
      },
      "execution_count": 64,
      "outputs": []
    },
    {
      "cell_type": "code",
      "source": [
        "test_df[(test_df.target !=test_df.ensemble_predictions_v2)].to_excel(\"ensemble_misslabels_v2.xlsx\", index=False)"
      ],
      "metadata": {
        "id": "DuUjHFZGauZQ"
      },
      "execution_count": 65,
      "outputs": []
    },
    {
      "cell_type": "code",
      "source": [
        "test_df[(test_df.ensemble_predictions !=test_df.ensemble_predictions_v2)].to_excel(\"ensemble_misslabels_conflicts_between_ensembles.xlsx\", index=False)"
      ],
      "metadata": {
        "id": "RZx9Gnfwcv1N"
      },
      "execution_count": 68,
      "outputs": []
    },
    {
      "cell_type": "code",
      "source": [
        "test_df[(test_df.target ==test_df.ensemble_predictions) & (test_df.ensemble_predictions !=test_df.ensemble_predictions_v2)]"
      ],
      "metadata": {
        "id": "2IlpNRz0f2zI"
      },
      "execution_count": null,
      "outputs": []
    },
    {
      "cell_type": "code",
      "source": [
        "text = \"amk kürdü\"\n",
        "resp1, resp2, resp3 = classifier1(text),classifier2(text),classifier3(text)\n",
        "print(\"*\"*100)\n",
        "print(\"text: \", text)\n",
        "print(\"resp1: \", resp1)\n",
        "print(\"resp2: \", resp2)\n",
        "print(\"resp3: \", resp3)\n",
        "print(\"*\"*100)"
      ],
      "metadata": {
        "colab": {
          "base_uri": "https://localhost:8080/"
        },
        "id": "8JkH9dhWgPHl",
        "outputId": "69668f92-63b7-4fad-ab1b-181d332f4a52"
      },
      "execution_count": 77,
      "outputs": [
        {
          "output_type": "stream",
          "name": "stdout",
          "text": [
            "****************************************************************************************************\n",
            "text:  amk kürdü\n",
            "resp1:  [{'label': 'RACIST', 'score': 0.7063655257225037}]\n",
            "resp2:  [{'label': 'PROFANITY', 'score': 0.9928267002105713}]\n",
            "resp3:  [{'label': 'RACIST', 'score': 0.8985764980316162}]\n",
            "****************************************************************************************************\n"
          ]
        }
      ]
    },
    {
      "cell_type": "code",
      "source": [
        "for text, target in zip(test_df[\"text\"].tolist(),test_df[\"target\"].tolist()):\n",
        "\n",
        "  resp1, resp2, resp3 = classifier1(text),classifier2(text),classifier3(text)\n",
        "  print(\"*\"*100)\n",
        "  print(\"text: \", text)\n",
        "  print(\"gold label: \", target)\n",
        "  print(\"resp1: \", resp1)\n",
        "  print(\"resp2: \", resp2)\n",
        "  print(\"resp3: \", resp3)\n",
        "  print(\"*\"*100)\n",
        "\n",
        "  print(\"\\n\")\n",
        "\n",
        "  \n"
      ],
      "metadata": {
        "id": "DYpbauOBJQpN"
      },
      "execution_count": null,
      "outputs": []
    }
  ]
}