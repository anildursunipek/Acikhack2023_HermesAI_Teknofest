{
 "cells": [
  {
   "cell_type": "code",
   "execution_count": 69,
   "metadata": {
    "id": "cqn0t9W768ln"
   },
   "outputs": [],
   "source": [
    "import pandas as pd\n",
    "from google.colab import drive\n",
    "from time import time\n",
    "from sklearn.feature_extraction.text import TfidfVectorizer, CountVectorizer, TfidfTransformer\n",
    "from sklearn.naive_bayes import MultinomialNB\n",
    "from sklearn.pipeline import Pipeline\n",
    "from sklearn import metrics\n",
    "import matplotlib.pyplot as plt\n",
    "import seaborn as sns\n",
    "sns.set_theme(style=\"whitegrid\")"
   ]
  },
  {
   "cell_type": "markdown",
   "metadata": {
    "id": "Nn_ektdR9qMH"
   },
   "source": [
    "# Verinin Yüklenmesi\n",
    "* Bu python notebook'da CountVectorizer ile TfidfVectorizer kullanılarak Naive Bayes Classifier üzerinden binary sınıflandırma yapılarak sonuçlar incelenmiştir.\n"
   ]
  },
  {
   "cell_type": "code",
   "execution_count": 70,
   "metadata": {
    "colab": {
     "base_uri": "https://localhost:8080/"
    },
    "id": "tOhuUmHw7Cyf",
    "outputId": "82704d53-d6a2-4011-94a6-19b2e80a23dd"
   },
   "outputs": [
    {
     "name": "stdout",
     "output_type": "stream",
     "text": [
      "Drive already mounted at /content/gdrive; to attempt to forcibly remount, call drive.mount(\"/content/gdrive\", force_remount=True).\n"
     ]
    }
   ],
   "source": [
    "drive.mount(\"/content/gdrive\")"
   ]
  },
  {
   "cell_type": "code",
   "execution_count": 71,
   "metadata": {
    "id": "GaDGUbVM7zmC"
   },
   "outputs": [],
   "source": [
    "test_df = pd.read_csv(\"/content/gdrive/MyDrive/teknofest_preprocessed_test_df.csv\", sep=\",\")\n",
    "train_df = pd.read_csv(\"/content/gdrive/MyDrive/teknofest_preprocessed_train_df.csv\", sep=\",\")\n",
    "val_df = pd.read_csv(\"/content/gdrive/MyDrive/teknofest_preprocessed_val_df.csv\", sep=\",\")"
   ]
  },
  {
   "cell_type": "code",
   "execution_count": 72,
   "metadata": {
    "id": "GUsEnemnBumx"
   },
   "outputs": [],
   "source": [
    "all_data = pd.concat([test_df, train_df, val_df], axis=0, ignore_index=True)"
   ]
  },
  {
   "cell_type": "code",
   "execution_count": 73,
   "metadata": {
    "colab": {
     "base_uri": "https://localhost:8080/",
     "height": 206
    },
    "id": "iu26mEEGB2TV",
    "outputId": "56c6e3fb-e69f-4a2a-bb49-b5a63f471dfa"
   },
   "outputs": [
    {
     "data": {
      "text/html": [
       "\n",
       "  <div id=\"df-dd07960a-f989-48b6-ab16-7904949e18f3\">\n",
       "    <div class=\"colab-df-container\">\n",
       "      <div>\n",
       "<style scoped>\n",
       "    .dataframe tbody tr th:only-of-type {\n",
       "        vertical-align: middle;\n",
       "    }\n",
       "\n",
       "    .dataframe tbody tr th {\n",
       "        vertical-align: top;\n",
       "    }\n",
       "\n",
       "    .dataframe thead th {\n",
       "        text-align: right;\n",
       "    }\n",
       "</style>\n",
       "<table border=\"1\" class=\"dataframe\">\n",
       "  <thead>\n",
       "    <tr style=\"text-align: right;\">\n",
       "      <th></th>\n",
       "      <th>id</th>\n",
       "      <th>text</th>\n",
       "      <th>is_offensive</th>\n",
       "      <th>target</th>\n",
       "    </tr>\n",
       "  </thead>\n",
       "  <tbody>\n",
       "    <tr>\n",
       "      <th>0</th>\n",
       "      <td>ce129457-8bef-4c2c-89fc-56c2be682c17</td>\n",
       "      <td>anasını satayım böyle</td>\n",
       "      <td>1</td>\n",
       "      <td>SEXIST</td>\n",
       "    </tr>\n",
       "    <tr>\n",
       "      <th>1</th>\n",
       "      <td>279123c7-7592-4857-bfe0-fcb3b73d709e</td>\n",
       "      <td>sanığın haklarını korumak</td>\n",
       "      <td>0</td>\n",
       "      <td>OTHER</td>\n",
       "    </tr>\n",
       "    <tr>\n",
       "      <th>2</th>\n",
       "      <td>68899d1e-33d8-4392-a988-f68f3da07d19</td>\n",
       "      <td>kadınlar para harcar</td>\n",
       "      <td>1</td>\n",
       "      <td>SEXIST</td>\n",
       "    </tr>\n",
       "    <tr>\n",
       "      <th>3</th>\n",
       "      <td>5bc81173-5544-452b-a019-476a5f4f27b6</td>\n",
       "      <td>kadının tek işi evidir</td>\n",
       "      <td>1</td>\n",
       "      <td>SEXIST</td>\n",
       "    </tr>\n",
       "    <tr>\n",
       "      <th>4</th>\n",
       "      <td>c82e0cb1-fb3c-4e04-932c-895d6a2bfec7</td>\n",
       "      <td>kadının tek görevi erkeklerin ihtiyacını gider...</td>\n",
       "      <td>1</td>\n",
       "      <td>SEXIST</td>\n",
       "    </tr>\n",
       "  </tbody>\n",
       "</table>\n",
       "</div>\n",
       "      <button class=\"colab-df-convert\" onclick=\"convertToInteractive('df-dd07960a-f989-48b6-ab16-7904949e18f3')\"\n",
       "              title=\"Convert this dataframe to an interactive table.\"\n",
       "              style=\"display:none;\">\n",
       "        \n",
       "  <svg xmlns=\"http://www.w3.org/2000/svg\" height=\"24px\"viewBox=\"0 0 24 24\"\n",
       "       width=\"24px\">\n",
       "    <path d=\"M0 0h24v24H0V0z\" fill=\"none\"/>\n",
       "    <path d=\"M18.56 5.44l.94 2.06.94-2.06 2.06-.94-2.06-.94-.94-2.06-.94 2.06-2.06.94zm-11 1L8.5 8.5l.94-2.06 2.06-.94-2.06-.94L8.5 2.5l-.94 2.06-2.06.94zm10 10l.94 2.06.94-2.06 2.06-.94-2.06-.94-.94-2.06-.94 2.06-2.06.94z\"/><path d=\"M17.41 7.96l-1.37-1.37c-.4-.4-.92-.59-1.43-.59-.52 0-1.04.2-1.43.59L10.3 9.45l-7.72 7.72c-.78.78-.78 2.05 0 2.83L4 21.41c.39.39.9.59 1.41.59.51 0 1.02-.2 1.41-.59l7.78-7.78 2.81-2.81c.8-.78.8-2.07 0-2.86zM5.41 20L4 18.59l7.72-7.72 1.47 1.35L5.41 20z\"/>\n",
       "  </svg>\n",
       "      </button>\n",
       "      \n",
       "  <style>\n",
       "    .colab-df-container {\n",
       "      display:flex;\n",
       "      flex-wrap:wrap;\n",
       "      gap: 12px;\n",
       "    }\n",
       "\n",
       "    .colab-df-convert {\n",
       "      background-color: #E8F0FE;\n",
       "      border: none;\n",
       "      border-radius: 50%;\n",
       "      cursor: pointer;\n",
       "      display: none;\n",
       "      fill: #1967D2;\n",
       "      height: 32px;\n",
       "      padding: 0 0 0 0;\n",
       "      width: 32px;\n",
       "    }\n",
       "\n",
       "    .colab-df-convert:hover {\n",
       "      background-color: #E2EBFA;\n",
       "      box-shadow: 0px 1px 2px rgba(60, 64, 67, 0.3), 0px 1px 3px 1px rgba(60, 64, 67, 0.15);\n",
       "      fill: #174EA6;\n",
       "    }\n",
       "\n",
       "    [theme=dark] .colab-df-convert {\n",
       "      background-color: #3B4455;\n",
       "      fill: #D2E3FC;\n",
       "    }\n",
       "\n",
       "    [theme=dark] .colab-df-convert:hover {\n",
       "      background-color: #434B5C;\n",
       "      box-shadow: 0px 1px 3px 1px rgba(0, 0, 0, 0.15);\n",
       "      filter: drop-shadow(0px 1px 2px rgba(0, 0, 0, 0.3));\n",
       "      fill: #FFFFFF;\n",
       "    }\n",
       "  </style>\n",
       "\n",
       "      <script>\n",
       "        const buttonEl =\n",
       "          document.querySelector('#df-dd07960a-f989-48b6-ab16-7904949e18f3 button.colab-df-convert');\n",
       "        buttonEl.style.display =\n",
       "          google.colab.kernel.accessAllowed ? 'block' : 'none';\n",
       "\n",
       "        async function convertToInteractive(key) {\n",
       "          const element = document.querySelector('#df-dd07960a-f989-48b6-ab16-7904949e18f3');\n",
       "          const dataTable =\n",
       "            await google.colab.kernel.invokeFunction('convertToInteractive',\n",
       "                                                     [key], {});\n",
       "          if (!dataTable) return;\n",
       "\n",
       "          const docLinkHtml = 'Like what you see? Visit the ' +\n",
       "            '<a target=\"_blank\" href=https://colab.research.google.com/notebooks/data_table.ipynb>data table notebook</a>'\n",
       "            + ' to learn more about interactive tables.';\n",
       "          element.innerHTML = '';\n",
       "          dataTable['output_type'] = 'display_data';\n",
       "          await google.colab.output.renderOutput(dataTable, element);\n",
       "          const docLink = document.createElement('div');\n",
       "          docLink.innerHTML = docLinkHtml;\n",
       "          element.appendChild(docLink);\n",
       "        }\n",
       "      </script>\n",
       "    </div>\n",
       "  </div>\n",
       "  "
      ],
      "text/plain": [
       "                                     id  \\\n",
       "0  ce129457-8bef-4c2c-89fc-56c2be682c17   \n",
       "1  279123c7-7592-4857-bfe0-fcb3b73d709e   \n",
       "2  68899d1e-33d8-4392-a988-f68f3da07d19   \n",
       "3  5bc81173-5544-452b-a019-476a5f4f27b6   \n",
       "4  c82e0cb1-fb3c-4e04-932c-895d6a2bfec7   \n",
       "\n",
       "                                                text  is_offensive  target  \n",
       "0                              anasını satayım böyle             1  SEXIST  \n",
       "1                          sanığın haklarını korumak             0   OTHER  \n",
       "2                               kadınlar para harcar             1  SEXIST  \n",
       "3                             kadının tek işi evidir             1  SEXIST  \n",
       "4  kadının tek görevi erkeklerin ihtiyacını gider...             1  SEXIST  "
      ]
     },
     "execution_count": 73,
     "metadata": {},
     "output_type": "execute_result"
    }
   ],
   "source": [
    "all_data.head()"
   ]
  },
  {
   "cell_type": "code",
   "execution_count": 74,
   "metadata": {
    "colab": {
     "base_uri": "https://localhost:8080/",
     "height": 475
    },
    "id": "88QvIyT-CTM_",
    "outputId": "fd90b404-9631-4051-ccf7-5957f8af900c"
   },
   "outputs": [
    {
     "data": {
      "text/plain": [
       "<Axes: xlabel='is_offensive', ylabel='count'>"
      ]
     },
     "execution_count": 74,
     "metadata": {},
     "output_type": "execute_result"
    },
    {
     "data": {
      "image/png": "[encoded data removed]",
      "text/plain": [
       "<Figure size 640x480 with 1 Axes>"
      ]
     },
     "metadata": {},
     "output_type": "display_data"
    }
   ],
   "source": [
    "sns.countplot(x=all_data[\"is_offensive\"])\n",
    "# Offensive ve offensive olmayanlar arasındaki dağılım"
   ]
  },
  {
   "cell_type": "code",
   "execution_count": 75,
   "metadata": {
    "colab": {
     "base_uri": "https://localhost:8080/"
    },
    "id": "T0amwK9lwJuJ",
    "outputId": "d799fd71-c289-4b9e-c427-6a65645cef5a"
   },
   "outputs": [
    {
     "name": "stdout",
     "output_type": "stream",
     "text": [
      "Test Dataframe Shape: (748, 4) \n",
      "Train Dataframe Shape: (9968, 4) \n",
      "Validation Dataframe Shape: (1745, 4)\n"
     ]
    }
   ],
   "source": [
    "print(f\"Test Dataframe Shape: {test_df.shape} \\nTrain Dataframe Shape: {train_df.shape} \\nValidation Dataframe Shape: {val_df.shape}\")"
   ]
  },
  {
   "cell_type": "code",
   "execution_count": 76,
   "metadata": {
    "colab": {
     "base_uri": "https://localhost:8080/",
     "height": 206
    },
    "id": "ZdP1zisowzHg",
    "outputId": "9c35ed7f-ebc7-488b-ad70-8002eb998155"
   },
   "outputs": [
    {
     "data": {
      "text/html": [
       "\n",
       "  <div id=\"df-d99d6e2c-74bf-4706-9899-faf4896d38f1\">\n",
       "    <div class=\"colab-df-container\">\n",
       "      <div>\n",
       "<style scoped>\n",
       "    .dataframe tbody tr th:only-of-type {\n",
       "        vertical-align: middle;\n",
       "    }\n",
       "\n",
       "    .dataframe tbody tr th {\n",
       "        vertical-align: top;\n",
       "    }\n",
       "\n",
       "    .dataframe thead th {\n",
       "        text-align: right;\n",
       "    }\n",
       "</style>\n",
       "<table border=\"1\" class=\"dataframe\">\n",
       "  <thead>\n",
       "    <tr style=\"text-align: right;\">\n",
       "      <th></th>\n",
       "      <th>id</th>\n",
       "      <th>text</th>\n",
       "      <th>is_offensive</th>\n",
       "      <th>target</th>\n",
       "    </tr>\n",
       "  </thead>\n",
       "  <tbody>\n",
       "    <tr>\n",
       "      <th>0</th>\n",
       "      <td>ce129457-8bef-4c2c-89fc-56c2be682c17</td>\n",
       "      <td>anasını satayım böyle</td>\n",
       "      <td>1</td>\n",
       "      <td>SEXIST</td>\n",
       "    </tr>\n",
       "    <tr>\n",
       "      <th>1</th>\n",
       "      <td>279123c7-7592-4857-bfe0-fcb3b73d709e</td>\n",
       "      <td>sanığın haklarını korumak</td>\n",
       "      <td>0</td>\n",
       "      <td>OTHER</td>\n",
       "    </tr>\n",
       "    <tr>\n",
       "      <th>2</th>\n",
       "      <td>68899d1e-33d8-4392-a988-f68f3da07d19</td>\n",
       "      <td>kadınlar para harcar</td>\n",
       "      <td>1</td>\n",
       "      <td>SEXIST</td>\n",
       "    </tr>\n",
       "    <tr>\n",
       "      <th>3</th>\n",
       "      <td>5bc81173-5544-452b-a019-476a5f4f27b6</td>\n",
       "      <td>kadının tek işi evidir</td>\n",
       "      <td>1</td>\n",
       "      <td>SEXIST</td>\n",
       "    </tr>\n",
       "    <tr>\n",
       "      <th>4</th>\n",
       "      <td>c82e0cb1-fb3c-4e04-932c-895d6a2bfec7</td>\n",
       "      <td>kadının tek görevi erkeklerin ihtiyacını gider...</td>\n",
       "      <td>1</td>\n",
       "      <td>SEXIST</td>\n",
       "    </tr>\n",
       "  </tbody>\n",
       "</table>\n",
       "</div>\n",
       "      <button class=\"colab-df-convert\" onclick=\"convertToInteractive('df-d99d6e2c-74bf-4706-9899-faf4896d38f1')\"\n",
       "              title=\"Convert this dataframe to an interactive table.\"\n",
       "              style=\"display:none;\">\n",
       "        \n",
       "  <svg xmlns=\"http://www.w3.org/2000/svg\" height=\"24px\"viewBox=\"0 0 24 24\"\n",
       "       width=\"24px\">\n",
       "    <path d=\"M0 0h24v24H0V0z\" fill=\"none\"/>\n",
       "    <path d=\"M18.56 5.44l.94 2.06.94-2.06 2.06-.94-2.06-.94-.94-2.06-.94 2.06-2.06.94zm-11 1L8.5 8.5l.94-2.06 2.06-.94-2.06-.94L8.5 2.5l-.94 2.06-2.06.94zm10 10l.94 2.06.94-2.06 2.06-.94-2.06-.94-.94-2.06-.94 2.06-2.06.94z\"/><path d=\"M17.41 7.96l-1.37-1.37c-.4-.4-.92-.59-1.43-.59-.52 0-1.04.2-1.43.59L10.3 9.45l-7.72 7.72c-.78.78-.78 2.05 0 2.83L4 21.41c.39.39.9.59 1.41.59.51 0 1.02-.2 1.41-.59l7.78-7.78 2.81-2.81c.8-.78.8-2.07 0-2.86zM5.41 20L4 18.59l7.72-7.72 1.47 1.35L5.41 20z\"/>\n",
       "  </svg>\n",
       "      </button>\n",
       "      \n",
       "  <style>\n",
       "    .colab-df-container {\n",
       "      display:flex;\n",
       "      flex-wrap:wrap;\n",
       "      gap: 12px;\n",
       "    }\n",
       "\n",
       "    .colab-df-convert {\n",
       "      background-color: #E8F0FE;\n",
       "      border: none;\n",
       "      border-radius: 50%;\n",
       "      cursor: pointer;\n",
       "      display: none;\n",
       "      fill: #1967D2;\n",
       "      height: 32px;\n",
       "      padding: 0 0 0 0;\n",
       "      width: 32px;\n",
       "    }\n",
       "\n",
       "    .colab-df-convert:hover {\n",
       "      background-color: #E2EBFA;\n",
       "      box-shadow: 0px 1px 2px rgba(60, 64, 67, 0.3), 0px 1px 3px 1px rgba(60, 64, 67, 0.15);\n",
       "      fill: #174EA6;\n",
       "    }\n",
       "\n",
       "    [theme=dark] .colab-df-convert {\n",
       "      background-color: #3B4455;\n",
       "      fill: #D2E3FC;\n",
       "    }\n",
       "\n",
       "    [theme=dark] .colab-df-convert:hover {\n",
       "      background-color: #434B5C;\n",
       "      box-shadow: 0px 1px 3px 1px rgba(0, 0, 0, 0.15);\n",
       "      filter: drop-shadow(0px 1px 2px rgba(0, 0, 0, 0.3));\n",
       "      fill: #FFFFFF;\n",
       "    }\n",
       "  </style>\n",
       "\n",
       "      <script>\n",
       "        const buttonEl =\n",
       "          document.querySelector('#df-d99d6e2c-74bf-4706-9899-faf4896d38f1 button.colab-df-convert');\n",
       "        buttonEl.style.display =\n",
       "          google.colab.kernel.accessAllowed ? 'block' : 'none';\n",
       "\n",
       "        async function convertToInteractive(key) {\n",
       "          const element = document.querySelector('#df-d99d6e2c-74bf-4706-9899-faf4896d38f1');\n",
       "          const dataTable =\n",
       "            await google.colab.kernel.invokeFunction('convertToInteractive',\n",
       "                                                     [key], {});\n",
       "          if (!dataTable) return;\n",
       "\n",
       "          const docLinkHtml = 'Like what you see? Visit the ' +\n",
       "            '<a target=\"_blank\" href=https://colab.research.google.com/notebooks/data_table.ipynb>data table notebook</a>'\n",
       "            + ' to learn more about interactive tables.';\n",
       "          element.innerHTML = '';\n",
       "          dataTable['output_type'] = 'display_data';\n",
       "          await google.colab.output.renderOutput(dataTable, element);\n",
       "          const docLink = document.createElement('div');\n",
       "          docLink.innerHTML = docLinkHtml;\n",
       "          element.appendChild(docLink);\n",
       "        }\n",
       "      </script>\n",
       "    </div>\n",
       "  </div>\n",
       "  "
      ],
      "text/plain": [
       "                                     id  \\\n",
       "0  ce129457-8bef-4c2c-89fc-56c2be682c17   \n",
       "1  279123c7-7592-4857-bfe0-fcb3b73d709e   \n",
       "2  68899d1e-33d8-4392-a988-f68f3da07d19   \n",
       "3  5bc81173-5544-452b-a019-476a5f4f27b6   \n",
       "4  c82e0cb1-fb3c-4e04-932c-895d6a2bfec7   \n",
       "\n",
       "                                                text  is_offensive  target  \n",
       "0                              anasını satayım böyle             1  SEXIST  \n",
       "1                          sanığın haklarını korumak             0   OTHER  \n",
       "2                               kadınlar para harcar             1  SEXIST  \n",
       "3                             kadının tek işi evidir             1  SEXIST  \n",
       "4  kadının tek görevi erkeklerin ihtiyacını gider...             1  SEXIST  "
      ]
     },
     "execution_count": 76,
     "metadata": {},
     "output_type": "execute_result"
    }
   ],
   "source": [
    "test_df.head()"
   ]
  },
  {
   "cell_type": "code",
   "execution_count": 77,
   "metadata": {
    "colab": {
     "base_uri": "https://localhost:8080/",
     "height": 206
    },
    "id": "PmNK6PFz8nhc",
    "outputId": "64f199c9-3358-4cf8-acdf-db715f65852e"
   },
   "outputs": [
    {
     "data": {
      "text/html": [
       "\n",
       "  <div id=\"df-ef8a78f3-2d5c-4984-83f1-3d0c462e1318\">\n",
       "    <div class=\"colab-df-container\">\n",
       "      <div>\n",
       "<style scoped>\n",
       "    .dataframe tbody tr th:only-of-type {\n",
       "        vertical-align: middle;\n",
       "    }\n",
       "\n",
       "    .dataframe tbody tr th {\n",
       "        vertical-align: top;\n",
       "    }\n",
       "\n",
       "    .dataframe thead th {\n",
       "        text-align: right;\n",
       "    }\n",
       "</style>\n",
       "<table border=\"1\" class=\"dataframe\">\n",
       "  <thead>\n",
       "    <tr style=\"text-align: right;\">\n",
       "      <th></th>\n",
       "      <th>id</th>\n",
       "      <th>text</th>\n",
       "      <th>is_offensive</th>\n",
       "      <th>target</th>\n",
       "    </tr>\n",
       "  </thead>\n",
       "  <tbody>\n",
       "    <tr>\n",
       "      <th>0</th>\n",
       "      <td>158efe55-dd14-42fe-8080-d82c89d4b1d8</td>\n",
       "      <td>kahve içtim yüzden uykusuzum</td>\n",
       "      <td>1</td>\n",
       "      <td>OTHER</td>\n",
       "    </tr>\n",
       "    <tr>\n",
       "      <th>1</th>\n",
       "      <td>112fee13-5d19-420e-b268-cb66064d803d</td>\n",
       "      <td>kürt zihniyeti</td>\n",
       "      <td>1</td>\n",
       "      <td>RACIST</td>\n",
       "    </tr>\n",
       "    <tr>\n",
       "      <th>2</th>\n",
       "      <td>d389656b-54f6-4db4-83ba-0bbe06cfde0f</td>\n",
       "      <td>parfüm kokundan burnumun direği sızladı</td>\n",
       "      <td>1</td>\n",
       "      <td>INSULT</td>\n",
       "    </tr>\n",
       "    <tr>\n",
       "      <th>3</th>\n",
       "      <td>7486fef9-83b8-4bbb-8541-561b5497c6cc</td>\n",
       "      <td>gavurlar yaptıysa doğrudur</td>\n",
       "      <td>1</td>\n",
       "      <td>RACIST</td>\n",
       "    </tr>\n",
       "    <tr>\n",
       "      <th>4</th>\n",
       "      <td>63bf4346-c53c-4c56-b7b0-471436860011</td>\n",
       "      <td>30 yaşını geçmiş kadın saaten sonra zor evlenir</td>\n",
       "      <td>1</td>\n",
       "      <td>SEXIST</td>\n",
       "    </tr>\n",
       "  </tbody>\n",
       "</table>\n",
       "</div>\n",
       "      <button class=\"colab-df-convert\" onclick=\"convertToInteractive('df-ef8a78f3-2d5c-4984-83f1-3d0c462e1318')\"\n",
       "              title=\"Convert this dataframe to an interactive table.\"\n",
       "              style=\"display:none;\">\n",
       "        \n",
       "  <svg xmlns=\"http://www.w3.org/2000/svg\" height=\"24px\"viewBox=\"0 0 24 24\"\n",
       "       width=\"24px\">\n",
       "    <path d=\"M0 0h24v24H0V0z\" fill=\"none\"/>\n",
       "    <path d=\"M18.56 5.44l.94 2.06.94-2.06 2.06-.94-2.06-.94-.94-2.06-.94 2.06-2.06.94zm-11 1L8.5 8.5l.94-2.06 2.06-.94-2.06-.94L8.5 2.5l-.94 2.06-2.06.94zm10 10l.94 2.06.94-2.06 2.06-.94-2.06-.94-.94-2.06-.94 2.06-2.06.94z\"/><path d=\"M17.41 7.96l-1.37-1.37c-.4-.4-.92-.59-1.43-.59-.52 0-1.04.2-1.43.59L10.3 9.45l-7.72 7.72c-.78.78-.78 2.05 0 2.83L4 21.41c.39.39.9.59 1.41.59.51 0 1.02-.2 1.41-.59l7.78-7.78 2.81-2.81c.8-.78.8-2.07 0-2.86zM5.41 20L4 18.59l7.72-7.72 1.47 1.35L5.41 20z\"/>\n",
       "  </svg>\n",
       "      </button>\n",
       "      \n",
       "  <style>\n",
       "    .colab-df-container {\n",
       "      display:flex;\n",
       "      flex-wrap:wrap;\n",
       "      gap: 12px;\n",
       "    }\n",
       "\n",
       "    .colab-df-convert {\n",
       "      background-color: #E8F0FE;\n",
       "      border: none;\n",
       "      border-radius: 50%;\n",
       "      cursor: pointer;\n",
       "      display: none;\n",
       "      fill: #1967D2;\n",
       "      height: 32px;\n",
       "      padding: 0 0 0 0;\n",
       "      width: 32px;\n",
       "    }\n",
       "\n",
       "    .colab-df-convert:hover {\n",
       "      background-color: #E2EBFA;\n",
       "      box-shadow: 0px 1px 2px rgba(60, 64, 67, 0.3), 0px 1px 3px 1px rgba(60, 64, 67, 0.15);\n",
       "      fill: #174EA6;\n",
       "    }\n",
       "\n",
       "    [theme=dark] .colab-df-convert {\n",
       "      background-color: #3B4455;\n",
       "      fill: #D2E3FC;\n",
       "    }\n",
       "\n",
       "    [theme=dark] .colab-df-convert:hover {\n",
       "      background-color: #434B5C;\n",
       "      box-shadow: 0px 1px 3px 1px rgba(0, 0, 0, 0.15);\n",
       "      filter: drop-shadow(0px 1px 2px rgba(0, 0, 0, 0.3));\n",
       "      fill: #FFFFFF;\n",
       "    }\n",
       "  </style>\n",
       "\n",
       "      <script>\n",
       "        const buttonEl =\n",
       "          document.querySelector('#df-ef8a78f3-2d5c-4984-83f1-3d0c462e1318 button.colab-df-convert');\n",
       "        buttonEl.style.display =\n",
       "          google.colab.kernel.accessAllowed ? 'block' : 'none';\n",
       "\n",
       "        async function convertToInteractive(key) {\n",
       "          const element = document.querySelector('#df-ef8a78f3-2d5c-4984-83f1-3d0c462e1318');\n",
       "          const dataTable =\n",
       "            await google.colab.kernel.invokeFunction('convertToInteractive',\n",
       "                                                     [key], {});\n",
       "          if (!dataTable) return;\n",
       "\n",
       "          const docLinkHtml = 'Like what you see? Visit the ' +\n",
       "            '<a target=\"_blank\" href=https://colab.research.google.com/notebooks/data_table.ipynb>data table notebook</a>'\n",
       "            + ' to learn more about interactive tables.';\n",
       "          element.innerHTML = '';\n",
       "          dataTable['output_type'] = 'display_data';\n",
       "          await google.colab.output.renderOutput(dataTable, element);\n",
       "          const docLink = document.createElement('div');\n",
       "          docLink.innerHTML = docLinkHtml;\n",
       "          element.appendChild(docLink);\n",
       "        }\n",
       "      </script>\n",
       "    </div>\n",
       "  </div>\n",
       "  "
      ],
      "text/plain": [
       "                                     id  \\\n",
       "0  158efe55-dd14-42fe-8080-d82c89d4b1d8   \n",
       "1  112fee13-5d19-420e-b268-cb66064d803d   \n",
       "2  d389656b-54f6-4db4-83ba-0bbe06cfde0f   \n",
       "3  7486fef9-83b8-4bbb-8541-561b5497c6cc   \n",
       "4  63bf4346-c53c-4c56-b7b0-471436860011   \n",
       "\n",
       "                                              text  is_offensive  target  \n",
       "0                     kahve içtim yüzden uykusuzum             1   OTHER  \n",
       "1                                   kürt zihniyeti             1  RACIST  \n",
       "2          parfüm kokundan burnumun direği sızladı             1  INSULT  \n",
       "3                       gavurlar yaptıysa doğrudur             1  RACIST  \n",
       "4  30 yaşını geçmiş kadın saaten sonra zor evlenir             1  SEXIST  "
      ]
     },
     "execution_count": 77,
     "metadata": {},
     "output_type": "execute_result"
    }
   ],
   "source": [
    "train_df.head()"
   ]
  },
  {
   "cell_type": "code",
   "execution_count": 78,
   "metadata": {
    "id": "MxZ1fHJs1JH_"
   },
   "outputs": [],
   "source": [
    "X_train = train_df.iloc[:,1]\n",
    "Y_train = train_df.iloc[:,2]\n",
    "X_test = test_df.iloc[:,1]\n",
    "Y_test = test_df.iloc[:,2]\n",
    "X_val = val_df.iloc[:,1]\n",
    "Y_val = val_df.iloc[:,2]"
   ]
  },
  {
   "cell_type": "code",
   "execution_count": 79,
   "metadata": {
    "colab": {
     "base_uri": "https://localhost:8080/"
    },
    "id": "ESWaVnot1nCx",
    "outputId": "677eb6c1-a218-4be3-bd5c-8789634a0df1"
   },
   "outputs": [
    {
     "name": "stdout",
     "output_type": "stream",
     "text": [
      "X_train shape: (9968,)\n",
      "Y_train shape: (9968,)\n",
      "X_test shape: (748,)\n",
      "Y_test shape: (748,)\n",
      "X_val shape: (1745,)\n",
      "Y_val shape: (1745,)\n",
      "\n"
     ]
    }
   ],
   "source": [
    "print(f\"X_train shape: {X_train.shape}\\nY_train shape: {Y_train.shape}\\nX_test shape: {X_test.shape}\\nY_test shape: {Y_test.shape}\\nX_val shape: {X_val.shape}\\nY_val shape: {Y_val.shape}\\n\")"
   ]
  },
  {
   "cell_type": "markdown",
   "metadata": {
    "id": "3FXIlDUeApLg"
   },
   "source": [
    "## TfidfVectorizer Ve CountVectorizer Arasındaki Fark Nedir?\n",
    "CountVectorizer, bir kelimenin bir belgede kaç kez göründüğünü sayar (bag of word yaklaşımı kullanarak), TF-IDF Vectorizer ise bir kelimenin yalnızca bir belgede kaç kez geçtiğini değil, aynı zamanda o kelimenin ne kadar önemli olduğunu da hesaba katar."
   ]
  },
  {
   "cell_type": "markdown",
   "metadata": {
    "id": "SIUV7yR-54cp"
   },
   "source": [
    "# CountVectorizer + Navie Bayes Sonuçları"
   ]
  },
  {
   "cell_type": "code",
   "execution_count": 80,
   "metadata": {
    "id": "y2cna7FG1lYt"
   },
   "outputs": [],
   "source": [
    "count_vectorizer = CountVectorizer()\n",
    "X_train_tf = count_vectorizer.fit_transform(X_train)"
   ]
  },
  {
   "cell_type": "code",
   "execution_count": 81,
   "metadata": {
    "colab": {
     "base_uri": "https://localhost:8080/"
    },
    "id": "AIGH9xgM2-RV",
    "outputId": "68f9e617-0c01-4fa8-83b1-23cc94f78940"
   },
   "outputs": [
    {
     "data": {
      "text/plain": [
       "(9968, 20978)"
      ]
     },
     "execution_count": 81,
     "metadata": {},
     "output_type": "execute_result"
    }
   ],
   "source": [
    "X_train_tf.shape\n",
    "# 20978 adet feature mevcut"
   ]
  },
  {
   "cell_type": "code",
   "execution_count": 82,
   "metadata": {
    "id": "lWm-S2d72_Qs"
   },
   "outputs": [],
   "source": [
    "X_test_tf = count_vectorizer.transform(X_test)"
   ]
  },
  {
   "cell_type": "code",
   "execution_count": 83,
   "metadata": {
    "id": "dT-B0VZQ-4RF"
   },
   "outputs": [],
   "source": [
    "X_val_tf = count_vectorizer.transform(X_val)"
   ]
  },
  {
   "cell_type": "code",
   "execution_count": 84,
   "metadata": {
    "colab": {
     "base_uri": "https://localhost:8080/"
    },
    "id": "MF9aHCgc3mG5",
    "outputId": "18b81fda-acca-4b0c-d270-b287001d8c09"
   },
   "outputs": [
    {
     "data": {
      "text/plain": [
       "(748, 20978)"
      ]
     },
     "execution_count": 84,
     "metadata": {},
     "output_type": "execute_result"
    }
   ],
   "source": [
    "X_test_tf.shape"
   ]
  },
  {
   "cell_type": "code",
   "execution_count": 85,
   "metadata": {
    "colab": {
     "base_uri": "https://localhost:8080/"
    },
    "id": "znXW9kkH-7a0",
    "outputId": "df205ea2-92cd-4561-a819-1cc4297a86fc"
   },
   "outputs": [
    {
     "data": {
      "text/plain": [
       "(1745, 20978)"
      ]
     },
     "execution_count": 85,
     "metadata": {},
     "output_type": "execute_result"
    }
   ],
   "source": [
    "X_val_tf.shape"
   ]
  },
  {
   "cell_type": "code",
   "execution_count": null,
   "metadata": {
    "id": "OmeM4aiI3nHo"
   },
   "outputs": [],
   "source": [
    "naive_bayes_classifier = MultinomialNB()\n",
    "naive_bayes_classifier.fit(X_train_tf, Y_train)"
   ]
  },
  {
   "cell_type": "code",
   "execution_count": 87,
   "metadata": {
    "id": "ETd5eMKU3_KN"
   },
   "outputs": [],
   "source": [
    "y_pred = naive_bayes_classifier.predict(X_test_tf)\n",
    "y_val_pred = naive_bayes_classifier.predict(X_val_tf)\n",
    "train_pred = naive_bayes_classifier.predict(X_train_tf)"
   ]
  },
  {
   "cell_type": "markdown",
   "metadata": {
    "id": "mY0c9b_J4n4k"
   },
   "source": [
    "### CountVectorizer + Navie Bayes Train Sonuçları"
   ]
  },
  {
   "cell_type": "code",
   "execution_count": 88,
   "metadata": {
    "colab": {
     "base_uri": "https://localhost:8080/"
    },
    "id": "c-DHnhjf4keu",
    "outputId": "cc6f515e-035c-49e1-c17a-a864d2f44d29"
   },
   "outputs": [
    {
     "name": "stdout",
     "output_type": "stream",
     "text": [
      "TRAIN DATA\n",
      "accuracy:   0.972\n",
      "              precision    recall  f1-score   support\n",
      "\n",
      "    Positive       0.99      0.92      0.95      2817\n",
      "    Negative       0.97      0.99      0.98      7151\n",
      "\n",
      "    accuracy                           0.97      9968\n",
      "   macro avg       0.98      0.96      0.97      9968\n",
      "weighted avg       0.97      0.97      0.97      9968\n",
      "\n",
      "confusion matrix:\n",
      "[[2579  238]\n",
      " [  37 7114]]\n"
     ]
    }
   ],
   "source": [
    "print(\"TRAIN DATA\")\n",
    "score2 = metrics.accuracy_score(Y_train, train_pred)\n",
    "print(\"accuracy:   %0.3f\" % score2)\n",
    "\n",
    "print(metrics.classification_report(Y_train, train_pred,\n",
    "                                            target_names=['Positive', 'Negative']))\n",
    "\n",
    "print(\"confusion matrix:\")\n",
    "print(metrics.confusion_matrix(Y_train, train_pred))"
   ]
  },
  {
   "cell_type": "markdown",
   "metadata": {
    "id": "8C5dEZ0V4qcE"
   },
   "source": [
    "### CountVectorizer + Navie Bayes Validation Sonuçları"
   ]
  },
  {
   "cell_type": "code",
   "execution_count": 89,
   "metadata": {
    "colab": {
     "base_uri": "https://localhost:8080/"
    },
    "id": "fhpTaMml_ACL",
    "outputId": "e23abaa9-9fb1-4b39-cf63-649984e1dccb"
   },
   "outputs": [
    {
     "name": "stdout",
     "output_type": "stream",
     "text": [
      "VALIDATION DATA\n",
      "accuracy:   0.886\n",
      "              precision    recall  f1-score   support\n",
      "\n",
      "    Positive       0.89      0.68      0.77       493\n",
      "    Negative       0.88      0.97      0.92      1252\n",
      "\n",
      "    accuracy                           0.89      1745\n",
      "   macro avg       0.89      0.82      0.85      1745\n",
      "weighted avg       0.89      0.89      0.88      1745\n",
      "\n",
      "confusion matrix:\n",
      "[[ 335  158]\n",
      " [  41 1211]]\n"
     ]
    }
   ],
   "source": [
    "print(\"VALIDATION DATA\")\n",
    "score2 = metrics.accuracy_score(Y_val, y_val_pred)\n",
    "print(\"accuracy:   %0.3f\" % score2)\n",
    "\n",
    "print(metrics.classification_report(Y_val, y_val_pred,\n",
    "                                            target_names=['Positive', 'Negative']))\n",
    "\n",
    "print(\"confusion matrix:\")\n",
    "print(metrics.confusion_matrix(Y_val, y_val_pred))"
   ]
  },
  {
   "cell_type": "markdown",
   "metadata": {
    "id": "ZYe9vZFb4tf8"
   },
   "source": [
    "### CountVectorizer + Navie Bayes Test Sonuçları"
   ]
  },
  {
   "cell_type": "code",
   "execution_count": 90,
   "metadata": {
    "colab": {
     "base_uri": "https://localhost:8080/"
    },
    "id": "gDhI4dfR4JcS",
    "outputId": "a92e0348-abbe-4cd7-80c1-03bc4c97f554"
   },
   "outputs": [
    {
     "name": "stdout",
     "output_type": "stream",
     "text": [
      "TEST DATA\n",
      "accuracy:   0.893\n",
      "              precision    recall  f1-score   support\n",
      "\n",
      "    Positive       0.92      0.68      0.78       212\n",
      "    Negative       0.89      0.98      0.93       536\n",
      "\n",
      "    accuracy                           0.89       748\n",
      "   macro avg       0.90      0.83      0.86       748\n",
      "weighted avg       0.90      0.89      0.89       748\n",
      "\n",
      "confusion matrix:\n",
      "[[144  68]\n",
      " [ 12 524]]\n"
     ]
    }
   ],
   "source": [
    "print(\"TEST DATA\")\n",
    "score1 = metrics.accuracy_score(Y_test, y_pred)\n",
    "print(\"accuracy:   %0.3f\" % score1)\n",
    "\n",
    "print(metrics.classification_report(Y_test, y_pred,\n",
    "                                            target_names=['Positive', 'Negative']))\n",
    "\n",
    "print(\"confusion matrix:\")\n",
    "print(metrics.confusion_matrix(Y_test, y_pred))"
   ]
  },
  {
   "cell_type": "markdown",
   "metadata": {
    "id": "4Zs2CR-B599y"
   },
   "source": [
    "# TfidfVectorizer + Navie Bayes Sonuçları"
   ]
  },
  {
   "cell_type": "code",
   "execution_count": 91,
   "metadata": {
    "id": "83mP91r34_d_"
   },
   "outputs": [],
   "source": [
    "tf_vectorizer = TfidfVectorizer()\n",
    "X_train_tf = tf_vectorizer.fit_transform(X_train)"
   ]
  },
  {
   "cell_type": "code",
   "execution_count": 92,
   "metadata": {
    "colab": {
     "base_uri": "https://localhost:8080/"
    },
    "id": "-Rg5iceo6GjV",
    "outputId": "cd91b7a6-bd3f-4f1d-f777-9368295ef6d0"
   },
   "outputs": [
    {
     "data": {
      "text/plain": [
       "(9968, 20978)"
      ]
     },
     "execution_count": 92,
     "metadata": {},
     "output_type": "execute_result"
    }
   ],
   "source": [
    "X_train_tf.shape"
   ]
  },
  {
   "cell_type": "code",
   "execution_count": 93,
   "metadata": {
    "id": "MPHuUIjH6Gy5"
   },
   "outputs": [],
   "source": [
    "X_test_tf = tf_vectorizer.transform(X_test)"
   ]
  },
  {
   "cell_type": "code",
   "execution_count": 94,
   "metadata": {
    "id": "CWmcHXlM86RJ"
   },
   "outputs": [],
   "source": [
    "X_val_tf = tf_vectorizer.transform(X_val)"
   ]
  },
  {
   "cell_type": "code",
   "execution_count": 95,
   "metadata": {
    "colab": {
     "base_uri": "https://localhost:8080/"
    },
    "id": "qaCGC4wG6Ka8",
    "outputId": "39f08483-722d-4e49-a08a-51134e3bd71d"
   },
   "outputs": [
    {
     "data": {
      "text/plain": [
       "(748, 20978)"
      ]
     },
     "execution_count": 95,
     "metadata": {},
     "output_type": "execute_result"
    }
   ],
   "source": [
    "X_test_tf.shape"
   ]
  },
  {
   "cell_type": "code",
   "execution_count": 96,
   "metadata": {
    "colab": {
     "base_uri": "https://localhost:8080/"
    },
    "id": "4ed40CCg9QBe",
    "outputId": "915c948e-ceca-4b35-dd82-52f7604eff63"
   },
   "outputs": [
    {
     "data": {
      "text/plain": [
       "(1745, 20978)"
      ]
     },
     "execution_count": 96,
     "metadata": {},
     "output_type": "execute_result"
    }
   ],
   "source": [
    "X_val_tf.shape"
   ]
  },
  {
   "cell_type": "code",
   "execution_count": null,
   "metadata": {
    "id": "ylrxrTEM6L7d"
   },
   "outputs": [],
   "source": [
    "naive_bayes_classifier = MultinomialNB()\n",
    "naive_bayes_classifier.fit(X_train_tf, Y_train)"
   ]
  },
  {
   "cell_type": "code",
   "execution_count": 98,
   "metadata": {
    "id": "MBqZ11cj6PrG"
   },
   "outputs": [],
   "source": [
    "y_pred = naive_bayes_classifier.predict(X_test_tf)\n",
    "y_val_pred = naive_bayes_classifier.predict(X_val_tf)\n",
    "train_pred = naive_bayes_classifier.predict(X_train_tf)"
   ]
  },
  {
   "cell_type": "markdown",
   "metadata": {
    "id": "F2Rhw3pn4dYh"
   },
   "source": [
    "### TfidfVectorizer + Navie Bayes Train Sonuçları"
   ]
  },
  {
   "cell_type": "code",
   "execution_count": 99,
   "metadata": {
    "colab": {
     "base_uri": "https://localhost:8080/"
    },
    "id": "K4kuvfxO6RKz",
    "outputId": "c6594952-f9b4-42e9-de32-9f6a708e207b"
   },
   "outputs": [
    {
     "name": "stdout",
     "output_type": "stream",
     "text": [
      "TRAIN DATA\n",
      "accuracy:   0.930\n",
      "              precision    recall  f1-score   support\n",
      "\n",
      "    Positive       1.00      0.75      0.86      2817\n",
      "    Negative       0.91      1.00      0.95      7151\n",
      "\n",
      "    accuracy                           0.93      9968\n",
      "   macro avg       0.96      0.88      0.91      9968\n",
      "weighted avg       0.94      0.93      0.93      9968\n",
      "\n",
      "confusion matrix:\n",
      "[[2123  694]\n",
      " [   3 7148]]\n"
     ]
    }
   ],
   "source": [
    "print(\"TRAIN DATA\")\n",
    "score2 = metrics.accuracy_score(Y_train, train_pred)\n",
    "print(\"accuracy:   %0.3f\" % score2)\n",
    "\n",
    "print(metrics.classification_report(Y_train, train_pred,\n",
    "                                            target_names=['Positive', 'Negative']))\n",
    "\n",
    "print(\"confusion matrix:\")\n",
    "print(metrics.confusion_matrix(Y_train, train_pred))"
   ]
  },
  {
   "cell_type": "markdown",
   "metadata": {
    "id": "fSuD0KMb4im-"
   },
   "source": [
    "### TfidfVectorizer + Navie Bayes Validation Sonuçları"
   ]
  },
  {
   "cell_type": "code",
   "execution_count": 100,
   "metadata": {
    "colab": {
     "base_uri": "https://localhost:8080/"
    },
    "id": "eG4LI8EX-QD-",
    "outputId": "04e97bad-418d-4664-e933-410b83e8f220"
   },
   "outputs": [
    {
     "name": "stdout",
     "output_type": "stream",
     "text": [
      "VALIDATION DATA\n",
      "accuracy:   0.834\n",
      "              precision    recall  f1-score   support\n",
      "\n",
      "    Positive       0.96      0.43      0.59       493\n",
      "    Negative       0.82      0.99      0.90      1252\n",
      "\n",
      "    accuracy                           0.83      1745\n",
      "   macro avg       0.89      0.71      0.74      1745\n",
      "weighted avg       0.86      0.83      0.81      1745\n",
      "\n",
      "confusion matrix:\n",
      "[[ 212  281]\n",
      " [   9 1243]]\n"
     ]
    }
   ],
   "source": [
    "print(\"VALIDATION DATA\")\n",
    "score2 = metrics.accuracy_score(Y_val, y_val_pred)\n",
    "print(\"accuracy:   %0.3f\" % score2)\n",
    "\n",
    "print(metrics.classification_report(Y_val, y_val_pred,\n",
    "                                            target_names=['Positive', 'Negative']))\n",
    "\n",
    "print(\"confusion matrix:\")\n",
    "print(metrics.confusion_matrix(Y_val, y_val_pred))"
   ]
  },
  {
   "cell_type": "markdown",
   "metadata": {
    "id": "EBTHVCZ84krI"
   },
   "source": [
    "### TfidfVectorizer + Navie Bayes Test Sonuçları"
   ]
  },
  {
   "cell_type": "code",
   "execution_count": 101,
   "metadata": {
    "colab": {
     "base_uri": "https://localhost:8080/"
    },
    "id": "2fC20JVE6VOE",
    "outputId": "100563f4-c0b4-45e1-f15d-baa403885435"
   },
   "outputs": [
    {
     "name": "stdout",
     "output_type": "stream",
     "text": [
      "TEST DATA\n",
      "accuracy:   0.828\n",
      "              precision    recall  f1-score   support\n",
      "\n",
      "    Positive       0.98      0.40      0.57       212\n",
      "    Negative       0.81      1.00      0.89       536\n",
      "\n",
      "    accuracy                           0.83       748\n",
      "   macro avg       0.89      0.70      0.73       748\n",
      "weighted avg       0.86      0.83      0.80       748\n",
      "\n",
      "confusion matrix:\n",
      "[[ 85 127]\n",
      " [  2 534]]\n"
     ]
    }
   ],
   "source": [
    "print(\"TEST DATA\")\n",
    "score1 = metrics.accuracy_score(Y_test, y_pred)\n",
    "print(\"accuracy:   %0.3f\" % score1)\n",
    "\n",
    "print(metrics.classification_report(Y_test, y_pred,\n",
    "                                            target_names=['Positive', 'Negative']))\n",
    "\n",
    "print(\"confusion matrix:\")\n",
    "print(metrics.confusion_matrix(Y_test, y_pred))"
   ]
  }
 ],
 "metadata": {
  "colab": {
   "provenance": []
  },
  "kernelspec": {
   "display_name": "Python 3 (ipykernel)",
   "language": "python",
   "name": "python3"
  },
  "language_info": {
   "codemirror_mode": {
    "name": "ipython",
    "version": 3
   },
   "file_extension": ".py",
   "mimetype": "text/x-python",
   "name": "python",
   "nbconvert_exporter": "python",
   "pygments_lexer": "ipython3",
   "version": "3.9.11"
  }
 },
 "nbformat": 4,
 "nbformat_minor": 1
}
